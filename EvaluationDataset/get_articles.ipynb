{
 "cells": [
  {
   "cell_type": "code",
   "execution_count": 2,
   "metadata": {},
   "outputs": [
    {
     "name": "stdout",
     "output_type": "stream",
     "text": [
      "Files have been successfully converted to JSON and saved in the 'combined_articles' folder.\n"
     ]
    }
   ],
   "source": [
    "import os\n",
    "import json\n",
    "\n",
    "# Define the range of folders and the base folder name\n",
    "folder_range = range(100)  # 0 to 99\n",
    "base_folder_name = \"testData_\"\n",
    "output_folder = \"combined_articles\"\n",
    "\n",
    "# Create the output folder if it doesn't exist\n",
    "os.makedirs(output_folder, exist_ok=True)\n",
    "\n",
    "# Loop through each folder\n",
    "for i in folder_range:\n",
    "    folder_name = f\"{base_folder_name}{i}\"\n",
    "    \n",
    "    # Check if the folder exists\n",
    "    if os.path.isdir(folder_name):\n",
    "        \n",
    "        # Loop through each file in the folder\n",
    "        for filename in os.listdir(folder_name):\n",
    "            file_path = os.path.join(folder_name, filename)\n",
    "            \n",
    "            # Check if the current item is a file\n",
    "            if os.path.isfile(file_path):\n",
    "                \n",
    "                # Read the file contents\n",
    "                with open(file_path, \"r\", encoding=\"utf-8\") as file:\n",
    "                    lines = file.readlines()\n",
    "                    \n",
    "                    # Ensure there are at least 2 lines for title and content\n",
    "                    if len(lines) >= 2:\n",
    "                        title = lines[0].strip()\n",
    "                        content = lines[1].strip()\n",
    "                        \n",
    "                        # Create a JSON object\n",
    "                        data = {\n",
    "                            \"title\": title,\n",
    "                            \"content\": content\n",
    "                        }\n",
    "                        \n",
    "                        # Remove the .txt extension for the output JSON filename\n",
    "                        base_filename = os.path.splitext(filename)[0]\n",
    "                        output_file_path = os.path.join(output_folder, f\"{base_filename}.json\")\n",
    "                        \n",
    "                        # Write the JSON data to a new file\n",
    "                        with open(output_file_path, \"w\", encoding=\"utf-8\") as json_file:\n",
    "                            json.dump(data, json_file, indent=4)\n",
    "                            \n",
    "print(\"Files have been successfully converted to JSON and saved in the 'combined_articles' folder.\")\n",
    "\n"
   ]
  }
 ],
 "metadata": {
  "kernelspec": {
   "display_name": "Python 3",
   "language": "python",
   "name": "python3"
  },
  "language_info": {
   "codemirror_mode": {
    "name": "ipython",
    "version": 3
   },
   "file_extension": ".py",
   "mimetype": "text/x-python",
   "name": "python",
   "nbconvert_exporter": "python",
   "pygments_lexer": "ipython3",
   "version": "3.10.12"
  }
 },
 "nbformat": 4,
 "nbformat_minor": 2
}
