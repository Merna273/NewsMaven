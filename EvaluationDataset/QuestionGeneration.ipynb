{
 "cells": [
  {
   "cell_type": "code",
   "execution_count": 8,
   "metadata": {},
   "outputs": [],
   "source": [
    "import os\n",
    "from langchain_openai.chat_models import AzureChatOpenAI\n",
    "from langchain_openai.embeddings import AzureOpenAIEmbeddings\n",
    "from langchain.embeddings.huggingface import HuggingFaceBgeEmbeddings\n",
    "from llama_index.core import Settings\n",
    "\n",
    "os.environ[\"AZURE_OPENAI_API_KEY\"] = \"5fa9e8a1631f4dc4bd6cc9bf6cb0cdcc\"\n",
    "os.environ[\"AZURE_OPENAI_ENDPOINT\"] = \"https://newsaugsponsored.openai.azure.com/\"\n",
    "\n",
    "\n",
    "azure_configs = {\n",
    "    \"api_key\":\"5fa9e8a1631f4dc4bd6cc9bf6cb0cdcc\",\n",
    "    \"azure_endpoint\": \"https://newsaugsponsored.openai.azure.com/\",\n",
    "    \"model_deployment\": \"AzureNewsAug\",\n",
    "    \"model_name\": \"gpt-35-turbo-16k\",\n",
    "    \"embedding_deployment\": \"embedding_model\",\n",
    "    \"embedding_name\": \"text-embedding-ada-002\",  # most likely\n",
    "}\n",
    "azure_model = AzureChatOpenAI(\n",
    "    openai_api_version=\"2023-05-15\",\n",
    "    # base_url=azure_configs[\"azure_endpoint\"],\n",
    "    azure_deployment=azure_configs[\"model_deployment\"],\n",
    "    model=azure_configs[\"model_name\"],\n",
    "    validate_base_url=False,\n",
    ")\n",
    "Settings.llm = azure_model\n",
    "Settings.embed_model = azure_model\n"
   ]
  },
  {
   "cell_type": "code",
   "execution_count": 9,
   "metadata": {},
   "outputs": [],
   "source": [
    "from llama_index.llms.azure_openai import AzureOpenAI\n",
    "from llama_index.embeddings.azure_openai import AzureOpenAIEmbedding\n",
    "from llama_index.core import VectorStoreIndex, SimpleDirectoryReader\n",
    "import logging\n",
    "import sys\n",
    "\n",
    "logging.basicConfig(\n",
    "    stream=sys.stdout, level=logging.INFO\n",
    ")  # logging.DEBUG for more verbose output\n",
    "logging.getLogger().addHandler(logging.StreamHandler(stream=sys.stdout))"
   ]
  },
  {
   "cell_type": "code",
   "execution_count": 43,
   "metadata": {},
   "outputs": [],
   "source": [
    "from llama_index.core.evaluation import DatasetGenerator, RelevancyEvaluator\n",
    "from llama_index.core import SimpleDirectoryReader, VectorStoreIndex, Response\n",
    "from llama_index.llms.openai import OpenAI\n",
    "import nest_asyncio\n",
    "import pandas as pd"
   ]
  },
  {
   "cell_type": "code",
   "execution_count": 44,
   "metadata": {},
   "outputs": [
    {
     "name": "stderr",
     "output_type": "stream",
     "text": [
      "/home/g2/.local/lib/python3.10/site-packages/llama_index/core/evaluation/dataset_generation.py:215: DeprecationWarning: Call to deprecated class DatasetGenerator. (Deprecated in favor of `RagDatasetGenerator` which should be used instead.)\n",
      "  return cls(\n"
     ]
    },
    {
     "name": "stdout",
     "output_type": "stream",
     "text": [
      "INFO:httpx:HTTP Request: POST https://newsaugsponsored.openai.azure.com//openai/deployments/AzureNewsAug/chat/completions?api-version=2023-05-15 \"HTTP/1.1 200 OK\"\n",
      "HTTP Request: POST https://newsaugsponsored.openai.azure.com//openai/deployments/AzureNewsAug/chat/completions?api-version=2023-05-15 \"HTTP/1.1 200 OK\"\n",
      "HTTP Request: POST https://newsaugsponsored.openai.azure.com//openai/deployments/AzureNewsAug/chat/completions?api-version=2023-05-15 \"HTTP/1.1 200 OK\"\n",
      "INFO:httpx:HTTP Request: POST https://newsaugsponsored.openai.azure.com//openai/deployments/AzureNewsAug/chat/completions?api-version=2023-05-15 \"HTTP/1.1 200 OK\"\n",
      "HTTP Request: POST https://newsaugsponsored.openai.azure.com//openai/deployments/AzureNewsAug/chat/completions?api-version=2023-05-15 \"HTTP/1.1 200 OK\"\n",
      "HTTP Request: POST https://newsaugsponsored.openai.azure.com//openai/deployments/AzureNewsAug/chat/completions?api-version=2023-05-15 \"HTTP/1.1 200 OK\"\n",
      "INFO:httpx:HTTP Request: POST https://newsaugsponsored.openai.azure.com//openai/deployments/AzureNewsAug/chat/completions?api-version=2023-05-15 \"HTTP/1.1 200 OK\"\n",
      "HTTP Request: POST https://newsaugsponsored.openai.azure.com//openai/deployments/AzureNewsAug/chat/completions?api-version=2023-05-15 \"HTTP/1.1 200 OK\"\n",
      "HTTP Request: POST https://newsaugsponsored.openai.azure.com//openai/deployments/AzureNewsAug/chat/completions?api-version=2023-05-15 \"HTTP/1.1 200 OK\"\n",
      "INFO:httpx:HTTP Request: POST https://newsaugsponsored.openai.azure.com//openai/deployments/AzureNewsAug/chat/completions?api-version=2023-05-15 \"HTTP/1.1 200 OK\"\n",
      "HTTP Request: POST https://newsaugsponsored.openai.azure.com//openai/deployments/AzureNewsAug/chat/completions?api-version=2023-05-15 \"HTTP/1.1 200 OK\"\n",
      "HTTP Request: POST https://newsaugsponsored.openai.azure.com//openai/deployments/AzureNewsAug/chat/completions?api-version=2023-05-15 \"HTTP/1.1 200 OK\"\n",
      "INFO:httpx:HTTP Request: POST https://newsaugsponsored.openai.azure.com//openai/deployments/AzureNewsAug/chat/completions?api-version=2023-05-15 \"HTTP/1.1 200 OK\"\n",
      "HTTP Request: POST https://newsaugsponsored.openai.azure.com//openai/deployments/AzureNewsAug/chat/completions?api-version=2023-05-15 \"HTTP/1.1 200 OK\"\n",
      "HTTP Request: POST https://newsaugsponsored.openai.azure.com//openai/deployments/AzureNewsAug/chat/completions?api-version=2023-05-15 \"HTTP/1.1 200 OK\"\n"
     ]
    },
    {
     "name": "stderr",
     "output_type": "stream",
     "text": [
      "/home/g2/.local/lib/python3.10/site-packages/llama_index/core/evaluation/dataset_generation.py:312: DeprecationWarning: Call to deprecated class QueryResponseDataset. (Deprecated in favor of `LabelledRagDataset` which should be used instead.)\n",
      "  return QueryResponseDataset(queries=queries, responses=responses_dict)\n",
      "/home/g2/.local/lib/python3.10/site-packages/llama_index/core/evaluation/dataset_generation.py:215: DeprecationWarning: Call to deprecated class DatasetGenerator. (Deprecated in favor of `RagDatasetGenerator` which should be used instead.)\n",
      "  return cls(\n"
     ]
    },
    {
     "name": "stdout",
     "output_type": "stream",
     "text": [
      "INFO:httpx:HTTP Request: POST https://newsaugsponsored.openai.azure.com//openai/deployments/AzureNewsAug/chat/completions?api-version=2023-05-15 \"HTTP/1.1 200 OK\"\n",
      "HTTP Request: POST https://newsaugsponsored.openai.azure.com//openai/deployments/AzureNewsAug/chat/completions?api-version=2023-05-15 \"HTTP/1.1 200 OK\"\n",
      "HTTP Request: POST https://newsaugsponsored.openai.azure.com//openai/deployments/AzureNewsAug/chat/completions?api-version=2023-05-15 \"HTTP/1.1 200 OK\"\n",
      "INFO:httpx:HTTP Request: POST https://newsaugsponsored.openai.azure.com//openai/deployments/AzureNewsAug/chat/completions?api-version=2023-05-15 \"HTTP/1.1 200 OK\"\n",
      "HTTP Request: POST https://newsaugsponsored.openai.azure.com//openai/deployments/AzureNewsAug/chat/completions?api-version=2023-05-15 \"HTTP/1.1 200 OK\"\n",
      "HTTP Request: POST https://newsaugsponsored.openai.azure.com//openai/deployments/AzureNewsAug/chat/completions?api-version=2023-05-15 \"HTTP/1.1 200 OK\"\n"
     ]
    },
    {
     "name": "stderr",
     "output_type": "stream",
     "text": [
      "/home/g2/.local/lib/python3.10/site-packages/llama_index/core/evaluation/dataset_generation.py:312: DeprecationWarning: Call to deprecated class QueryResponseDataset. (Deprecated in favor of `LabelledRagDataset` which should be used instead.)\n",
      "  return QueryResponseDataset(queries=queries, responses=responses_dict)\n",
      "/home/g2/.local/lib/python3.10/site-packages/llama_index/core/evaluation/dataset_generation.py:215: DeprecationWarning: Call to deprecated class DatasetGenerator. (Deprecated in favor of `RagDatasetGenerator` which should be used instead.)\n",
      "  return cls(\n"
     ]
    },
    {
     "name": "stdout",
     "output_type": "stream",
     "text": [
      "INFO:httpx:HTTP Request: POST https://newsaugsponsored.openai.azure.com//openai/deployments/AzureNewsAug/chat/completions?api-version=2023-05-15 \"HTTP/1.1 200 OK\"\n",
      "HTTP Request: POST https://newsaugsponsored.openai.azure.com//openai/deployments/AzureNewsAug/chat/completions?api-version=2023-05-15 \"HTTP/1.1 200 OK\"\n",
      "HTTP Request: POST https://newsaugsponsored.openai.azure.com//openai/deployments/AzureNewsAug/chat/completions?api-version=2023-05-15 \"HTTP/1.1 200 OK\"\n",
      "INFO:httpx:HTTP Request: POST https://newsaugsponsored.openai.azure.com//openai/deployments/AzureNewsAug/chat/completions?api-version=2023-05-15 \"HTTP/1.1 200 OK\"\n",
      "HTTP Request: POST https://newsaugsponsored.openai.azure.com//openai/deployments/AzureNewsAug/chat/completions?api-version=2023-05-15 \"HTTP/1.1 200 OK\"\n",
      "HTTP Request: POST https://newsaugsponsored.openai.azure.com//openai/deployments/AzureNewsAug/chat/completions?api-version=2023-05-15 \"HTTP/1.1 200 OK\"\n",
      "INFO:httpx:HTTP Request: POST https://newsaugsponsored.openai.azure.com//openai/deployments/AzureNewsAug/chat/completions?api-version=2023-05-15 \"HTTP/1.1 200 OK\"\n",
      "HTTP Request: POST https://newsaugsponsored.openai.azure.com//openai/deployments/AzureNewsAug/chat/completions?api-version=2023-05-15 \"HTTP/1.1 200 OK\"\n",
      "HTTP Request: POST https://newsaugsponsored.openai.azure.com//openai/deployments/AzureNewsAug/chat/completions?api-version=2023-05-15 \"HTTP/1.1 200 OK\"\n",
      "INFO:httpx:HTTP Request: POST https://newsaugsponsored.openai.azure.com//openai/deployments/AzureNewsAug/chat/completions?api-version=2023-05-15 \"HTTP/1.1 200 OK\"\n",
      "HTTP Request: POST https://newsaugsponsored.openai.azure.com//openai/deployments/AzureNewsAug/chat/completions?api-version=2023-05-15 \"HTTP/1.1 200 OK\"\n",
      "HTTP Request: POST https://newsaugsponsored.openai.azure.com//openai/deployments/AzureNewsAug/chat/completions?api-version=2023-05-15 \"HTTP/1.1 200 OK\"\n",
      "INFO:httpx:HTTP Request: POST https://newsaugsponsored.openai.azure.com//openai/deployments/AzureNewsAug/chat/completions?api-version=2023-05-15 \"HTTP/1.1 200 OK\"\n",
      "HTTP Request: POST https://newsaugsponsored.openai.azure.com//openai/deployments/AzureNewsAug/chat/completions?api-version=2023-05-15 \"HTTP/1.1 200 OK\"\n",
      "HTTP Request: POST https://newsaugsponsored.openai.azure.com//openai/deployments/AzureNewsAug/chat/completions?api-version=2023-05-15 \"HTTP/1.1 200 OK\"\n",
      "INFO:httpx:HTTP Request: POST https://newsaugsponsored.openai.azure.com//openai/deployments/AzureNewsAug/chat/completions?api-version=2023-05-15 \"HTTP/1.1 200 OK\"\n",
      "HTTP Request: POST https://newsaugsponsored.openai.azure.com//openai/deployments/AzureNewsAug/chat/completions?api-version=2023-05-15 \"HTTP/1.1 200 OK\"\n",
      "HTTP Request: POST https://newsaugsponsored.openai.azure.com//openai/deployments/AzureNewsAug/chat/completions?api-version=2023-05-15 \"HTTP/1.1 200 OK\"\n",
      "INFO:httpx:HTTP Request: POST https://newsaugsponsored.openai.azure.com//openai/deployments/AzureNewsAug/chat/completions?api-version=2023-05-15 \"HTTP/1.1 200 OK\"\n",
      "HTTP Request: POST https://newsaugsponsored.openai.azure.com//openai/deployments/AzureNewsAug/chat/completions?api-version=2023-05-15 \"HTTP/1.1 200 OK\"\n",
      "HTTP Request: POST https://newsaugsponsored.openai.azure.com//openai/deployments/AzureNewsAug/chat/completions?api-version=2023-05-15 \"HTTP/1.1 200 OK\"\n"
     ]
    },
    {
     "name": "stderr",
     "output_type": "stream",
     "text": [
      "/home/g2/.local/lib/python3.10/site-packages/llama_index/core/evaluation/dataset_generation.py:312: DeprecationWarning: Call to deprecated class QueryResponseDataset. (Deprecated in favor of `LabelledRagDataset` which should be used instead.)\n",
      "  return QueryResponseDataset(queries=queries, responses=responses_dict)\n",
      "/home/g2/.local/lib/python3.10/site-packages/llama_index/core/evaluation/dataset_generation.py:215: DeprecationWarning: Call to deprecated class DatasetGenerator. (Deprecated in favor of `RagDatasetGenerator` which should be used instead.)\n",
      "  return cls(\n"
     ]
    },
    {
     "name": "stdout",
     "output_type": "stream",
     "text": [
      "INFO:httpx:HTTP Request: POST https://newsaugsponsored.openai.azure.com//openai/deployments/AzureNewsAug/chat/completions?api-version=2023-05-15 \"HTTP/1.1 200 OK\"\n",
      "HTTP Request: POST https://newsaugsponsored.openai.azure.com//openai/deployments/AzureNewsAug/chat/completions?api-version=2023-05-15 \"HTTP/1.1 200 OK\"\n",
      "HTTP Request: POST https://newsaugsponsored.openai.azure.com//openai/deployments/AzureNewsAug/chat/completions?api-version=2023-05-15 \"HTTP/1.1 200 OK\"\n",
      "INFO:httpx:HTTP Request: POST https://newsaugsponsored.openai.azure.com//openai/deployments/AzureNewsAug/chat/completions?api-version=2023-05-15 \"HTTP/1.1 200 OK\"\n",
      "HTTP Request: POST https://newsaugsponsored.openai.azure.com//openai/deployments/AzureNewsAug/chat/completions?api-version=2023-05-15 \"HTTP/1.1 200 OK\"\n",
      "HTTP Request: POST https://newsaugsponsored.openai.azure.com//openai/deployments/AzureNewsAug/chat/completions?api-version=2023-05-15 \"HTTP/1.1 200 OK\"\n",
      "INFO:httpx:HTTP Request: POST https://newsaugsponsored.openai.azure.com//openai/deployments/AzureNewsAug/chat/completions?api-version=2023-05-15 \"HTTP/1.1 200 OK\"\n",
      "HTTP Request: POST https://newsaugsponsored.openai.azure.com//openai/deployments/AzureNewsAug/chat/completions?api-version=2023-05-15 \"HTTP/1.1 200 OK\"\n",
      "HTTP Request: POST https://newsaugsponsored.openai.azure.com//openai/deployments/AzureNewsAug/chat/completions?api-version=2023-05-15 \"HTTP/1.1 200 OK\"\n"
     ]
    },
    {
     "name": "stderr",
     "output_type": "stream",
     "text": [
      "/home/g2/.local/lib/python3.10/site-packages/llama_index/core/evaluation/dataset_generation.py:312: DeprecationWarning: Call to deprecated class QueryResponseDataset. (Deprecated in favor of `LabelledRagDataset` which should be used instead.)\n",
      "  return QueryResponseDataset(queries=queries, responses=responses_dict)\n",
      "/home/g2/.local/lib/python3.10/site-packages/llama_index/core/evaluation/dataset_generation.py:215: DeprecationWarning: Call to deprecated class DatasetGenerator. (Deprecated in favor of `RagDatasetGenerator` which should be used instead.)\n",
      "  return cls(\n"
     ]
    },
    {
     "name": "stdout",
     "output_type": "stream",
     "text": [
      "INFO:httpx:HTTP Request: POST https://newsaugsponsored.openai.azure.com//openai/deployments/AzureNewsAug/chat/completions?api-version=2023-05-15 \"HTTP/1.1 200 OK\"\n",
      "HTTP Request: POST https://newsaugsponsored.openai.azure.com//openai/deployments/AzureNewsAug/chat/completions?api-version=2023-05-15 \"HTTP/1.1 200 OK\"\n",
      "HTTP Request: POST https://newsaugsponsored.openai.azure.com//openai/deployments/AzureNewsAug/chat/completions?api-version=2023-05-15 \"HTTP/1.1 200 OK\"\n",
      "INFO:httpx:HTTP Request: POST https://newsaugsponsored.openai.azure.com//openai/deployments/AzureNewsAug/chat/completions?api-version=2023-05-15 \"HTTP/1.1 200 OK\"\n",
      "HTTP Request: POST https://newsaugsponsored.openai.azure.com//openai/deployments/AzureNewsAug/chat/completions?api-version=2023-05-15 \"HTTP/1.1 200 OK\"\n",
      "HTTP Request: POST https://newsaugsponsored.openai.azure.com//openai/deployments/AzureNewsAug/chat/completions?api-version=2023-05-15 \"HTTP/1.1 200 OK\"\n"
     ]
    },
    {
     "name": "stderr",
     "output_type": "stream",
     "text": [
      "/home/g2/.local/lib/python3.10/site-packages/llama_index/core/evaluation/dataset_generation.py:312: DeprecationWarning: Call to deprecated class QueryResponseDataset. (Deprecated in favor of `LabelledRagDataset` which should be used instead.)\n",
      "  return QueryResponseDataset(queries=queries, responses=responses_dict)\n",
      "/home/g2/.local/lib/python3.10/site-packages/llama_index/core/evaluation/dataset_generation.py:215: DeprecationWarning: Call to deprecated class DatasetGenerator. (Deprecated in favor of `RagDatasetGenerator` which should be used instead.)\n",
      "  return cls(\n"
     ]
    },
    {
     "name": "stdout",
     "output_type": "stream",
     "text": [
      "INFO:httpx:HTTP Request: POST https://newsaugsponsored.openai.azure.com//openai/deployments/AzureNewsAug/chat/completions?api-version=2023-05-15 \"HTTP/1.1 200 OK\"\n",
      "HTTP Request: POST https://newsaugsponsored.openai.azure.com//openai/deployments/AzureNewsAug/chat/completions?api-version=2023-05-15 \"HTTP/1.1 200 OK\"\n",
      "HTTP Request: POST https://newsaugsponsored.openai.azure.com//openai/deployments/AzureNewsAug/chat/completions?api-version=2023-05-15 \"HTTP/1.1 200 OK\"\n",
      "INFO:httpx:HTTP Request: POST https://newsaugsponsored.openai.azure.com//openai/deployments/AzureNewsAug/chat/completions?api-version=2023-05-15 \"HTTP/1.1 200 OK\"\n",
      "HTTP Request: POST https://newsaugsponsored.openai.azure.com//openai/deployments/AzureNewsAug/chat/completions?api-version=2023-05-15 \"HTTP/1.1 200 OK\"\n",
      "HTTP Request: POST https://newsaugsponsored.openai.azure.com//openai/deployments/AzureNewsAug/chat/completions?api-version=2023-05-15 \"HTTP/1.1 200 OK\"\n"
     ]
    },
    {
     "name": "stderr",
     "output_type": "stream",
     "text": [
      "/home/g2/.local/lib/python3.10/site-packages/llama_index/core/evaluation/dataset_generation.py:312: DeprecationWarning: Call to deprecated class QueryResponseDataset. (Deprecated in favor of `LabelledRagDataset` which should be used instead.)\n",
      "  return QueryResponseDataset(queries=queries, responses=responses_dict)\n",
      "/home/g2/.local/lib/python3.10/site-packages/llama_index/core/evaluation/dataset_generation.py:215: DeprecationWarning: Call to deprecated class DatasetGenerator. (Deprecated in favor of `RagDatasetGenerator` which should be used instead.)\n",
      "  return cls(\n"
     ]
    },
    {
     "name": "stdout",
     "output_type": "stream",
     "text": [
      "INFO:httpx:HTTP Request: POST https://newsaugsponsored.openai.azure.com//openai/deployments/AzureNewsAug/chat/completions?api-version=2023-05-15 \"HTTP/1.1 200 OK\"\n",
      "HTTP Request: POST https://newsaugsponsored.openai.azure.com//openai/deployments/AzureNewsAug/chat/completions?api-version=2023-05-15 \"HTTP/1.1 200 OK\"\n",
      "HTTP Request: POST https://newsaugsponsored.openai.azure.com//openai/deployments/AzureNewsAug/chat/completions?api-version=2023-05-15 \"HTTP/1.1 200 OK\"\n",
      "INFO:httpx:HTTP Request: POST https://newsaugsponsored.openai.azure.com//openai/deployments/AzureNewsAug/chat/completions?api-version=2023-05-15 \"HTTP/1.1 200 OK\"\n",
      "HTTP Request: POST https://newsaugsponsored.openai.azure.com//openai/deployments/AzureNewsAug/chat/completions?api-version=2023-05-15 \"HTTP/1.1 200 OK\"\n",
      "HTTP Request: POST https://newsaugsponsored.openai.azure.com//openai/deployments/AzureNewsAug/chat/completions?api-version=2023-05-15 \"HTTP/1.1 200 OK\"\n"
     ]
    },
    {
     "name": "stderr",
     "output_type": "stream",
     "text": [
      "/home/g2/.local/lib/python3.10/site-packages/llama_index/core/evaluation/dataset_generation.py:312: DeprecationWarning: Call to deprecated class QueryResponseDataset. (Deprecated in favor of `LabelledRagDataset` which should be used instead.)\n",
      "  return QueryResponseDataset(queries=queries, responses=responses_dict)\n",
      "/home/g2/.local/lib/python3.10/site-packages/llama_index/core/evaluation/dataset_generation.py:215: DeprecationWarning: Call to deprecated class DatasetGenerator. (Deprecated in favor of `RagDatasetGenerator` which should be used instead.)\n",
      "  return cls(\n"
     ]
    },
    {
     "name": "stdout",
     "output_type": "stream",
     "text": [
      "INFO:httpx:HTTP Request: POST https://newsaugsponsored.openai.azure.com//openai/deployments/AzureNewsAug/chat/completions?api-version=2023-05-15 \"HTTP/1.1 200 OK\"\n",
      "HTTP Request: POST https://newsaugsponsored.openai.azure.com//openai/deployments/AzureNewsAug/chat/completions?api-version=2023-05-15 \"HTTP/1.1 200 OK\"\n",
      "HTTP Request: POST https://newsaugsponsored.openai.azure.com//openai/deployments/AzureNewsAug/chat/completions?api-version=2023-05-15 \"HTTP/1.1 200 OK\"\n",
      "INFO:httpx:HTTP Request: POST https://newsaugsponsored.openai.azure.com//openai/deployments/AzureNewsAug/chat/completions?api-version=2023-05-15 \"HTTP/1.1 200 OK\"\n",
      "HTTP Request: POST https://newsaugsponsored.openai.azure.com//openai/deployments/AzureNewsAug/chat/completions?api-version=2023-05-15 \"HTTP/1.1 200 OK\"\n",
      "HTTP Request: POST https://newsaugsponsored.openai.azure.com//openai/deployments/AzureNewsAug/chat/completions?api-version=2023-05-15 \"HTTP/1.1 200 OK\"\n",
      "INFO:httpx:HTTP Request: POST https://newsaugsponsored.openai.azure.com//openai/deployments/AzureNewsAug/chat/completions?api-version=2023-05-15 \"HTTP/1.1 200 OK\"\n",
      "HTTP Request: POST https://newsaugsponsored.openai.azure.com//openai/deployments/AzureNewsAug/chat/completions?api-version=2023-05-15 \"HTTP/1.1 200 OK\"\n",
      "HTTP Request: POST https://newsaugsponsored.openai.azure.com//openai/deployments/AzureNewsAug/chat/completions?api-version=2023-05-15 \"HTTP/1.1 200 OK\"\n",
      "INFO:httpx:HTTP Request: POST https://newsaugsponsored.openai.azure.com//openai/deployments/AzureNewsAug/chat/completions?api-version=2023-05-15 \"HTTP/1.1 200 OK\"\n",
      "HTTP Request: POST https://newsaugsponsored.openai.azure.com//openai/deployments/AzureNewsAug/chat/completions?api-version=2023-05-15 \"HTTP/1.1 200 OK\"\n",
      "HTTP Request: POST https://newsaugsponsored.openai.azure.com//openai/deployments/AzureNewsAug/chat/completions?api-version=2023-05-15 \"HTTP/1.1 200 OK\"\n"
     ]
    },
    {
     "name": "stderr",
     "output_type": "stream",
     "text": [
      "/home/g2/.local/lib/python3.10/site-packages/llama_index/core/evaluation/dataset_generation.py:312: DeprecationWarning: Call to deprecated class QueryResponseDataset. (Deprecated in favor of `LabelledRagDataset` which should be used instead.)\n",
      "  return QueryResponseDataset(queries=queries, responses=responses_dict)\n",
      "/home/g2/.local/lib/python3.10/site-packages/llama_index/core/evaluation/dataset_generation.py:215: DeprecationWarning: Call to deprecated class DatasetGenerator. (Deprecated in favor of `RagDatasetGenerator` which should be used instead.)\n",
      "  return cls(\n"
     ]
    },
    {
     "name": "stdout",
     "output_type": "stream",
     "text": [
      "INFO:httpx:HTTP Request: POST https://newsaugsponsored.openai.azure.com//openai/deployments/AzureNewsAug/chat/completions?api-version=2023-05-15 \"HTTP/1.1 200 OK\"\n",
      "HTTP Request: POST https://newsaugsponsored.openai.azure.com//openai/deployments/AzureNewsAug/chat/completions?api-version=2023-05-15 \"HTTP/1.1 200 OK\"\n",
      "HTTP Request: POST https://newsaugsponsored.openai.azure.com//openai/deployments/AzureNewsAug/chat/completions?api-version=2023-05-15 \"HTTP/1.1 200 OK\"\n",
      "INFO:httpx:HTTP Request: POST https://newsaugsponsored.openai.azure.com//openai/deployments/AzureNewsAug/chat/completions?api-version=2023-05-15 \"HTTP/1.1 200 OK\"\n",
      "HTTP Request: POST https://newsaugsponsored.openai.azure.com//openai/deployments/AzureNewsAug/chat/completions?api-version=2023-05-15 \"HTTP/1.1 200 OK\"\n",
      "HTTP Request: POST https://newsaugsponsored.openai.azure.com//openai/deployments/AzureNewsAug/chat/completions?api-version=2023-05-15 \"HTTP/1.1 200 OK\"\n",
      "INFO:httpx:HTTP Request: POST https://newsaugsponsored.openai.azure.com//openai/deployments/AzureNewsAug/chat/completions?api-version=2023-05-15 \"HTTP/1.1 200 OK\"\n",
      "HTTP Request: POST https://newsaugsponsored.openai.azure.com//openai/deployments/AzureNewsAug/chat/completions?api-version=2023-05-15 \"HTTP/1.1 200 OK\"\n",
      "HTTP Request: POST https://newsaugsponsored.openai.azure.com//openai/deployments/AzureNewsAug/chat/completions?api-version=2023-05-15 \"HTTP/1.1 200 OK\"\n",
      "INFO:httpx:HTTP Request: POST https://newsaugsponsored.openai.azure.com//openai/deployments/AzureNewsAug/chat/completions?api-version=2023-05-15 \"HTTP/1.1 200 OK\"\n",
      "HTTP Request: POST https://newsaugsponsored.openai.azure.com//openai/deployments/AzureNewsAug/chat/completions?api-version=2023-05-15 \"HTTP/1.1 200 OK\"\n",
      "HTTP Request: POST https://newsaugsponsored.openai.azure.com//openai/deployments/AzureNewsAug/chat/completions?api-version=2023-05-15 \"HTTP/1.1 200 OK\"\n",
      "INFO:httpx:HTTP Request: POST https://newsaugsponsored.openai.azure.com//openai/deployments/AzureNewsAug/chat/completions?api-version=2023-05-15 \"HTTP/1.1 200 OK\"\n",
      "HTTP Request: POST https://newsaugsponsored.openai.azure.com//openai/deployments/AzureNewsAug/chat/completions?api-version=2023-05-15 \"HTTP/1.1 200 OK\"\n",
      "HTTP Request: POST https://newsaugsponsored.openai.azure.com//openai/deployments/AzureNewsAug/chat/completions?api-version=2023-05-15 \"HTTP/1.1 200 OK\"\n"
     ]
    },
    {
     "name": "stderr",
     "output_type": "stream",
     "text": [
      "/home/g2/.local/lib/python3.10/site-packages/llama_index/core/evaluation/dataset_generation.py:312: DeprecationWarning: Call to deprecated class QueryResponseDataset. (Deprecated in favor of `LabelledRagDataset` which should be used instead.)\n",
      "  return QueryResponseDataset(queries=queries, responses=responses_dict)\n",
      "/home/g2/.local/lib/python3.10/site-packages/llama_index/core/evaluation/dataset_generation.py:215: DeprecationWarning: Call to deprecated class DatasetGenerator. (Deprecated in favor of `RagDatasetGenerator` which should be used instead.)\n",
      "  return cls(\n"
     ]
    },
    {
     "name": "stdout",
     "output_type": "stream",
     "text": [
      "INFO:httpx:HTTP Request: POST https://newsaugsponsored.openai.azure.com//openai/deployments/AzureNewsAug/chat/completions?api-version=2023-05-15 \"HTTP/1.1 200 OK\"\n",
      "HTTP Request: POST https://newsaugsponsored.openai.azure.com//openai/deployments/AzureNewsAug/chat/completions?api-version=2023-05-15 \"HTTP/1.1 200 OK\"\n",
      "HTTP Request: POST https://newsaugsponsored.openai.azure.com//openai/deployments/AzureNewsAug/chat/completions?api-version=2023-05-15 \"HTTP/1.1 200 OK\"\n",
      "INFO:httpx:HTTP Request: POST https://newsaugsponsored.openai.azure.com//openai/deployments/AzureNewsAug/chat/completions?api-version=2023-05-15 \"HTTP/1.1 200 OK\"\n",
      "HTTP Request: POST https://newsaugsponsored.openai.azure.com//openai/deployments/AzureNewsAug/chat/completions?api-version=2023-05-15 \"HTTP/1.1 200 OK\"\n",
      "HTTP Request: POST https://newsaugsponsored.openai.azure.com//openai/deployments/AzureNewsAug/chat/completions?api-version=2023-05-15 \"HTTP/1.1 200 OK\"\n"
     ]
    },
    {
     "name": "stderr",
     "output_type": "stream",
     "text": [
      "/home/g2/.local/lib/python3.10/site-packages/llama_index/core/evaluation/dataset_generation.py:312: DeprecationWarning: Call to deprecated class QueryResponseDataset. (Deprecated in favor of `LabelledRagDataset` which should be used instead.)\n",
      "  return QueryResponseDataset(queries=queries, responses=responses_dict)\n",
      "/home/g2/.local/lib/python3.10/site-packages/llama_index/core/evaluation/dataset_generation.py:215: DeprecationWarning: Call to deprecated class DatasetGenerator. (Deprecated in favor of `RagDatasetGenerator` which should be used instead.)\n",
      "  return cls(\n"
     ]
    },
    {
     "name": "stdout",
     "output_type": "stream",
     "text": [
      "INFO:httpx:HTTP Request: POST https://newsaugsponsored.openai.azure.com//openai/deployments/AzureNewsAug/chat/completions?api-version=2023-05-15 \"HTTP/1.1 200 OK\"\n",
      "HTTP Request: POST https://newsaugsponsored.openai.azure.com//openai/deployments/AzureNewsAug/chat/completions?api-version=2023-05-15 \"HTTP/1.1 200 OK\"\n",
      "HTTP Request: POST https://newsaugsponsored.openai.azure.com//openai/deployments/AzureNewsAug/chat/completions?api-version=2023-05-15 \"HTTP/1.1 200 OK\"\n",
      "INFO:httpx:HTTP Request: POST https://newsaugsponsored.openai.azure.com//openai/deployments/AzureNewsAug/chat/completions?api-version=2023-05-15 \"HTTP/1.1 200 OK\"\n",
      "HTTP Request: POST https://newsaugsponsored.openai.azure.com//openai/deployments/AzureNewsAug/chat/completions?api-version=2023-05-15 \"HTTP/1.1 200 OK\"\n",
      "HTTP Request: POST https://newsaugsponsored.openai.azure.com//openai/deployments/AzureNewsAug/chat/completions?api-version=2023-05-15 \"HTTP/1.1 200 OK\"\n",
      "INFO:httpx:HTTP Request: POST https://newsaugsponsored.openai.azure.com//openai/deployments/AzureNewsAug/chat/completions?api-version=2023-05-15 \"HTTP/1.1 200 OK\"\n",
      "HTTP Request: POST https://newsaugsponsored.openai.azure.com//openai/deployments/AzureNewsAug/chat/completions?api-version=2023-05-15 \"HTTP/1.1 200 OK\"\n",
      "HTTP Request: POST https://newsaugsponsored.openai.azure.com//openai/deployments/AzureNewsAug/chat/completions?api-version=2023-05-15 \"HTTP/1.1 200 OK\"\n",
      "INFO:httpx:HTTP Request: POST https://newsaugsponsored.openai.azure.com//openai/deployments/AzureNewsAug/chat/completions?api-version=2023-05-15 \"HTTP/1.1 200 OK\"\n",
      "HTTP Request: POST https://newsaugsponsored.openai.azure.com//openai/deployments/AzureNewsAug/chat/completions?api-version=2023-05-15 \"HTTP/1.1 200 OK\"\n",
      "HTTP Request: POST https://newsaugsponsored.openai.azure.com//openai/deployments/AzureNewsAug/chat/completions?api-version=2023-05-15 \"HTTP/1.1 200 OK\"\n",
      "INFO:httpx:HTTP Request: POST https://newsaugsponsored.openai.azure.com//openai/deployments/AzureNewsAug/chat/completions?api-version=2023-05-15 \"HTTP/1.1 200 OK\"\n",
      "HTTP Request: POST https://newsaugsponsored.openai.azure.com//openai/deployments/AzureNewsAug/chat/completions?api-version=2023-05-15 \"HTTP/1.1 200 OK\"\n",
      "HTTP Request: POST https://newsaugsponsored.openai.azure.com//openai/deployments/AzureNewsAug/chat/completions?api-version=2023-05-15 \"HTTP/1.1 200 OK\"\n",
      "INFO:httpx:HTTP Request: POST https://newsaugsponsored.openai.azure.com//openai/deployments/AzureNewsAug/chat/completions?api-version=2023-05-15 \"HTTP/1.1 200 OK\"\n",
      "HTTP Request: POST https://newsaugsponsored.openai.azure.com//openai/deployments/AzureNewsAug/chat/completions?api-version=2023-05-15 \"HTTP/1.1 200 OK\"\n",
      "HTTP Request: POST https://newsaugsponsored.openai.azure.com//openai/deployments/AzureNewsAug/chat/completions?api-version=2023-05-15 \"HTTP/1.1 200 OK\"\n",
      "INFO:httpx:HTTP Request: POST https://newsaugsponsored.openai.azure.com//openai/deployments/AzureNewsAug/chat/completions?api-version=2023-05-15 \"HTTP/1.1 200 OK\"\n",
      "HTTP Request: POST https://newsaugsponsored.openai.azure.com//openai/deployments/AzureNewsAug/chat/completions?api-version=2023-05-15 \"HTTP/1.1 200 OK\"\n",
      "HTTP Request: POST https://newsaugsponsored.openai.azure.com//openai/deployments/AzureNewsAug/chat/completions?api-version=2023-05-15 \"HTTP/1.1 200 OK\"\n"
     ]
    },
    {
     "name": "stderr",
     "output_type": "stream",
     "text": [
      "/home/g2/.local/lib/python3.10/site-packages/llama_index/core/evaluation/dataset_generation.py:312: DeprecationWarning: Call to deprecated class QueryResponseDataset. (Deprecated in favor of `LabelledRagDataset` which should be used instead.)\n",
      "  return QueryResponseDataset(queries=queries, responses=responses_dict)\n",
      "/home/g2/.local/lib/python3.10/site-packages/llama_index/core/evaluation/dataset_generation.py:215: DeprecationWarning: Call to deprecated class DatasetGenerator. (Deprecated in favor of `RagDatasetGenerator` which should be used instead.)\n",
      "  return cls(\n"
     ]
    },
    {
     "name": "stdout",
     "output_type": "stream",
     "text": [
      "INFO:httpx:HTTP Request: POST https://newsaugsponsored.openai.azure.com//openai/deployments/AzureNewsAug/chat/completions?api-version=2023-05-15 \"HTTP/1.1 200 OK\"\n",
      "HTTP Request: POST https://newsaugsponsored.openai.azure.com//openai/deployments/AzureNewsAug/chat/completions?api-version=2023-05-15 \"HTTP/1.1 200 OK\"\n",
      "HTTP Request: POST https://newsaugsponsored.openai.azure.com//openai/deployments/AzureNewsAug/chat/completions?api-version=2023-05-15 \"HTTP/1.1 200 OK\"\n",
      "INFO:httpx:HTTP Request: POST https://newsaugsponsored.openai.azure.com//openai/deployments/AzureNewsAug/chat/completions?api-version=2023-05-15 \"HTTP/1.1 200 OK\"\n",
      "HTTP Request: POST https://newsaugsponsored.openai.azure.com//openai/deployments/AzureNewsAug/chat/completions?api-version=2023-05-15 \"HTTP/1.1 200 OK\"\n",
      "HTTP Request: POST https://newsaugsponsored.openai.azure.com//openai/deployments/AzureNewsAug/chat/completions?api-version=2023-05-15 \"HTTP/1.1 200 OK\"\n"
     ]
    },
    {
     "name": "stderr",
     "output_type": "stream",
     "text": [
      "/home/g2/.local/lib/python3.10/site-packages/llama_index/core/evaluation/dataset_generation.py:312: DeprecationWarning: Call to deprecated class QueryResponseDataset. (Deprecated in favor of `LabelledRagDataset` which should be used instead.)\n",
      "  return QueryResponseDataset(queries=queries, responses=responses_dict)\n",
      "/home/g2/.local/lib/python3.10/site-packages/llama_index/core/evaluation/dataset_generation.py:215: DeprecationWarning: Call to deprecated class DatasetGenerator. (Deprecated in favor of `RagDatasetGenerator` which should be used instead.)\n",
      "  return cls(\n"
     ]
    },
    {
     "name": "stdout",
     "output_type": "stream",
     "text": [
      "INFO:httpx:HTTP Request: POST https://newsaugsponsored.openai.azure.com//openai/deployments/AzureNewsAug/chat/completions?api-version=2023-05-15 \"HTTP/1.1 200 OK\"\n",
      "HTTP Request: POST https://newsaugsponsored.openai.azure.com//openai/deployments/AzureNewsAug/chat/completions?api-version=2023-05-15 \"HTTP/1.1 200 OK\"\n",
      "HTTP Request: POST https://newsaugsponsored.openai.azure.com//openai/deployments/AzureNewsAug/chat/completions?api-version=2023-05-15 \"HTTP/1.1 200 OK\"\n",
      "INFO:httpx:HTTP Request: POST https://newsaugsponsored.openai.azure.com//openai/deployments/AzureNewsAug/chat/completions?api-version=2023-05-15 \"HTTP/1.1 200 OK\"\n",
      "HTTP Request: POST https://newsaugsponsored.openai.azure.com//openai/deployments/AzureNewsAug/chat/completions?api-version=2023-05-15 \"HTTP/1.1 200 OK\"\n",
      "HTTP Request: POST https://newsaugsponsored.openai.azure.com//openai/deployments/AzureNewsAug/chat/completions?api-version=2023-05-15 \"HTTP/1.1 200 OK\"\n"
     ]
    },
    {
     "name": "stderr",
     "output_type": "stream",
     "text": [
      "/home/g2/.local/lib/python3.10/site-packages/llama_index/core/evaluation/dataset_generation.py:312: DeprecationWarning: Call to deprecated class QueryResponseDataset. (Deprecated in favor of `LabelledRagDataset` which should be used instead.)\n",
      "  return QueryResponseDataset(queries=queries, responses=responses_dict)\n",
      "/home/g2/.local/lib/python3.10/site-packages/llama_index/core/evaluation/dataset_generation.py:215: DeprecationWarning: Call to deprecated class DatasetGenerator. (Deprecated in favor of `RagDatasetGenerator` which should be used instead.)\n",
      "  return cls(\n"
     ]
    },
    {
     "name": "stdout",
     "output_type": "stream",
     "text": [
      "INFO:httpx:HTTP Request: POST https://newsaugsponsored.openai.azure.com//openai/deployments/AzureNewsAug/chat/completions?api-version=2023-05-15 \"HTTP/1.1 200 OK\"\n",
      "HTTP Request: POST https://newsaugsponsored.openai.azure.com//openai/deployments/AzureNewsAug/chat/completions?api-version=2023-05-15 \"HTTP/1.1 200 OK\"\n",
      "HTTP Request: POST https://newsaugsponsored.openai.azure.com//openai/deployments/AzureNewsAug/chat/completions?api-version=2023-05-15 \"HTTP/1.1 200 OK\"\n",
      "INFO:httpx:HTTP Request: POST https://newsaugsponsored.openai.azure.com//openai/deployments/AzureNewsAug/chat/completions?api-version=2023-05-15 \"HTTP/1.1 200 OK\"\n",
      "HTTP Request: POST https://newsaugsponsored.openai.azure.com//openai/deployments/AzureNewsAug/chat/completions?api-version=2023-05-15 \"HTTP/1.1 200 OK\"\n",
      "HTTP Request: POST https://newsaugsponsored.openai.azure.com//openai/deployments/AzureNewsAug/chat/completions?api-version=2023-05-15 \"HTTP/1.1 200 OK\"\n"
     ]
    },
    {
     "name": "stderr",
     "output_type": "stream",
     "text": [
      "/home/g2/.local/lib/python3.10/site-packages/llama_index/core/evaluation/dataset_generation.py:312: DeprecationWarning: Call to deprecated class QueryResponseDataset. (Deprecated in favor of `LabelledRagDataset` which should be used instead.)\n",
      "  return QueryResponseDataset(queries=queries, responses=responses_dict)\n",
      "/home/g2/.local/lib/python3.10/site-packages/llama_index/core/evaluation/dataset_generation.py:215: DeprecationWarning: Call to deprecated class DatasetGenerator. (Deprecated in favor of `RagDatasetGenerator` which should be used instead.)\n",
      "  return cls(\n"
     ]
    },
    {
     "name": "stdout",
     "output_type": "stream",
     "text": [
      "INFO:httpx:HTTP Request: POST https://newsaugsponsored.openai.azure.com//openai/deployments/AzureNewsAug/chat/completions?api-version=2023-05-15 \"HTTP/1.1 200 OK\"\n",
      "HTTP Request: POST https://newsaugsponsored.openai.azure.com//openai/deployments/AzureNewsAug/chat/completions?api-version=2023-05-15 \"HTTP/1.1 200 OK\"\n",
      "HTTP Request: POST https://newsaugsponsored.openai.azure.com//openai/deployments/AzureNewsAug/chat/completions?api-version=2023-05-15 \"HTTP/1.1 200 OK\"\n",
      "INFO:httpx:HTTP Request: POST https://newsaugsponsored.openai.azure.com//openai/deployments/AzureNewsAug/chat/completions?api-version=2023-05-15 \"HTTP/1.1 200 OK\"\n",
      "HTTP Request: POST https://newsaugsponsored.openai.azure.com//openai/deployments/AzureNewsAug/chat/completions?api-version=2023-05-15 \"HTTP/1.1 200 OK\"\n",
      "HTTP Request: POST https://newsaugsponsored.openai.azure.com//openai/deployments/AzureNewsAug/chat/completions?api-version=2023-05-15 \"HTTP/1.1 200 OK\"\n"
     ]
    },
    {
     "name": "stderr",
     "output_type": "stream",
     "text": [
      "/home/g2/.local/lib/python3.10/site-packages/llama_index/core/evaluation/dataset_generation.py:312: DeprecationWarning: Call to deprecated class QueryResponseDataset. (Deprecated in favor of `LabelledRagDataset` which should be used instead.)\n",
      "  return QueryResponseDataset(queries=queries, responses=responses_dict)\n",
      "/home/g2/.local/lib/python3.10/site-packages/llama_index/core/evaluation/dataset_generation.py:215: DeprecationWarning: Call to deprecated class DatasetGenerator. (Deprecated in favor of `RagDatasetGenerator` which should be used instead.)\n",
      "  return cls(\n"
     ]
    },
    {
     "name": "stdout",
     "output_type": "stream",
     "text": [
      "INFO:httpx:HTTP Request: POST https://newsaugsponsored.openai.azure.com//openai/deployments/AzureNewsAug/chat/completions?api-version=2023-05-15 \"HTTP/1.1 200 OK\"\n",
      "HTTP Request: POST https://newsaugsponsored.openai.azure.com//openai/deployments/AzureNewsAug/chat/completions?api-version=2023-05-15 \"HTTP/1.1 200 OK\"\n",
      "HTTP Request: POST https://newsaugsponsored.openai.azure.com//openai/deployments/AzureNewsAug/chat/completions?api-version=2023-05-15 \"HTTP/1.1 200 OK\"\n",
      "INFO:httpx:HTTP Request: POST https://newsaugsponsored.openai.azure.com//openai/deployments/AzureNewsAug/chat/completions?api-version=2023-05-15 \"HTTP/1.1 200 OK\"\n",
      "HTTP Request: POST https://newsaugsponsored.openai.azure.com//openai/deployments/AzureNewsAug/chat/completions?api-version=2023-05-15 \"HTTP/1.1 200 OK\"\n",
      "HTTP Request: POST https://newsaugsponsored.openai.azure.com//openai/deployments/AzureNewsAug/chat/completions?api-version=2023-05-15 \"HTTP/1.1 200 OK\"\n",
      "INFO:httpx:HTTP Request: POST https://newsaugsponsored.openai.azure.com//openai/deployments/AzureNewsAug/chat/completions?api-version=2023-05-15 \"HTTP/1.1 200 OK\"\n",
      "HTTP Request: POST https://newsaugsponsored.openai.azure.com//openai/deployments/AzureNewsAug/chat/completions?api-version=2023-05-15 \"HTTP/1.1 200 OK\"\n",
      "HTTP Request: POST https://newsaugsponsored.openai.azure.com//openai/deployments/AzureNewsAug/chat/completions?api-version=2023-05-15 \"HTTP/1.1 200 OK\"\n",
      "INFO:httpx:HTTP Request: POST https://newsaugsponsored.openai.azure.com//openai/deployments/AzureNewsAug/chat/completions?api-version=2023-05-15 \"HTTP/1.1 200 OK\"\n",
      "HTTP Request: POST https://newsaugsponsored.openai.azure.com//openai/deployments/AzureNewsAug/chat/completions?api-version=2023-05-15 \"HTTP/1.1 200 OK\"\n",
      "HTTP Request: POST https://newsaugsponsored.openai.azure.com//openai/deployments/AzureNewsAug/chat/completions?api-version=2023-05-15 \"HTTP/1.1 200 OK\"\n",
      "INFO:httpx:HTTP Request: POST https://newsaugsponsored.openai.azure.com//openai/deployments/AzureNewsAug/chat/completions?api-version=2023-05-15 \"HTTP/1.1 200 OK\"\n",
      "HTTP Request: POST https://newsaugsponsored.openai.azure.com//openai/deployments/AzureNewsAug/chat/completions?api-version=2023-05-15 \"HTTP/1.1 200 OK\"\n",
      "HTTP Request: POST https://newsaugsponsored.openai.azure.com//openai/deployments/AzureNewsAug/chat/completions?api-version=2023-05-15 \"HTTP/1.1 200 OK\"\n"
     ]
    },
    {
     "name": "stderr",
     "output_type": "stream",
     "text": [
      "/home/g2/.local/lib/python3.10/site-packages/llama_index/core/evaluation/dataset_generation.py:312: DeprecationWarning: Call to deprecated class QueryResponseDataset. (Deprecated in favor of `LabelledRagDataset` which should be used instead.)\n",
      "  return QueryResponseDataset(queries=queries, responses=responses_dict)\n",
      "/home/g2/.local/lib/python3.10/site-packages/llama_index/core/evaluation/dataset_generation.py:215: DeprecationWarning: Call to deprecated class DatasetGenerator. (Deprecated in favor of `RagDatasetGenerator` which should be used instead.)\n",
      "  return cls(\n"
     ]
    },
    {
     "name": "stdout",
     "output_type": "stream",
     "text": [
      "INFO:httpx:HTTP Request: POST https://newsaugsponsored.openai.azure.com//openai/deployments/AzureNewsAug/chat/completions?api-version=2023-05-15 \"HTTP/1.1 200 OK\"\n",
      "HTTP Request: POST https://newsaugsponsored.openai.azure.com//openai/deployments/AzureNewsAug/chat/completions?api-version=2023-05-15 \"HTTP/1.1 200 OK\"\n",
      "HTTP Request: POST https://newsaugsponsored.openai.azure.com//openai/deployments/AzureNewsAug/chat/completions?api-version=2023-05-15 \"HTTP/1.1 200 OK\"\n",
      "INFO:httpx:HTTP Request: POST https://newsaugsponsored.openai.azure.com//openai/deployments/AzureNewsAug/chat/completions?api-version=2023-05-15 \"HTTP/1.1 200 OK\"\n",
      "HTTP Request: POST https://newsaugsponsored.openai.azure.com//openai/deployments/AzureNewsAug/chat/completions?api-version=2023-05-15 \"HTTP/1.1 200 OK\"\n",
      "HTTP Request: POST https://newsaugsponsored.openai.azure.com//openai/deployments/AzureNewsAug/chat/completions?api-version=2023-05-15 \"HTTP/1.1 200 OK\"\n"
     ]
    },
    {
     "name": "stderr",
     "output_type": "stream",
     "text": [
      "/home/g2/.local/lib/python3.10/site-packages/llama_index/core/evaluation/dataset_generation.py:312: DeprecationWarning: Call to deprecated class QueryResponseDataset. (Deprecated in favor of `LabelledRagDataset` which should be used instead.)\n",
      "  return QueryResponseDataset(queries=queries, responses=responses_dict)\n",
      "/home/g2/.local/lib/python3.10/site-packages/llama_index/core/evaluation/dataset_generation.py:215: DeprecationWarning: Call to deprecated class DatasetGenerator. (Deprecated in favor of `RagDatasetGenerator` which should be used instead.)\n",
      "  return cls(\n"
     ]
    },
    {
     "name": "stdout",
     "output_type": "stream",
     "text": [
      "INFO:httpx:HTTP Request: POST https://newsaugsponsored.openai.azure.com//openai/deployments/AzureNewsAug/chat/completions?api-version=2023-05-15 \"HTTP/1.1 200 OK\"\n",
      "HTTP Request: POST https://newsaugsponsored.openai.azure.com//openai/deployments/AzureNewsAug/chat/completions?api-version=2023-05-15 \"HTTP/1.1 200 OK\"\n",
      "HTTP Request: POST https://newsaugsponsored.openai.azure.com//openai/deployments/AzureNewsAug/chat/completions?api-version=2023-05-15 \"HTTP/1.1 200 OK\"\n",
      "INFO:httpx:HTTP Request: POST https://newsaugsponsored.openai.azure.com//openai/deployments/AzureNewsAug/chat/completions?api-version=2023-05-15 \"HTTP/1.1 200 OK\"\n",
      "HTTP Request: POST https://newsaugsponsored.openai.azure.com//openai/deployments/AzureNewsAug/chat/completions?api-version=2023-05-15 \"HTTP/1.1 200 OK\"\n",
      "HTTP Request: POST https://newsaugsponsored.openai.azure.com//openai/deployments/AzureNewsAug/chat/completions?api-version=2023-05-15 \"HTTP/1.1 200 OK\"\n",
      "INFO:httpx:HTTP Request: POST https://newsaugsponsored.openai.azure.com//openai/deployments/AzureNewsAug/chat/completions?api-version=2023-05-15 \"HTTP/1.1 200 OK\"\n",
      "HTTP Request: POST https://newsaugsponsored.openai.azure.com//openai/deployments/AzureNewsAug/chat/completions?api-version=2023-05-15 \"HTTP/1.1 200 OK\"\n",
      "HTTP Request: POST https://newsaugsponsored.openai.azure.com//openai/deployments/AzureNewsAug/chat/completions?api-version=2023-05-15 \"HTTP/1.1 200 OK\"\n",
      "INFO:httpx:HTTP Request: POST https://newsaugsponsored.openai.azure.com//openai/deployments/AzureNewsAug/chat/completions?api-version=2023-05-15 \"HTTP/1.1 200 OK\"\n",
      "HTTP Request: POST https://newsaugsponsored.openai.azure.com//openai/deployments/AzureNewsAug/chat/completions?api-version=2023-05-15 \"HTTP/1.1 200 OK\"\n",
      "HTTP Request: POST https://newsaugsponsored.openai.azure.com//openai/deployments/AzureNewsAug/chat/completions?api-version=2023-05-15 \"HTTP/1.1 200 OK\"\n",
      "INFO:httpx:HTTP Request: POST https://newsaugsponsored.openai.azure.com//openai/deployments/AzureNewsAug/chat/completions?api-version=2023-05-15 \"HTTP/1.1 200 OK\"\n",
      "HTTP Request: POST https://newsaugsponsored.openai.azure.com//openai/deployments/AzureNewsAug/chat/completions?api-version=2023-05-15 \"HTTP/1.1 200 OK\"\n",
      "HTTP Request: POST https://newsaugsponsored.openai.azure.com//openai/deployments/AzureNewsAug/chat/completions?api-version=2023-05-15 \"HTTP/1.1 200 OK\"\n",
      "INFO:httpx:HTTP Request: POST https://newsaugsponsored.openai.azure.com//openai/deployments/AzureNewsAug/chat/completions?api-version=2023-05-15 \"HTTP/1.1 200 OK\"\n",
      "HTTP Request: POST https://newsaugsponsored.openai.azure.com//openai/deployments/AzureNewsAug/chat/completions?api-version=2023-05-15 \"HTTP/1.1 200 OK\"\n",
      "HTTP Request: POST https://newsaugsponsored.openai.azure.com//openai/deployments/AzureNewsAug/chat/completions?api-version=2023-05-15 \"HTTP/1.1 200 OK\"\n",
      "INFO:httpx:HTTP Request: POST https://newsaugsponsored.openai.azure.com//openai/deployments/AzureNewsAug/chat/completions?api-version=2023-05-15 \"HTTP/1.1 200 OK\"\n",
      "HTTP Request: POST https://newsaugsponsored.openai.azure.com//openai/deployments/AzureNewsAug/chat/completions?api-version=2023-05-15 \"HTTP/1.1 200 OK\"\n",
      "HTTP Request: POST https://newsaugsponsored.openai.azure.com//openai/deployments/AzureNewsAug/chat/completions?api-version=2023-05-15 \"HTTP/1.1 200 OK\"\n",
      "INFO:httpx:HTTP Request: POST https://newsaugsponsored.openai.azure.com//openai/deployments/AzureNewsAug/chat/completions?api-version=2023-05-15 \"HTTP/1.1 200 OK\"\n",
      "HTTP Request: POST https://newsaugsponsored.openai.azure.com//openai/deployments/AzureNewsAug/chat/completions?api-version=2023-05-15 \"HTTP/1.1 200 OK\"\n",
      "HTTP Request: POST https://newsaugsponsored.openai.azure.com//openai/deployments/AzureNewsAug/chat/completions?api-version=2023-05-15 \"HTTP/1.1 200 OK\"\n"
     ]
    },
    {
     "name": "stderr",
     "output_type": "stream",
     "text": [
      "/home/g2/.local/lib/python3.10/site-packages/llama_index/core/evaluation/dataset_generation.py:312: DeprecationWarning: Call to deprecated class QueryResponseDataset. (Deprecated in favor of `LabelledRagDataset` which should be used instead.)\n",
      "  return QueryResponseDataset(queries=queries, responses=responses_dict)\n",
      "/home/g2/.local/lib/python3.10/site-packages/llama_index/core/evaluation/dataset_generation.py:215: DeprecationWarning: Call to deprecated class DatasetGenerator. (Deprecated in favor of `RagDatasetGenerator` which should be used instead.)\n",
      "  return cls(\n"
     ]
    },
    {
     "name": "stdout",
     "output_type": "stream",
     "text": [
      "INFO:httpx:HTTP Request: POST https://newsaugsponsored.openai.azure.com//openai/deployments/AzureNewsAug/chat/completions?api-version=2023-05-15 \"HTTP/1.1 200 OK\"\n",
      "HTTP Request: POST https://newsaugsponsored.openai.azure.com//openai/deployments/AzureNewsAug/chat/completions?api-version=2023-05-15 \"HTTP/1.1 200 OK\"\n",
      "HTTP Request: POST https://newsaugsponsored.openai.azure.com//openai/deployments/AzureNewsAug/chat/completions?api-version=2023-05-15 \"HTTP/1.1 200 OK\"\n",
      "INFO:httpx:HTTP Request: POST https://newsaugsponsored.openai.azure.com//openai/deployments/AzureNewsAug/chat/completions?api-version=2023-05-15 \"HTTP/1.1 200 OK\"\n",
      "HTTP Request: POST https://newsaugsponsored.openai.azure.com//openai/deployments/AzureNewsAug/chat/completions?api-version=2023-05-15 \"HTTP/1.1 200 OK\"\n",
      "HTTP Request: POST https://newsaugsponsored.openai.azure.com//openai/deployments/AzureNewsAug/chat/completions?api-version=2023-05-15 \"HTTP/1.1 200 OK\"\n"
     ]
    },
    {
     "name": "stderr",
     "output_type": "stream",
     "text": [
      "/home/g2/.local/lib/python3.10/site-packages/llama_index/core/evaluation/dataset_generation.py:312: DeprecationWarning: Call to deprecated class QueryResponseDataset. (Deprecated in favor of `LabelledRagDataset` which should be used instead.)\n",
      "  return QueryResponseDataset(queries=queries, responses=responses_dict)\n",
      "/home/g2/.local/lib/python3.10/site-packages/llama_index/core/evaluation/dataset_generation.py:215: DeprecationWarning: Call to deprecated class DatasetGenerator. (Deprecated in favor of `RagDatasetGenerator` which should be used instead.)\n",
      "  return cls(\n"
     ]
    },
    {
     "name": "stdout",
     "output_type": "stream",
     "text": [
      "INFO:httpx:HTTP Request: POST https://newsaugsponsored.openai.azure.com//openai/deployments/AzureNewsAug/chat/completions?api-version=2023-05-15 \"HTTP/1.1 200 OK\"\n",
      "HTTP Request: POST https://newsaugsponsored.openai.azure.com//openai/deployments/AzureNewsAug/chat/completions?api-version=2023-05-15 \"HTTP/1.1 200 OK\"\n",
      "HTTP Request: POST https://newsaugsponsored.openai.azure.com//openai/deployments/AzureNewsAug/chat/completions?api-version=2023-05-15 \"HTTP/1.1 200 OK\"\n",
      "INFO:httpx:HTTP Request: POST https://newsaugsponsored.openai.azure.com//openai/deployments/AzureNewsAug/chat/completions?api-version=2023-05-15 \"HTTP/1.1 200 OK\"\n",
      "HTTP Request: POST https://newsaugsponsored.openai.azure.com//openai/deployments/AzureNewsAug/chat/completions?api-version=2023-05-15 \"HTTP/1.1 200 OK\"\n",
      "HTTP Request: POST https://newsaugsponsored.openai.azure.com//openai/deployments/AzureNewsAug/chat/completions?api-version=2023-05-15 \"HTTP/1.1 200 OK\"\n"
     ]
    },
    {
     "name": "stderr",
     "output_type": "stream",
     "text": [
      "/home/g2/.local/lib/python3.10/site-packages/llama_index/core/evaluation/dataset_generation.py:312: DeprecationWarning: Call to deprecated class QueryResponseDataset. (Deprecated in favor of `LabelledRagDataset` which should be used instead.)\n",
      "  return QueryResponseDataset(queries=queries, responses=responses_dict)\n",
      "/home/g2/.local/lib/python3.10/site-packages/llama_index/core/evaluation/dataset_generation.py:215: DeprecationWarning: Call to deprecated class DatasetGenerator. (Deprecated in favor of `RagDatasetGenerator` which should be used instead.)\n",
      "  return cls(\n"
     ]
    },
    {
     "name": "stdout",
     "output_type": "stream",
     "text": [
      "INFO:httpx:HTTP Request: POST https://newsaugsponsored.openai.azure.com//openai/deployments/AzureNewsAug/chat/completions?api-version=2023-05-15 \"HTTP/1.1 200 OK\"\n",
      "HTTP Request: POST https://newsaugsponsored.openai.azure.com//openai/deployments/AzureNewsAug/chat/completions?api-version=2023-05-15 \"HTTP/1.1 200 OK\"\n",
      "HTTP Request: POST https://newsaugsponsored.openai.azure.com//openai/deployments/AzureNewsAug/chat/completions?api-version=2023-05-15 \"HTTP/1.1 200 OK\"\n",
      "INFO:httpx:HTTP Request: POST https://newsaugsponsored.openai.azure.com//openai/deployments/AzureNewsAug/chat/completions?api-version=2023-05-15 \"HTTP/1.1 200 OK\"\n",
      "HTTP Request: POST https://newsaugsponsored.openai.azure.com//openai/deployments/AzureNewsAug/chat/completions?api-version=2023-05-15 \"HTTP/1.1 200 OK\"\n",
      "HTTP Request: POST https://newsaugsponsored.openai.azure.com//openai/deployments/AzureNewsAug/chat/completions?api-version=2023-05-15 \"HTTP/1.1 200 OK\"\n",
      "INFO:httpx:HTTP Request: POST https://newsaugsponsored.openai.azure.com//openai/deployments/AzureNewsAug/chat/completions?api-version=2023-05-15 \"HTTP/1.1 200 OK\"\n",
      "HTTP Request: POST https://newsaugsponsored.openai.azure.com//openai/deployments/AzureNewsAug/chat/completions?api-version=2023-05-15 \"HTTP/1.1 200 OK\"\n",
      "HTTP Request: POST https://newsaugsponsored.openai.azure.com//openai/deployments/AzureNewsAug/chat/completions?api-version=2023-05-15 \"HTTP/1.1 200 OK\"\n"
     ]
    },
    {
     "name": "stderr",
     "output_type": "stream",
     "text": [
      "/home/g2/.local/lib/python3.10/site-packages/llama_index/core/evaluation/dataset_generation.py:312: DeprecationWarning: Call to deprecated class QueryResponseDataset. (Deprecated in favor of `LabelledRagDataset` which should be used instead.)\n",
      "  return QueryResponseDataset(queries=queries, responses=responses_dict)\n",
      "/home/g2/.local/lib/python3.10/site-packages/llama_index/core/evaluation/dataset_generation.py:215: DeprecationWarning: Call to deprecated class DatasetGenerator. (Deprecated in favor of `RagDatasetGenerator` which should be used instead.)\n",
      "  return cls(\n"
     ]
    },
    {
     "name": "stdout",
     "output_type": "stream",
     "text": [
      "INFO:httpx:HTTP Request: POST https://newsaugsponsored.openai.azure.com//openai/deployments/AzureNewsAug/chat/completions?api-version=2023-05-15 \"HTTP/1.1 200 OK\"\n",
      "HTTP Request: POST https://newsaugsponsored.openai.azure.com//openai/deployments/AzureNewsAug/chat/completions?api-version=2023-05-15 \"HTTP/1.1 200 OK\"\n",
      "HTTP Request: POST https://newsaugsponsored.openai.azure.com//openai/deployments/AzureNewsAug/chat/completions?api-version=2023-05-15 \"HTTP/1.1 200 OK\"\n",
      "INFO:httpx:HTTP Request: POST https://newsaugsponsored.openai.azure.com//openai/deployments/AzureNewsAug/chat/completions?api-version=2023-05-15 \"HTTP/1.1 200 OK\"\n",
      "HTTP Request: POST https://newsaugsponsored.openai.azure.com//openai/deployments/AzureNewsAug/chat/completions?api-version=2023-05-15 \"HTTP/1.1 200 OK\"\n",
      "HTTP Request: POST https://newsaugsponsored.openai.azure.com//openai/deployments/AzureNewsAug/chat/completions?api-version=2023-05-15 \"HTTP/1.1 200 OK\"\n"
     ]
    },
    {
     "name": "stderr",
     "output_type": "stream",
     "text": [
      "/home/g2/.local/lib/python3.10/site-packages/llama_index/core/evaluation/dataset_generation.py:312: DeprecationWarning: Call to deprecated class QueryResponseDataset. (Deprecated in favor of `LabelledRagDataset` which should be used instead.)\n",
      "  return QueryResponseDataset(queries=queries, responses=responses_dict)\n",
      "/home/g2/.local/lib/python3.10/site-packages/llama_index/core/evaluation/dataset_generation.py:215: DeprecationWarning: Call to deprecated class DatasetGenerator. (Deprecated in favor of `RagDatasetGenerator` which should be used instead.)\n",
      "  return cls(\n"
     ]
    },
    {
     "name": "stdout",
     "output_type": "stream",
     "text": [
      "INFO:httpx:HTTP Request: POST https://newsaugsponsored.openai.azure.com//openai/deployments/AzureNewsAug/chat/completions?api-version=2023-05-15 \"HTTP/1.1 200 OK\"\n",
      "HTTP Request: POST https://newsaugsponsored.openai.azure.com//openai/deployments/AzureNewsAug/chat/completions?api-version=2023-05-15 \"HTTP/1.1 200 OK\"\n",
      "HTTP Request: POST https://newsaugsponsored.openai.azure.com//openai/deployments/AzureNewsAug/chat/completions?api-version=2023-05-15 \"HTTP/1.1 200 OK\"\n",
      "INFO:httpx:HTTP Request: POST https://newsaugsponsored.openai.azure.com//openai/deployments/AzureNewsAug/chat/completions?api-version=2023-05-15 \"HTTP/1.1 200 OK\"\n",
      "HTTP Request: POST https://newsaugsponsored.openai.azure.com//openai/deployments/AzureNewsAug/chat/completions?api-version=2023-05-15 \"HTTP/1.1 200 OK\"\n",
      "HTTP Request: POST https://newsaugsponsored.openai.azure.com//openai/deployments/AzureNewsAug/chat/completions?api-version=2023-05-15 \"HTTP/1.1 200 OK\"\n"
     ]
    },
    {
     "name": "stderr",
     "output_type": "stream",
     "text": [
      "/home/g2/.local/lib/python3.10/site-packages/llama_index/core/evaluation/dataset_generation.py:312: DeprecationWarning: Call to deprecated class QueryResponseDataset. (Deprecated in favor of `LabelledRagDataset` which should be used instead.)\n",
      "  return QueryResponseDataset(queries=queries, responses=responses_dict)\n",
      "/home/g2/.local/lib/python3.10/site-packages/llama_index/core/evaluation/dataset_generation.py:215: DeprecationWarning: Call to deprecated class DatasetGenerator. (Deprecated in favor of `RagDatasetGenerator` which should be used instead.)\n",
      "  return cls(\n"
     ]
    },
    {
     "name": "stdout",
     "output_type": "stream",
     "text": [
      "INFO:httpx:HTTP Request: POST https://newsaugsponsored.openai.azure.com//openai/deployments/AzureNewsAug/chat/completions?api-version=2023-05-15 \"HTTP/1.1 200 OK\"\n",
      "HTTP Request: POST https://newsaugsponsored.openai.azure.com//openai/deployments/AzureNewsAug/chat/completions?api-version=2023-05-15 \"HTTP/1.1 200 OK\"\n",
      "HTTP Request: POST https://newsaugsponsored.openai.azure.com//openai/deployments/AzureNewsAug/chat/completions?api-version=2023-05-15 \"HTTP/1.1 200 OK\"\n",
      "INFO:httpx:HTTP Request: POST https://newsaugsponsored.openai.azure.com//openai/deployments/AzureNewsAug/chat/completions?api-version=2023-05-15 \"HTTP/1.1 200 OK\"\n",
      "HTTP Request: POST https://newsaugsponsored.openai.azure.com//openai/deployments/AzureNewsAug/chat/completions?api-version=2023-05-15 \"HTTP/1.1 200 OK\"\n",
      "HTTP Request: POST https://newsaugsponsored.openai.azure.com//openai/deployments/AzureNewsAug/chat/completions?api-version=2023-05-15 \"HTTP/1.1 200 OK\"\n"
     ]
    },
    {
     "name": "stderr",
     "output_type": "stream",
     "text": [
      "/home/g2/.local/lib/python3.10/site-packages/llama_index/core/evaluation/dataset_generation.py:312: DeprecationWarning: Call to deprecated class QueryResponseDataset. (Deprecated in favor of `LabelledRagDataset` which should be used instead.)\n",
      "  return QueryResponseDataset(queries=queries, responses=responses_dict)\n",
      "/home/g2/.local/lib/python3.10/site-packages/llama_index/core/evaluation/dataset_generation.py:215: DeprecationWarning: Call to deprecated class DatasetGenerator. (Deprecated in favor of `RagDatasetGenerator` which should be used instead.)\n",
      "  return cls(\n"
     ]
    },
    {
     "name": "stdout",
     "output_type": "stream",
     "text": [
      "INFO:httpx:HTTP Request: POST https://newsaugsponsored.openai.azure.com//openai/deployments/AzureNewsAug/chat/completions?api-version=2023-05-15 \"HTTP/1.1 200 OK\"\n",
      "HTTP Request: POST https://newsaugsponsored.openai.azure.com//openai/deployments/AzureNewsAug/chat/completions?api-version=2023-05-15 \"HTTP/1.1 200 OK\"\n",
      "HTTP Request: POST https://newsaugsponsored.openai.azure.com//openai/deployments/AzureNewsAug/chat/completions?api-version=2023-05-15 \"HTTP/1.1 200 OK\"\n",
      "INFO:httpx:HTTP Request: POST https://newsaugsponsored.openai.azure.com//openai/deployments/AzureNewsAug/chat/completions?api-version=2023-05-15 \"HTTP/1.1 200 OK\"\n",
      "HTTP Request: POST https://newsaugsponsored.openai.azure.com//openai/deployments/AzureNewsAug/chat/completions?api-version=2023-05-15 \"HTTP/1.1 200 OK\"\n",
      "HTTP Request: POST https://newsaugsponsored.openai.azure.com//openai/deployments/AzureNewsAug/chat/completions?api-version=2023-05-15 \"HTTP/1.1 200 OK\"\n"
     ]
    },
    {
     "name": "stderr",
     "output_type": "stream",
     "text": [
      "/home/g2/.local/lib/python3.10/site-packages/llama_index/core/evaluation/dataset_generation.py:312: DeprecationWarning: Call to deprecated class QueryResponseDataset. (Deprecated in favor of `LabelledRagDataset` which should be used instead.)\n",
      "  return QueryResponseDataset(queries=queries, responses=responses_dict)\n",
      "/home/g2/.local/lib/python3.10/site-packages/llama_index/core/evaluation/dataset_generation.py:215: DeprecationWarning: Call to deprecated class DatasetGenerator. (Deprecated in favor of `RagDatasetGenerator` which should be used instead.)\n",
      "  return cls(\n"
     ]
    },
    {
     "name": "stdout",
     "output_type": "stream",
     "text": [
      "INFO:httpx:HTTP Request: POST https://newsaugsponsored.openai.azure.com//openai/deployments/AzureNewsAug/chat/completions?api-version=2023-05-15 \"HTTP/1.1 200 OK\"\n",
      "HTTP Request: POST https://newsaugsponsored.openai.azure.com//openai/deployments/AzureNewsAug/chat/completions?api-version=2023-05-15 \"HTTP/1.1 200 OK\"\n",
      "HTTP Request: POST https://newsaugsponsored.openai.azure.com//openai/deployments/AzureNewsAug/chat/completions?api-version=2023-05-15 \"HTTP/1.1 200 OK\"\n",
      "INFO:httpx:HTTP Request: POST https://newsaugsponsored.openai.azure.com//openai/deployments/AzureNewsAug/chat/completions?api-version=2023-05-15 \"HTTP/1.1 200 OK\"\n",
      "HTTP Request: POST https://newsaugsponsored.openai.azure.com//openai/deployments/AzureNewsAug/chat/completions?api-version=2023-05-15 \"HTTP/1.1 200 OK\"\n",
      "HTTP Request: POST https://newsaugsponsored.openai.azure.com//openai/deployments/AzureNewsAug/chat/completions?api-version=2023-05-15 \"HTTP/1.1 200 OK\"\n",
      "INFO:httpx:HTTP Request: POST https://newsaugsponsored.openai.azure.com//openai/deployments/AzureNewsAug/chat/completions?api-version=2023-05-15 \"HTTP/1.1 200 OK\"\n",
      "HTTP Request: POST https://newsaugsponsored.openai.azure.com//openai/deployments/AzureNewsAug/chat/completions?api-version=2023-05-15 \"HTTP/1.1 200 OK\"\n",
      "HTTP Request: POST https://newsaugsponsored.openai.azure.com//openai/deployments/AzureNewsAug/chat/completions?api-version=2023-05-15 \"HTTP/1.1 200 OK\"\n",
      "INFO:httpx:HTTP Request: POST https://newsaugsponsored.openai.azure.com//openai/deployments/AzureNewsAug/chat/completions?api-version=2023-05-15 \"HTTP/1.1 200 OK\"\n",
      "HTTP Request: POST https://newsaugsponsored.openai.azure.com//openai/deployments/AzureNewsAug/chat/completions?api-version=2023-05-15 \"HTTP/1.1 200 OK\"\n",
      "HTTP Request: POST https://newsaugsponsored.openai.azure.com//openai/deployments/AzureNewsAug/chat/completions?api-version=2023-05-15 \"HTTP/1.1 200 OK\"\n",
      "INFO:httpx:HTTP Request: POST https://newsaugsponsored.openai.azure.com//openai/deployments/AzureNewsAug/chat/completions?api-version=2023-05-15 \"HTTP/1.1 200 OK\"\n",
      "HTTP Request: POST https://newsaugsponsored.openai.azure.com//openai/deployments/AzureNewsAug/chat/completions?api-version=2023-05-15 \"HTTP/1.1 200 OK\"\n",
      "HTTP Request: POST https://newsaugsponsored.openai.azure.com//openai/deployments/AzureNewsAug/chat/completions?api-version=2023-05-15 \"HTTP/1.1 200 OK\"\n",
      "INFO:httpx:HTTP Request: POST https://newsaugsponsored.openai.azure.com//openai/deployments/AzureNewsAug/chat/completions?api-version=2023-05-15 \"HTTP/1.1 200 OK\"\n",
      "HTTP Request: POST https://newsaugsponsored.openai.azure.com//openai/deployments/AzureNewsAug/chat/completions?api-version=2023-05-15 \"HTTP/1.1 200 OK\"\n",
      "HTTP Request: POST https://newsaugsponsored.openai.azure.com//openai/deployments/AzureNewsAug/chat/completions?api-version=2023-05-15 \"HTTP/1.1 200 OK\"\n",
      "INFO:httpx:HTTP Request: POST https://newsaugsponsored.openai.azure.com//openai/deployments/AzureNewsAug/chat/completions?api-version=2023-05-15 \"HTTP/1.1 200 OK\"\n",
      "HTTP Request: POST https://newsaugsponsored.openai.azure.com//openai/deployments/AzureNewsAug/chat/completions?api-version=2023-05-15 \"HTTP/1.1 200 OK\"\n",
      "HTTP Request: POST https://newsaugsponsored.openai.azure.com//openai/deployments/AzureNewsAug/chat/completions?api-version=2023-05-15 \"HTTP/1.1 200 OK\"\n",
      "INFO:httpx:HTTP Request: POST https://newsaugsponsored.openai.azure.com//openai/deployments/AzureNewsAug/chat/completions?api-version=2023-05-15 \"HTTP/1.1 200 OK\"\n",
      "HTTP Request: POST https://newsaugsponsored.openai.azure.com//openai/deployments/AzureNewsAug/chat/completions?api-version=2023-05-15 \"HTTP/1.1 200 OK\"\n",
      "HTTP Request: POST https://newsaugsponsored.openai.azure.com//openai/deployments/AzureNewsAug/chat/completions?api-version=2023-05-15 \"HTTP/1.1 200 OK\"\n",
      "INFO:httpx:HTTP Request: POST https://newsaugsponsored.openai.azure.com//openai/deployments/AzureNewsAug/chat/completions?api-version=2023-05-15 \"HTTP/1.1 200 OK\"\n",
      "HTTP Request: POST https://newsaugsponsored.openai.azure.com//openai/deployments/AzureNewsAug/chat/completions?api-version=2023-05-15 \"HTTP/1.1 200 OK\"\n",
      "HTTP Request: POST https://newsaugsponsored.openai.azure.com//openai/deployments/AzureNewsAug/chat/completions?api-version=2023-05-15 \"HTTP/1.1 200 OK\"\n"
     ]
    },
    {
     "name": "stderr",
     "output_type": "stream",
     "text": [
      "/home/g2/.local/lib/python3.10/site-packages/llama_index/core/evaluation/dataset_generation.py:312: DeprecationWarning: Call to deprecated class QueryResponseDataset. (Deprecated in favor of `LabelledRagDataset` which should be used instead.)\n",
      "  return QueryResponseDataset(queries=queries, responses=responses_dict)\n",
      "/home/g2/.local/lib/python3.10/site-packages/llama_index/core/evaluation/dataset_generation.py:215: DeprecationWarning: Call to deprecated class DatasetGenerator. (Deprecated in favor of `RagDatasetGenerator` which should be used instead.)\n",
      "  return cls(\n"
     ]
    },
    {
     "name": "stdout",
     "output_type": "stream",
     "text": [
      "INFO:httpx:HTTP Request: POST https://newsaugsponsored.openai.azure.com//openai/deployments/AzureNewsAug/chat/completions?api-version=2023-05-15 \"HTTP/1.1 200 OK\"\n",
      "HTTP Request: POST https://newsaugsponsored.openai.azure.com//openai/deployments/AzureNewsAug/chat/completions?api-version=2023-05-15 \"HTTP/1.1 200 OK\"\n",
      "HTTP Request: POST https://newsaugsponsored.openai.azure.com//openai/deployments/AzureNewsAug/chat/completions?api-version=2023-05-15 \"HTTP/1.1 200 OK\"\n",
      "INFO:httpx:HTTP Request: POST https://newsaugsponsored.openai.azure.com//openai/deployments/AzureNewsAug/chat/completions?api-version=2023-05-15 \"HTTP/1.1 200 OK\"\n",
      "HTTP Request: POST https://newsaugsponsored.openai.azure.com//openai/deployments/AzureNewsAug/chat/completions?api-version=2023-05-15 \"HTTP/1.1 200 OK\"\n",
      "HTTP Request: POST https://newsaugsponsored.openai.azure.com//openai/deployments/AzureNewsAug/chat/completions?api-version=2023-05-15 \"HTTP/1.1 200 OK\"\n"
     ]
    },
    {
     "name": "stderr",
     "output_type": "stream",
     "text": [
      "/home/g2/.local/lib/python3.10/site-packages/llama_index/core/evaluation/dataset_generation.py:312: DeprecationWarning: Call to deprecated class QueryResponseDataset. (Deprecated in favor of `LabelledRagDataset` which should be used instead.)\n",
      "  return QueryResponseDataset(queries=queries, responses=responses_dict)\n",
      "/home/g2/.local/lib/python3.10/site-packages/llama_index/core/evaluation/dataset_generation.py:215: DeprecationWarning: Call to deprecated class DatasetGenerator. (Deprecated in favor of `RagDatasetGenerator` which should be used instead.)\n",
      "  return cls(\n"
     ]
    },
    {
     "name": "stdout",
     "output_type": "stream",
     "text": [
      "INFO:httpx:HTTP Request: POST https://newsaugsponsored.openai.azure.com//openai/deployments/AzureNewsAug/chat/completions?api-version=2023-05-15 \"HTTP/1.1 200 OK\"\n",
      "HTTP Request: POST https://newsaugsponsored.openai.azure.com//openai/deployments/AzureNewsAug/chat/completions?api-version=2023-05-15 \"HTTP/1.1 200 OK\"\n",
      "HTTP Request: POST https://newsaugsponsored.openai.azure.com//openai/deployments/AzureNewsAug/chat/completions?api-version=2023-05-15 \"HTTP/1.1 200 OK\"\n",
      "INFO:httpx:HTTP Request: POST https://newsaugsponsored.openai.azure.com//openai/deployments/AzureNewsAug/chat/completions?api-version=2023-05-15 \"HTTP/1.1 200 OK\"\n",
      "HTTP Request: POST https://newsaugsponsored.openai.azure.com//openai/deployments/AzureNewsAug/chat/completions?api-version=2023-05-15 \"HTTP/1.1 200 OK\"\n",
      "HTTP Request: POST https://newsaugsponsored.openai.azure.com//openai/deployments/AzureNewsAug/chat/completions?api-version=2023-05-15 \"HTTP/1.1 200 OK\"\n"
     ]
    },
    {
     "name": "stderr",
     "output_type": "stream",
     "text": [
      "/home/g2/.local/lib/python3.10/site-packages/llama_index/core/evaluation/dataset_generation.py:312: DeprecationWarning: Call to deprecated class QueryResponseDataset. (Deprecated in favor of `LabelledRagDataset` which should be used instead.)\n",
      "  return QueryResponseDataset(queries=queries, responses=responses_dict)\n",
      "/home/g2/.local/lib/python3.10/site-packages/llama_index/core/evaluation/dataset_generation.py:215: DeprecationWarning: Call to deprecated class DatasetGenerator. (Deprecated in favor of `RagDatasetGenerator` which should be used instead.)\n",
      "  return cls(\n"
     ]
    },
    {
     "name": "stdout",
     "output_type": "stream",
     "text": [
      "INFO:httpx:HTTP Request: POST https://newsaugsponsored.openai.azure.com//openai/deployments/AzureNewsAug/chat/completions?api-version=2023-05-15 \"HTTP/1.1 200 OK\"\n",
      "HTTP Request: POST https://newsaugsponsored.openai.azure.com//openai/deployments/AzureNewsAug/chat/completions?api-version=2023-05-15 \"HTTP/1.1 200 OK\"\n",
      "HTTP Request: POST https://newsaugsponsored.openai.azure.com//openai/deployments/AzureNewsAug/chat/completions?api-version=2023-05-15 \"HTTP/1.1 200 OK\"\n",
      "INFO:httpx:HTTP Request: POST https://newsaugsponsored.openai.azure.com//openai/deployments/AzureNewsAug/chat/completions?api-version=2023-05-15 \"HTTP/1.1 200 OK\"\n",
      "HTTP Request: POST https://newsaugsponsored.openai.azure.com//openai/deployments/AzureNewsAug/chat/completions?api-version=2023-05-15 \"HTTP/1.1 200 OK\"\n",
      "HTTP Request: POST https://newsaugsponsored.openai.azure.com//openai/deployments/AzureNewsAug/chat/completions?api-version=2023-05-15 \"HTTP/1.1 200 OK\"\n"
     ]
    },
    {
     "name": "stderr",
     "output_type": "stream",
     "text": [
      "/home/g2/.local/lib/python3.10/site-packages/llama_index/core/evaluation/dataset_generation.py:312: DeprecationWarning: Call to deprecated class QueryResponseDataset. (Deprecated in favor of `LabelledRagDataset` which should be used instead.)\n",
      "  return QueryResponseDataset(queries=queries, responses=responses_dict)\n",
      "/home/g2/.local/lib/python3.10/site-packages/llama_index/core/evaluation/dataset_generation.py:215: DeprecationWarning: Call to deprecated class DatasetGenerator. (Deprecated in favor of `RagDatasetGenerator` which should be used instead.)\n",
      "  return cls(\n"
     ]
    },
    {
     "name": "stdout",
     "output_type": "stream",
     "text": [
      "INFO:httpx:HTTP Request: POST https://newsaugsponsored.openai.azure.com//openai/deployments/AzureNewsAug/chat/completions?api-version=2023-05-15 \"HTTP/1.1 200 OK\"\n",
      "HTTP Request: POST https://newsaugsponsored.openai.azure.com//openai/deployments/AzureNewsAug/chat/completions?api-version=2023-05-15 \"HTTP/1.1 200 OK\"\n",
      "HTTP Request: POST https://newsaugsponsored.openai.azure.com//openai/deployments/AzureNewsAug/chat/completions?api-version=2023-05-15 \"HTTP/1.1 200 OK\"\n",
      "INFO:httpx:HTTP Request: POST https://newsaugsponsored.openai.azure.com//openai/deployments/AzureNewsAug/chat/completions?api-version=2023-05-15 \"HTTP/1.1 200 OK\"\n",
      "HTTP Request: POST https://newsaugsponsored.openai.azure.com//openai/deployments/AzureNewsAug/chat/completions?api-version=2023-05-15 \"HTTP/1.1 200 OK\"\n",
      "HTTP Request: POST https://newsaugsponsored.openai.azure.com//openai/deployments/AzureNewsAug/chat/completions?api-version=2023-05-15 \"HTTP/1.1 200 OK\"\n"
     ]
    },
    {
     "name": "stderr",
     "output_type": "stream",
     "text": [
      "/home/g2/.local/lib/python3.10/site-packages/llama_index/core/evaluation/dataset_generation.py:312: DeprecationWarning: Call to deprecated class QueryResponseDataset. (Deprecated in favor of `LabelledRagDataset` which should be used instead.)\n",
      "  return QueryResponseDataset(queries=queries, responses=responses_dict)\n",
      "/home/g2/.local/lib/python3.10/site-packages/llama_index/core/evaluation/dataset_generation.py:215: DeprecationWarning: Call to deprecated class DatasetGenerator. (Deprecated in favor of `RagDatasetGenerator` which should be used instead.)\n",
      "  return cls(\n"
     ]
    },
    {
     "name": "stdout",
     "output_type": "stream",
     "text": [
      "INFO:httpx:HTTP Request: POST https://newsaugsponsored.openai.azure.com//openai/deployments/AzureNewsAug/chat/completions?api-version=2023-05-15 \"HTTP/1.1 200 OK\"\n",
      "HTTP Request: POST https://newsaugsponsored.openai.azure.com//openai/deployments/AzureNewsAug/chat/completions?api-version=2023-05-15 \"HTTP/1.1 200 OK\"\n",
      "HTTP Request: POST https://newsaugsponsored.openai.azure.com//openai/deployments/AzureNewsAug/chat/completions?api-version=2023-05-15 \"HTTP/1.1 200 OK\"\n",
      "INFO:httpx:HTTP Request: POST https://newsaugsponsored.openai.azure.com//openai/deployments/AzureNewsAug/chat/completions?api-version=2023-05-15 \"HTTP/1.1 200 OK\"\n",
      "HTTP Request: POST https://newsaugsponsored.openai.azure.com//openai/deployments/AzureNewsAug/chat/completions?api-version=2023-05-15 \"HTTP/1.1 200 OK\"\n",
      "HTTP Request: POST https://newsaugsponsored.openai.azure.com//openai/deployments/AzureNewsAug/chat/completions?api-version=2023-05-15 \"HTTP/1.1 200 OK\"\n",
      "INFO:httpx:HTTP Request: POST https://newsaugsponsored.openai.azure.com//openai/deployments/AzureNewsAug/chat/completions?api-version=2023-05-15 \"HTTP/1.1 200 OK\"\n",
      "HTTP Request: POST https://newsaugsponsored.openai.azure.com//openai/deployments/AzureNewsAug/chat/completions?api-version=2023-05-15 \"HTTP/1.1 200 OK\"\n",
      "HTTP Request: POST https://newsaugsponsored.openai.azure.com//openai/deployments/AzureNewsAug/chat/completions?api-version=2023-05-15 \"HTTP/1.1 200 OK\"\n"
     ]
    },
    {
     "name": "stderr",
     "output_type": "stream",
     "text": [
      "/home/g2/.local/lib/python3.10/site-packages/llama_index/core/evaluation/dataset_generation.py:312: DeprecationWarning: Call to deprecated class QueryResponseDataset. (Deprecated in favor of `LabelledRagDataset` which should be used instead.)\n",
      "  return QueryResponseDataset(queries=queries, responses=responses_dict)\n",
      "/home/g2/.local/lib/python3.10/site-packages/llama_index/core/evaluation/dataset_generation.py:215: DeprecationWarning: Call to deprecated class DatasetGenerator. (Deprecated in favor of `RagDatasetGenerator` which should be used instead.)\n",
      "  return cls(\n"
     ]
    },
    {
     "name": "stdout",
     "output_type": "stream",
     "text": [
      "INFO:httpx:HTTP Request: POST https://newsaugsponsored.openai.azure.com//openai/deployments/AzureNewsAug/chat/completions?api-version=2023-05-15 \"HTTP/1.1 200 OK\"\n",
      "HTTP Request: POST https://newsaugsponsored.openai.azure.com//openai/deployments/AzureNewsAug/chat/completions?api-version=2023-05-15 \"HTTP/1.1 200 OK\"\n",
      "HTTP Request: POST https://newsaugsponsored.openai.azure.com//openai/deployments/AzureNewsAug/chat/completions?api-version=2023-05-15 \"HTTP/1.1 200 OK\"\n",
      "INFO:httpx:HTTP Request: POST https://newsaugsponsored.openai.azure.com//openai/deployments/AzureNewsAug/chat/completions?api-version=2023-05-15 \"HTTP/1.1 200 OK\"\n",
      "HTTP Request: POST https://newsaugsponsored.openai.azure.com//openai/deployments/AzureNewsAug/chat/completions?api-version=2023-05-15 \"HTTP/1.1 200 OK\"\n",
      "HTTP Request: POST https://newsaugsponsored.openai.azure.com//openai/deployments/AzureNewsAug/chat/completions?api-version=2023-05-15 \"HTTP/1.1 200 OK\"\n",
      "INFO:httpx:HTTP Request: POST https://newsaugsponsored.openai.azure.com//openai/deployments/AzureNewsAug/chat/completions?api-version=2023-05-15 \"HTTP/1.1 200 OK\"\n",
      "HTTP Request: POST https://newsaugsponsored.openai.azure.com//openai/deployments/AzureNewsAug/chat/completions?api-version=2023-05-15 \"HTTP/1.1 200 OK\"\n",
      "HTTP Request: POST https://newsaugsponsored.openai.azure.com//openai/deployments/AzureNewsAug/chat/completions?api-version=2023-05-15 \"HTTP/1.1 200 OK\"\n",
      "INFO:httpx:HTTP Request: POST https://newsaugsponsored.openai.azure.com//openai/deployments/AzureNewsAug/chat/completions?api-version=2023-05-15 \"HTTP/1.1 200 OK\"\n",
      "HTTP Request: POST https://newsaugsponsored.openai.azure.com//openai/deployments/AzureNewsAug/chat/completions?api-version=2023-05-15 \"HTTP/1.1 200 OK\"\n",
      "HTTP Request: POST https://newsaugsponsored.openai.azure.com//openai/deployments/AzureNewsAug/chat/completions?api-version=2023-05-15 \"HTTP/1.1 200 OK\"\n",
      "INFO:httpx:HTTP Request: POST https://newsaugsponsored.openai.azure.com//openai/deployments/AzureNewsAug/chat/completions?api-version=2023-05-15 \"HTTP/1.1 200 OK\"\n",
      "HTTP Request: POST https://newsaugsponsored.openai.azure.com//openai/deployments/AzureNewsAug/chat/completions?api-version=2023-05-15 \"HTTP/1.1 200 OK\"\n",
      "HTTP Request: POST https://newsaugsponsored.openai.azure.com//openai/deployments/AzureNewsAug/chat/completions?api-version=2023-05-15 \"HTTP/1.1 200 OK\"\n",
      "INFO:httpx:HTTP Request: POST https://newsaugsponsored.openai.azure.com//openai/deployments/AzureNewsAug/chat/completions?api-version=2023-05-15 \"HTTP/1.1 200 OK\"\n",
      "HTTP Request: POST https://newsaugsponsored.openai.azure.com//openai/deployments/AzureNewsAug/chat/completions?api-version=2023-05-15 \"HTTP/1.1 200 OK\"\n",
      "HTTP Request: POST https://newsaugsponsored.openai.azure.com//openai/deployments/AzureNewsAug/chat/completions?api-version=2023-05-15 \"HTTP/1.1 200 OK\"\n"
     ]
    },
    {
     "name": "stderr",
     "output_type": "stream",
     "text": [
      "/home/g2/.local/lib/python3.10/site-packages/llama_index/core/evaluation/dataset_generation.py:312: DeprecationWarning: Call to deprecated class QueryResponseDataset. (Deprecated in favor of `LabelledRagDataset` which should be used instead.)\n",
      "  return QueryResponseDataset(queries=queries, responses=responses_dict)\n",
      "/home/g2/.local/lib/python3.10/site-packages/llama_index/core/evaluation/dataset_generation.py:215: DeprecationWarning: Call to deprecated class DatasetGenerator. (Deprecated in favor of `RagDatasetGenerator` which should be used instead.)\n",
      "  return cls(\n"
     ]
    },
    {
     "name": "stdout",
     "output_type": "stream",
     "text": [
      "INFO:httpx:HTTP Request: POST https://newsaugsponsored.openai.azure.com//openai/deployments/AzureNewsAug/chat/completions?api-version=2023-05-15 \"HTTP/1.1 200 OK\"\n",
      "HTTP Request: POST https://newsaugsponsored.openai.azure.com//openai/deployments/AzureNewsAug/chat/completions?api-version=2023-05-15 \"HTTP/1.1 200 OK\"\n",
      "HTTP Request: POST https://newsaugsponsored.openai.azure.com//openai/deployments/AzureNewsAug/chat/completions?api-version=2023-05-15 \"HTTP/1.1 200 OK\"\n",
      "INFO:httpx:HTTP Request: POST https://newsaugsponsored.openai.azure.com//openai/deployments/AzureNewsAug/chat/completions?api-version=2023-05-15 \"HTTP/1.1 200 OK\"\n",
      "HTTP Request: POST https://newsaugsponsored.openai.azure.com//openai/deployments/AzureNewsAug/chat/completions?api-version=2023-05-15 \"HTTP/1.1 200 OK\"\n",
      "HTTP Request: POST https://newsaugsponsored.openai.azure.com//openai/deployments/AzureNewsAug/chat/completions?api-version=2023-05-15 \"HTTP/1.1 200 OK\"\n"
     ]
    },
    {
     "name": "stderr",
     "output_type": "stream",
     "text": [
      "/home/g2/.local/lib/python3.10/site-packages/llama_index/core/evaluation/dataset_generation.py:312: DeprecationWarning: Call to deprecated class QueryResponseDataset. (Deprecated in favor of `LabelledRagDataset` which should be used instead.)\n",
      "  return QueryResponseDataset(queries=queries, responses=responses_dict)\n",
      "/home/g2/.local/lib/python3.10/site-packages/llama_index/core/evaluation/dataset_generation.py:215: DeprecationWarning: Call to deprecated class DatasetGenerator. (Deprecated in favor of `RagDatasetGenerator` which should be used instead.)\n",
      "  return cls(\n"
     ]
    },
    {
     "name": "stdout",
     "output_type": "stream",
     "text": [
      "INFO:httpx:HTTP Request: POST https://newsaugsponsored.openai.azure.com//openai/deployments/AzureNewsAug/chat/completions?api-version=2023-05-15 \"HTTP/1.1 200 OK\"\n",
      "HTTP Request: POST https://newsaugsponsored.openai.azure.com//openai/deployments/AzureNewsAug/chat/completions?api-version=2023-05-15 \"HTTP/1.1 200 OK\"\n",
      "HTTP Request: POST https://newsaugsponsored.openai.azure.com//openai/deployments/AzureNewsAug/chat/completions?api-version=2023-05-15 \"HTTP/1.1 200 OK\"\n",
      "INFO:httpx:HTTP Request: POST https://newsaugsponsored.openai.azure.com//openai/deployments/AzureNewsAug/chat/completions?api-version=2023-05-15 \"HTTP/1.1 200 OK\"\n",
      "HTTP Request: POST https://newsaugsponsored.openai.azure.com//openai/deployments/AzureNewsAug/chat/completions?api-version=2023-05-15 \"HTTP/1.1 200 OK\"\n",
      "HTTP Request: POST https://newsaugsponsored.openai.azure.com//openai/deployments/AzureNewsAug/chat/completions?api-version=2023-05-15 \"HTTP/1.1 200 OK\"\n",
      "INFO:httpx:HTTP Request: POST https://newsaugsponsored.openai.azure.com//openai/deployments/AzureNewsAug/chat/completions?api-version=2023-05-15 \"HTTP/1.1 200 OK\"\n",
      "HTTP Request: POST https://newsaugsponsored.openai.azure.com//openai/deployments/AzureNewsAug/chat/completions?api-version=2023-05-15 \"HTTP/1.1 200 OK\"\n",
      "HTTP Request: POST https://newsaugsponsored.openai.azure.com//openai/deployments/AzureNewsAug/chat/completions?api-version=2023-05-15 \"HTTP/1.1 200 OK\"\n",
      "INFO:httpx:HTTP Request: POST https://newsaugsponsored.openai.azure.com//openai/deployments/AzureNewsAug/chat/completions?api-version=2023-05-15 \"HTTP/1.1 200 OK\"\n",
      "HTTP Request: POST https://newsaugsponsored.openai.azure.com//openai/deployments/AzureNewsAug/chat/completions?api-version=2023-05-15 \"HTTP/1.1 200 OK\"\n",
      "HTTP Request: POST https://newsaugsponsored.openai.azure.com//openai/deployments/AzureNewsAug/chat/completions?api-version=2023-05-15 \"HTTP/1.1 200 OK\"\n",
      "INFO:httpx:HTTP Request: POST https://newsaugsponsored.openai.azure.com//openai/deployments/AzureNewsAug/chat/completions?api-version=2023-05-15 \"HTTP/1.1 200 OK\"\n",
      "HTTP Request: POST https://newsaugsponsored.openai.azure.com//openai/deployments/AzureNewsAug/chat/completions?api-version=2023-05-15 \"HTTP/1.1 200 OK\"\n",
      "HTTP Request: POST https://newsaugsponsored.openai.azure.com//openai/deployments/AzureNewsAug/chat/completions?api-version=2023-05-15 \"HTTP/1.1 200 OK\"\n"
     ]
    },
    {
     "name": "stderr",
     "output_type": "stream",
     "text": [
      "/home/g2/.local/lib/python3.10/site-packages/llama_index/core/evaluation/dataset_generation.py:312: DeprecationWarning: Call to deprecated class QueryResponseDataset. (Deprecated in favor of `LabelledRagDataset` which should be used instead.)\n",
      "  return QueryResponseDataset(queries=queries, responses=responses_dict)\n",
      "/home/g2/.local/lib/python3.10/site-packages/llama_index/core/evaluation/dataset_generation.py:215: DeprecationWarning: Call to deprecated class DatasetGenerator. (Deprecated in favor of `RagDatasetGenerator` which should be used instead.)\n",
      "  return cls(\n"
     ]
    },
    {
     "name": "stdout",
     "output_type": "stream",
     "text": [
      "INFO:httpx:HTTP Request: POST https://newsaugsponsored.openai.azure.com//openai/deployments/AzureNewsAug/chat/completions?api-version=2023-05-15 \"HTTP/1.1 200 OK\"\n",
      "HTTP Request: POST https://newsaugsponsored.openai.azure.com//openai/deployments/AzureNewsAug/chat/completions?api-version=2023-05-15 \"HTTP/1.1 200 OK\"\n",
      "HTTP Request: POST https://newsaugsponsored.openai.azure.com//openai/deployments/AzureNewsAug/chat/completions?api-version=2023-05-15 \"HTTP/1.1 200 OK\"\n",
      "INFO:httpx:HTTP Request: POST https://newsaugsponsored.openai.azure.com//openai/deployments/AzureNewsAug/chat/completions?api-version=2023-05-15 \"HTTP/1.1 200 OK\"\n",
      "HTTP Request: POST https://newsaugsponsored.openai.azure.com//openai/deployments/AzureNewsAug/chat/completions?api-version=2023-05-15 \"HTTP/1.1 200 OK\"\n",
      "HTTP Request: POST https://newsaugsponsored.openai.azure.com//openai/deployments/AzureNewsAug/chat/completions?api-version=2023-05-15 \"HTTP/1.1 200 OK\"\n",
      "INFO:httpx:HTTP Request: POST https://newsaugsponsored.openai.azure.com//openai/deployments/AzureNewsAug/chat/completions?api-version=2023-05-15 \"HTTP/1.1 200 OK\"\n",
      "HTTP Request: POST https://newsaugsponsored.openai.azure.com//openai/deployments/AzureNewsAug/chat/completions?api-version=2023-05-15 \"HTTP/1.1 200 OK\"\n",
      "HTTP Request: POST https://newsaugsponsored.openai.azure.com//openai/deployments/AzureNewsAug/chat/completions?api-version=2023-05-15 \"HTTP/1.1 200 OK\"\n"
     ]
    },
    {
     "name": "stderr",
     "output_type": "stream",
     "text": [
      "/home/g2/.local/lib/python3.10/site-packages/llama_index/core/evaluation/dataset_generation.py:312: DeprecationWarning: Call to deprecated class QueryResponseDataset. (Deprecated in favor of `LabelledRagDataset` which should be used instead.)\n",
      "  return QueryResponseDataset(queries=queries, responses=responses_dict)\n",
      "/home/g2/.local/lib/python3.10/site-packages/llama_index/core/evaluation/dataset_generation.py:215: DeprecationWarning: Call to deprecated class DatasetGenerator. (Deprecated in favor of `RagDatasetGenerator` which should be used instead.)\n",
      "  return cls(\n"
     ]
    },
    {
     "name": "stdout",
     "output_type": "stream",
     "text": [
      "INFO:httpx:HTTP Request: POST https://newsaugsponsored.openai.azure.com//openai/deployments/AzureNewsAug/chat/completions?api-version=2023-05-15 \"HTTP/1.1 200 OK\"\n",
      "HTTP Request: POST https://newsaugsponsored.openai.azure.com//openai/deployments/AzureNewsAug/chat/completions?api-version=2023-05-15 \"HTTP/1.1 200 OK\"\n",
      "HTTP Request: POST https://newsaugsponsored.openai.azure.com//openai/deployments/AzureNewsAug/chat/completions?api-version=2023-05-15 \"HTTP/1.1 200 OK\"\n",
      "INFO:httpx:HTTP Request: POST https://newsaugsponsored.openai.azure.com//openai/deployments/AzureNewsAug/chat/completions?api-version=2023-05-15 \"HTTP/1.1 200 OK\"\n",
      "HTTP Request: POST https://newsaugsponsored.openai.azure.com//openai/deployments/AzureNewsAug/chat/completions?api-version=2023-05-15 \"HTTP/1.1 200 OK\"\n",
      "HTTP Request: POST https://newsaugsponsored.openai.azure.com//openai/deployments/AzureNewsAug/chat/completions?api-version=2023-05-15 \"HTTP/1.1 200 OK\"\n",
      "INFO:httpx:HTTP Request: POST https://newsaugsponsored.openai.azure.com//openai/deployments/AzureNewsAug/chat/completions?api-version=2023-05-15 \"HTTP/1.1 200 OK\"\n",
      "HTTP Request: POST https://newsaugsponsored.openai.azure.com//openai/deployments/AzureNewsAug/chat/completions?api-version=2023-05-15 \"HTTP/1.1 200 OK\"\n",
      "HTTP Request: POST https://newsaugsponsored.openai.azure.com//openai/deployments/AzureNewsAug/chat/completions?api-version=2023-05-15 \"HTTP/1.1 200 OK\"\n"
     ]
    },
    {
     "name": "stderr",
     "output_type": "stream",
     "text": [
      "/home/g2/.local/lib/python3.10/site-packages/llama_index/core/evaluation/dataset_generation.py:312: DeprecationWarning: Call to deprecated class QueryResponseDataset. (Deprecated in favor of `LabelledRagDataset` which should be used instead.)\n",
      "  return QueryResponseDataset(queries=queries, responses=responses_dict)\n",
      "/home/g2/.local/lib/python3.10/site-packages/llama_index/core/evaluation/dataset_generation.py:215: DeprecationWarning: Call to deprecated class DatasetGenerator. (Deprecated in favor of `RagDatasetGenerator` which should be used instead.)\n",
      "  return cls(\n"
     ]
    },
    {
     "name": "stdout",
     "output_type": "stream",
     "text": [
      "INFO:httpx:HTTP Request: POST https://newsaugsponsored.openai.azure.com//openai/deployments/AzureNewsAug/chat/completions?api-version=2023-05-15 \"HTTP/1.1 200 OK\"\n",
      "HTTP Request: POST https://newsaugsponsored.openai.azure.com//openai/deployments/AzureNewsAug/chat/completions?api-version=2023-05-15 \"HTTP/1.1 200 OK\"\n",
      "HTTP Request: POST https://newsaugsponsored.openai.azure.com//openai/deployments/AzureNewsAug/chat/completions?api-version=2023-05-15 \"HTTP/1.1 200 OK\"\n",
      "INFO:httpx:HTTP Request: POST https://newsaugsponsored.openai.azure.com//openai/deployments/AzureNewsAug/chat/completions?api-version=2023-05-15 \"HTTP/1.1 200 OK\"\n",
      "HTTP Request: POST https://newsaugsponsored.openai.azure.com//openai/deployments/AzureNewsAug/chat/completions?api-version=2023-05-15 \"HTTP/1.1 200 OK\"\n",
      "HTTP Request: POST https://newsaugsponsored.openai.azure.com//openai/deployments/AzureNewsAug/chat/completions?api-version=2023-05-15 \"HTTP/1.1 200 OK\"\n",
      "INFO:httpx:HTTP Request: POST https://newsaugsponsored.openai.azure.com//openai/deployments/AzureNewsAug/chat/completions?api-version=2023-05-15 \"HTTP/1.1 200 OK\"\n",
      "HTTP Request: POST https://newsaugsponsored.openai.azure.com//openai/deployments/AzureNewsAug/chat/completions?api-version=2023-05-15 \"HTTP/1.1 200 OK\"\n",
      "HTTP Request: POST https://newsaugsponsored.openai.azure.com//openai/deployments/AzureNewsAug/chat/completions?api-version=2023-05-15 \"HTTP/1.1 200 OK\"\n"
     ]
    },
    {
     "name": "stderr",
     "output_type": "stream",
     "text": [
      "/home/g2/.local/lib/python3.10/site-packages/llama_index/core/evaluation/dataset_generation.py:312: DeprecationWarning: Call to deprecated class QueryResponseDataset. (Deprecated in favor of `LabelledRagDataset` which should be used instead.)\n",
      "  return QueryResponseDataset(queries=queries, responses=responses_dict)\n",
      "/home/g2/.local/lib/python3.10/site-packages/llama_index/core/evaluation/dataset_generation.py:215: DeprecationWarning: Call to deprecated class DatasetGenerator. (Deprecated in favor of `RagDatasetGenerator` which should be used instead.)\n",
      "  return cls(\n"
     ]
    },
    {
     "name": "stdout",
     "output_type": "stream",
     "text": [
      "INFO:httpx:HTTP Request: POST https://newsaugsponsored.openai.azure.com//openai/deployments/AzureNewsAug/chat/completions?api-version=2023-05-15 \"HTTP/1.1 200 OK\"\n",
      "HTTP Request: POST https://newsaugsponsored.openai.azure.com//openai/deployments/AzureNewsAug/chat/completions?api-version=2023-05-15 \"HTTP/1.1 200 OK\"\n",
      "HTTP Request: POST https://newsaugsponsored.openai.azure.com//openai/deployments/AzureNewsAug/chat/completions?api-version=2023-05-15 \"HTTP/1.1 200 OK\"\n",
      "INFO:httpx:HTTP Request: POST https://newsaugsponsored.openai.azure.com//openai/deployments/AzureNewsAug/chat/completions?api-version=2023-05-15 \"HTTP/1.1 200 OK\"\n",
      "HTTP Request: POST https://newsaugsponsored.openai.azure.com//openai/deployments/AzureNewsAug/chat/completions?api-version=2023-05-15 \"HTTP/1.1 200 OK\"\n",
      "HTTP Request: POST https://newsaugsponsored.openai.azure.com//openai/deployments/AzureNewsAug/chat/completions?api-version=2023-05-15 \"HTTP/1.1 200 OK\"\n",
      "INFO:httpx:HTTP Request: POST https://newsaugsponsored.openai.azure.com//openai/deployments/AzureNewsAug/chat/completions?api-version=2023-05-15 \"HTTP/1.1 200 OK\"\n",
      "HTTP Request: POST https://newsaugsponsored.openai.azure.com//openai/deployments/AzureNewsAug/chat/completions?api-version=2023-05-15 \"HTTP/1.1 200 OK\"\n",
      "HTTP Request: POST https://newsaugsponsored.openai.azure.com//openai/deployments/AzureNewsAug/chat/completions?api-version=2023-05-15 \"HTTP/1.1 200 OK\"\n",
      "INFO:httpx:HTTP Request: POST https://newsaugsponsored.openai.azure.com//openai/deployments/AzureNewsAug/chat/completions?api-version=2023-05-15 \"HTTP/1.1 200 OK\"\n",
      "HTTP Request: POST https://newsaugsponsored.openai.azure.com//openai/deployments/AzureNewsAug/chat/completions?api-version=2023-05-15 \"HTTP/1.1 200 OK\"\n",
      "HTTP Request: POST https://newsaugsponsored.openai.azure.com//openai/deployments/AzureNewsAug/chat/completions?api-version=2023-05-15 \"HTTP/1.1 200 OK\"\n",
      "INFO:httpx:HTTP Request: POST https://newsaugsponsored.openai.azure.com//openai/deployments/AzureNewsAug/chat/completions?api-version=2023-05-15 \"HTTP/1.1 200 OK\"\n",
      "HTTP Request: POST https://newsaugsponsored.openai.azure.com//openai/deployments/AzureNewsAug/chat/completions?api-version=2023-05-15 \"HTTP/1.1 200 OK\"\n",
      "HTTP Request: POST https://newsaugsponsored.openai.azure.com//openai/deployments/AzureNewsAug/chat/completions?api-version=2023-05-15 \"HTTP/1.1 200 OK\"\n",
      "INFO:httpx:HTTP Request: POST https://newsaugsponsored.openai.azure.com//openai/deployments/AzureNewsAug/chat/completions?api-version=2023-05-15 \"HTTP/1.1 200 OK\"\n",
      "HTTP Request: POST https://newsaugsponsored.openai.azure.com//openai/deployments/AzureNewsAug/chat/completions?api-version=2023-05-15 \"HTTP/1.1 200 OK\"\n",
      "HTTP Request: POST https://newsaugsponsored.openai.azure.com//openai/deployments/AzureNewsAug/chat/completions?api-version=2023-05-15 \"HTTP/1.1 200 OK\"\n",
      "INFO:httpx:HTTP Request: POST https://newsaugsponsored.openai.azure.com//openai/deployments/AzureNewsAug/chat/completions?api-version=2023-05-15 \"HTTP/1.1 200 OK\"\n",
      "HTTP Request: POST https://newsaugsponsored.openai.azure.com//openai/deployments/AzureNewsAug/chat/completions?api-version=2023-05-15 \"HTTP/1.1 200 OK\"\n",
      "HTTP Request: POST https://newsaugsponsored.openai.azure.com//openai/deployments/AzureNewsAug/chat/completions?api-version=2023-05-15 \"HTTP/1.1 200 OK\"\n",
      "INFO:httpx:HTTP Request: POST https://newsaugsponsored.openai.azure.com//openai/deployments/AzureNewsAug/chat/completions?api-version=2023-05-15 \"HTTP/1.1 200 OK\"\n",
      "HTTP Request: POST https://newsaugsponsored.openai.azure.com//openai/deployments/AzureNewsAug/chat/completions?api-version=2023-05-15 \"HTTP/1.1 200 OK\"\n",
      "HTTP Request: POST https://newsaugsponsored.openai.azure.com//openai/deployments/AzureNewsAug/chat/completions?api-version=2023-05-15 \"HTTP/1.1 200 OK\"\n",
      "INFO:httpx:HTTP Request: POST https://newsaugsponsored.openai.azure.com//openai/deployments/AzureNewsAug/chat/completions?api-version=2023-05-15 \"HTTP/1.1 200 OK\"\n",
      "HTTP Request: POST https://newsaugsponsored.openai.azure.com//openai/deployments/AzureNewsAug/chat/completions?api-version=2023-05-15 \"HTTP/1.1 200 OK\"\n",
      "HTTP Request: POST https://newsaugsponsored.openai.azure.com//openai/deployments/AzureNewsAug/chat/completions?api-version=2023-05-15 \"HTTP/1.1 200 OK\"\n",
      "INFO:httpx:HTTP Request: POST https://newsaugsponsored.openai.azure.com//openai/deployments/AzureNewsAug/chat/completions?api-version=2023-05-15 \"HTTP/1.1 200 OK\"\n",
      "HTTP Request: POST https://newsaugsponsored.openai.azure.com//openai/deployments/AzureNewsAug/chat/completions?api-version=2023-05-15 \"HTTP/1.1 200 OK\"\n",
      "HTTP Request: POST https://newsaugsponsored.openai.azure.com//openai/deployments/AzureNewsAug/chat/completions?api-version=2023-05-15 \"HTTP/1.1 200 OK\"\n"
     ]
    },
    {
     "name": "stderr",
     "output_type": "stream",
     "text": [
      "/home/g2/.local/lib/python3.10/site-packages/llama_index/core/evaluation/dataset_generation.py:312: DeprecationWarning: Call to deprecated class QueryResponseDataset. (Deprecated in favor of `LabelledRagDataset` which should be used instead.)\n",
      "  return QueryResponseDataset(queries=queries, responses=responses_dict)\n",
      "/home/g2/.local/lib/python3.10/site-packages/llama_index/core/evaluation/dataset_generation.py:215: DeprecationWarning: Call to deprecated class DatasetGenerator. (Deprecated in favor of `RagDatasetGenerator` which should be used instead.)\n",
      "  return cls(\n"
     ]
    },
    {
     "name": "stdout",
     "output_type": "stream",
     "text": [
      "INFO:httpx:HTTP Request: POST https://newsaugsponsored.openai.azure.com//openai/deployments/AzureNewsAug/chat/completions?api-version=2023-05-15 \"HTTP/1.1 200 OK\"\n",
      "HTTP Request: POST https://newsaugsponsored.openai.azure.com//openai/deployments/AzureNewsAug/chat/completions?api-version=2023-05-15 \"HTTP/1.1 200 OK\"\n",
      "HTTP Request: POST https://newsaugsponsored.openai.azure.com//openai/deployments/AzureNewsAug/chat/completions?api-version=2023-05-15 \"HTTP/1.1 200 OK\"\n",
      "INFO:httpx:HTTP Request: POST https://newsaugsponsored.openai.azure.com//openai/deployments/AzureNewsAug/chat/completions?api-version=2023-05-15 \"HTTP/1.1 200 OK\"\n",
      "HTTP Request: POST https://newsaugsponsored.openai.azure.com//openai/deployments/AzureNewsAug/chat/completions?api-version=2023-05-15 \"HTTP/1.1 200 OK\"\n",
      "HTTP Request: POST https://newsaugsponsored.openai.azure.com//openai/deployments/AzureNewsAug/chat/completions?api-version=2023-05-15 \"HTTP/1.1 200 OK\"\n",
      "INFO:httpx:HTTP Request: POST https://newsaugsponsored.openai.azure.com//openai/deployments/AzureNewsAug/chat/completions?api-version=2023-05-15 \"HTTP/1.1 200 OK\"\n",
      "HTTP Request: POST https://newsaugsponsored.openai.azure.com//openai/deployments/AzureNewsAug/chat/completions?api-version=2023-05-15 \"HTTP/1.1 200 OK\"\n",
      "HTTP Request: POST https://newsaugsponsored.openai.azure.com//openai/deployments/AzureNewsAug/chat/completions?api-version=2023-05-15 \"HTTP/1.1 200 OK\"\n"
     ]
    },
    {
     "name": "stderr",
     "output_type": "stream",
     "text": [
      "/home/g2/.local/lib/python3.10/site-packages/llama_index/core/evaluation/dataset_generation.py:312: DeprecationWarning: Call to deprecated class QueryResponseDataset. (Deprecated in favor of `LabelledRagDataset` which should be used instead.)\n",
      "  return QueryResponseDataset(queries=queries, responses=responses_dict)\n",
      "/home/g2/.local/lib/python3.10/site-packages/llama_index/core/evaluation/dataset_generation.py:215: DeprecationWarning: Call to deprecated class DatasetGenerator. (Deprecated in favor of `RagDatasetGenerator` which should be used instead.)\n",
      "  return cls(\n"
     ]
    },
    {
     "name": "stdout",
     "output_type": "stream",
     "text": [
      "INFO:httpx:HTTP Request: POST https://newsaugsponsored.openai.azure.com//openai/deployments/AzureNewsAug/chat/completions?api-version=2023-05-15 \"HTTP/1.1 200 OK\"\n",
      "HTTP Request: POST https://newsaugsponsored.openai.azure.com//openai/deployments/AzureNewsAug/chat/completions?api-version=2023-05-15 \"HTTP/1.1 200 OK\"\n",
      "HTTP Request: POST https://newsaugsponsored.openai.azure.com//openai/deployments/AzureNewsAug/chat/completions?api-version=2023-05-15 \"HTTP/1.1 200 OK\"\n",
      "INFO:httpx:HTTP Request: POST https://newsaugsponsored.openai.azure.com//openai/deployments/AzureNewsAug/chat/completions?api-version=2023-05-15 \"HTTP/1.1 200 OK\"\n",
      "HTTP Request: POST https://newsaugsponsored.openai.azure.com//openai/deployments/AzureNewsAug/chat/completions?api-version=2023-05-15 \"HTTP/1.1 200 OK\"\n",
      "HTTP Request: POST https://newsaugsponsored.openai.azure.com//openai/deployments/AzureNewsAug/chat/completions?api-version=2023-05-15 \"HTTP/1.1 200 OK\"\n"
     ]
    },
    {
     "name": "stderr",
     "output_type": "stream",
     "text": [
      "/home/g2/.local/lib/python3.10/site-packages/llama_index/core/evaluation/dataset_generation.py:312: DeprecationWarning: Call to deprecated class QueryResponseDataset. (Deprecated in favor of `LabelledRagDataset` which should be used instead.)\n",
      "  return QueryResponseDataset(queries=queries, responses=responses_dict)\n",
      "/home/g2/.local/lib/python3.10/site-packages/llama_index/core/evaluation/dataset_generation.py:215: DeprecationWarning: Call to deprecated class DatasetGenerator. (Deprecated in favor of `RagDatasetGenerator` which should be used instead.)\n",
      "  return cls(\n"
     ]
    },
    {
     "name": "stdout",
     "output_type": "stream",
     "text": [
      "INFO:httpx:HTTP Request: POST https://newsaugsponsored.openai.azure.com//openai/deployments/AzureNewsAug/chat/completions?api-version=2023-05-15 \"HTTP/1.1 200 OK\"\n",
      "HTTP Request: POST https://newsaugsponsored.openai.azure.com//openai/deployments/AzureNewsAug/chat/completions?api-version=2023-05-15 \"HTTP/1.1 200 OK\"\n",
      "HTTP Request: POST https://newsaugsponsored.openai.azure.com//openai/deployments/AzureNewsAug/chat/completions?api-version=2023-05-15 \"HTTP/1.1 200 OK\"\n",
      "INFO:httpx:HTTP Request: POST https://newsaugsponsored.openai.azure.com//openai/deployments/AzureNewsAug/chat/completions?api-version=2023-05-15 \"HTTP/1.1 200 OK\"\n",
      "HTTP Request: POST https://newsaugsponsored.openai.azure.com//openai/deployments/AzureNewsAug/chat/completions?api-version=2023-05-15 \"HTTP/1.1 200 OK\"\n",
      "HTTP Request: POST https://newsaugsponsored.openai.azure.com//openai/deployments/AzureNewsAug/chat/completions?api-version=2023-05-15 \"HTTP/1.1 200 OK\"\n",
      "INFO:httpx:HTTP Request: POST https://newsaugsponsored.openai.azure.com//openai/deployments/AzureNewsAug/chat/completions?api-version=2023-05-15 \"HTTP/1.1 200 OK\"\n",
      "HTTP Request: POST https://newsaugsponsored.openai.azure.com//openai/deployments/AzureNewsAug/chat/completions?api-version=2023-05-15 \"HTTP/1.1 200 OK\"\n",
      "HTTP Request: POST https://newsaugsponsored.openai.azure.com//openai/deployments/AzureNewsAug/chat/completions?api-version=2023-05-15 \"HTTP/1.1 200 OK\"\n",
      "INFO:httpx:HTTP Request: POST https://newsaugsponsored.openai.azure.com//openai/deployments/AzureNewsAug/chat/completions?api-version=2023-05-15 \"HTTP/1.1 200 OK\"\n",
      "HTTP Request: POST https://newsaugsponsored.openai.azure.com//openai/deployments/AzureNewsAug/chat/completions?api-version=2023-05-15 \"HTTP/1.1 200 OK\"\n",
      "HTTP Request: POST https://newsaugsponsored.openai.azure.com//openai/deployments/AzureNewsAug/chat/completions?api-version=2023-05-15 \"HTTP/1.1 200 OK\"\n"
     ]
    },
    {
     "name": "stderr",
     "output_type": "stream",
     "text": [
      "/home/g2/.local/lib/python3.10/site-packages/llama_index/core/evaluation/dataset_generation.py:312: DeprecationWarning: Call to deprecated class QueryResponseDataset. (Deprecated in favor of `LabelledRagDataset` which should be used instead.)\n",
      "  return QueryResponseDataset(queries=queries, responses=responses_dict)\n",
      "/home/g2/.local/lib/python3.10/site-packages/llama_index/core/evaluation/dataset_generation.py:215: DeprecationWarning: Call to deprecated class DatasetGenerator. (Deprecated in favor of `RagDatasetGenerator` which should be used instead.)\n",
      "  return cls(\n"
     ]
    },
    {
     "name": "stdout",
     "output_type": "stream",
     "text": [
      "INFO:httpx:HTTP Request: POST https://newsaugsponsored.openai.azure.com//openai/deployments/AzureNewsAug/chat/completions?api-version=2023-05-15 \"HTTP/1.1 200 OK\"\n",
      "HTTP Request: POST https://newsaugsponsored.openai.azure.com//openai/deployments/AzureNewsAug/chat/completions?api-version=2023-05-15 \"HTTP/1.1 200 OK\"\n",
      "HTTP Request: POST https://newsaugsponsored.openai.azure.com//openai/deployments/AzureNewsAug/chat/completions?api-version=2023-05-15 \"HTTP/1.1 200 OK\"\n",
      "INFO:httpx:HTTP Request: POST https://newsaugsponsored.openai.azure.com//openai/deployments/AzureNewsAug/chat/completions?api-version=2023-05-15 \"HTTP/1.1 200 OK\"\n",
      "HTTP Request: POST https://newsaugsponsored.openai.azure.com//openai/deployments/AzureNewsAug/chat/completions?api-version=2023-05-15 \"HTTP/1.1 200 OK\"\n",
      "HTTP Request: POST https://newsaugsponsored.openai.azure.com//openai/deployments/AzureNewsAug/chat/completions?api-version=2023-05-15 \"HTTP/1.1 200 OK\"\n",
      "INFO:httpx:HTTP Request: POST https://newsaugsponsored.openai.azure.com//openai/deployments/AzureNewsAug/chat/completions?api-version=2023-05-15 \"HTTP/1.1 200 OK\"\n",
      "HTTP Request: POST https://newsaugsponsored.openai.azure.com//openai/deployments/AzureNewsAug/chat/completions?api-version=2023-05-15 \"HTTP/1.1 200 OK\"\n",
      "HTTP Request: POST https://newsaugsponsored.openai.azure.com//openai/deployments/AzureNewsAug/chat/completions?api-version=2023-05-15 \"HTTP/1.1 200 OK\"\n",
      "INFO:httpx:HTTP Request: POST https://newsaugsponsored.openai.azure.com//openai/deployments/AzureNewsAug/chat/completions?api-version=2023-05-15 \"HTTP/1.1 200 OK\"\n",
      "HTTP Request: POST https://newsaugsponsored.openai.azure.com//openai/deployments/AzureNewsAug/chat/completions?api-version=2023-05-15 \"HTTP/1.1 200 OK\"\n",
      "HTTP Request: POST https://newsaugsponsored.openai.azure.com//openai/deployments/AzureNewsAug/chat/completions?api-version=2023-05-15 \"HTTP/1.1 200 OK\"\n"
     ]
    },
    {
     "name": "stderr",
     "output_type": "stream",
     "text": [
      "/home/g2/.local/lib/python3.10/site-packages/llama_index/core/evaluation/dataset_generation.py:312: DeprecationWarning: Call to deprecated class QueryResponseDataset. (Deprecated in favor of `LabelledRagDataset` which should be used instead.)\n",
      "  return QueryResponseDataset(queries=queries, responses=responses_dict)\n",
      "/home/g2/.local/lib/python3.10/site-packages/llama_index/core/evaluation/dataset_generation.py:215: DeprecationWarning: Call to deprecated class DatasetGenerator. (Deprecated in favor of `RagDatasetGenerator` which should be used instead.)\n",
      "  return cls(\n"
     ]
    },
    {
     "name": "stdout",
     "output_type": "stream",
     "text": [
      "INFO:httpx:HTTP Request: POST https://newsaugsponsored.openai.azure.com//openai/deployments/AzureNewsAug/chat/completions?api-version=2023-05-15 \"HTTP/1.1 200 OK\"\n",
      "HTTP Request: POST https://newsaugsponsored.openai.azure.com//openai/deployments/AzureNewsAug/chat/completions?api-version=2023-05-15 \"HTTP/1.1 200 OK\"\n",
      "HTTP Request: POST https://newsaugsponsored.openai.azure.com//openai/deployments/AzureNewsAug/chat/completions?api-version=2023-05-15 \"HTTP/1.1 200 OK\"\n",
      "INFO:httpx:HTTP Request: POST https://newsaugsponsored.openai.azure.com//openai/deployments/AzureNewsAug/chat/completions?api-version=2023-05-15 \"HTTP/1.1 200 OK\"\n",
      "HTTP Request: POST https://newsaugsponsored.openai.azure.com//openai/deployments/AzureNewsAug/chat/completions?api-version=2023-05-15 \"HTTP/1.1 200 OK\"\n",
      "HTTP Request: POST https://newsaugsponsored.openai.azure.com//openai/deployments/AzureNewsAug/chat/completions?api-version=2023-05-15 \"HTTP/1.1 200 OK\"\n"
     ]
    },
    {
     "name": "stderr",
     "output_type": "stream",
     "text": [
      "/home/g2/.local/lib/python3.10/site-packages/llama_index/core/evaluation/dataset_generation.py:312: DeprecationWarning: Call to deprecated class QueryResponseDataset. (Deprecated in favor of `LabelledRagDataset` which should be used instead.)\n",
      "  return QueryResponseDataset(queries=queries, responses=responses_dict)\n",
      "/home/g2/.local/lib/python3.10/site-packages/llama_index/core/evaluation/dataset_generation.py:215: DeprecationWarning: Call to deprecated class DatasetGenerator. (Deprecated in favor of `RagDatasetGenerator` which should be used instead.)\n",
      "  return cls(\n"
     ]
    },
    {
     "name": "stdout",
     "output_type": "stream",
     "text": [
      "INFO:httpx:HTTP Request: POST https://newsaugsponsored.openai.azure.com//openai/deployments/AzureNewsAug/chat/completions?api-version=2023-05-15 \"HTTP/1.1 200 OK\"\n",
      "HTTP Request: POST https://newsaugsponsored.openai.azure.com//openai/deployments/AzureNewsAug/chat/completions?api-version=2023-05-15 \"HTTP/1.1 200 OK\"\n",
      "HTTP Request: POST https://newsaugsponsored.openai.azure.com//openai/deployments/AzureNewsAug/chat/completions?api-version=2023-05-15 \"HTTP/1.1 200 OK\"\n",
      "INFO:httpx:HTTP Request: POST https://newsaugsponsored.openai.azure.com//openai/deployments/AzureNewsAug/chat/completions?api-version=2023-05-15 \"HTTP/1.1 200 OK\"\n",
      "HTTP Request: POST https://newsaugsponsored.openai.azure.com//openai/deployments/AzureNewsAug/chat/completions?api-version=2023-05-15 \"HTTP/1.1 200 OK\"\n",
      "HTTP Request: POST https://newsaugsponsored.openai.azure.com//openai/deployments/AzureNewsAug/chat/completions?api-version=2023-05-15 \"HTTP/1.1 200 OK\"\n"
     ]
    },
    {
     "name": "stderr",
     "output_type": "stream",
     "text": [
      "/home/g2/.local/lib/python3.10/site-packages/llama_index/core/evaluation/dataset_generation.py:312: DeprecationWarning: Call to deprecated class QueryResponseDataset. (Deprecated in favor of `LabelledRagDataset` which should be used instead.)\n",
      "  return QueryResponseDataset(queries=queries, responses=responses_dict)\n",
      "/home/g2/.local/lib/python3.10/site-packages/llama_index/core/evaluation/dataset_generation.py:215: DeprecationWarning: Call to deprecated class DatasetGenerator. (Deprecated in favor of `RagDatasetGenerator` which should be used instead.)\n",
      "  return cls(\n"
     ]
    },
    {
     "name": "stdout",
     "output_type": "stream",
     "text": [
      "INFO:httpx:HTTP Request: POST https://newsaugsponsored.openai.azure.com//openai/deployments/AzureNewsAug/chat/completions?api-version=2023-05-15 \"HTTP/1.1 200 OK\"\n",
      "HTTP Request: POST https://newsaugsponsored.openai.azure.com//openai/deployments/AzureNewsAug/chat/completions?api-version=2023-05-15 \"HTTP/1.1 200 OK\"\n",
      "HTTP Request: POST https://newsaugsponsored.openai.azure.com//openai/deployments/AzureNewsAug/chat/completions?api-version=2023-05-15 \"HTTP/1.1 200 OK\"\n",
      "INFO:httpx:HTTP Request: POST https://newsaugsponsored.openai.azure.com//openai/deployments/AzureNewsAug/chat/completions?api-version=2023-05-15 \"HTTP/1.1 200 OK\"\n",
      "HTTP Request: POST https://newsaugsponsored.openai.azure.com//openai/deployments/AzureNewsAug/chat/completions?api-version=2023-05-15 \"HTTP/1.1 200 OK\"\n",
      "HTTP Request: POST https://newsaugsponsored.openai.azure.com//openai/deployments/AzureNewsAug/chat/completions?api-version=2023-05-15 \"HTTP/1.1 200 OK\"\n"
     ]
    },
    {
     "name": "stderr",
     "output_type": "stream",
     "text": [
      "/home/g2/.local/lib/python3.10/site-packages/llama_index/core/evaluation/dataset_generation.py:312: DeprecationWarning: Call to deprecated class QueryResponseDataset. (Deprecated in favor of `LabelledRagDataset` which should be used instead.)\n",
      "  return QueryResponseDataset(queries=queries, responses=responses_dict)\n",
      "/home/g2/.local/lib/python3.10/site-packages/llama_index/core/evaluation/dataset_generation.py:215: DeprecationWarning: Call to deprecated class DatasetGenerator. (Deprecated in favor of `RagDatasetGenerator` which should be used instead.)\n",
      "  return cls(\n"
     ]
    },
    {
     "name": "stdout",
     "output_type": "stream",
     "text": [
      "INFO:httpx:HTTP Request: POST https://newsaugsponsored.openai.azure.com//openai/deployments/AzureNewsAug/chat/completions?api-version=2023-05-15 \"HTTP/1.1 200 OK\"\n",
      "HTTP Request: POST https://newsaugsponsored.openai.azure.com//openai/deployments/AzureNewsAug/chat/completions?api-version=2023-05-15 \"HTTP/1.1 200 OK\"\n",
      "HTTP Request: POST https://newsaugsponsored.openai.azure.com//openai/deployments/AzureNewsAug/chat/completions?api-version=2023-05-15 \"HTTP/1.1 200 OK\"\n",
      "INFO:httpx:HTTP Request: POST https://newsaugsponsored.openai.azure.com//openai/deployments/AzureNewsAug/chat/completions?api-version=2023-05-15 \"HTTP/1.1 200 OK\"\n",
      "HTTP Request: POST https://newsaugsponsored.openai.azure.com//openai/deployments/AzureNewsAug/chat/completions?api-version=2023-05-15 \"HTTP/1.1 200 OK\"\n",
      "HTTP Request: POST https://newsaugsponsored.openai.azure.com//openai/deployments/AzureNewsAug/chat/completions?api-version=2023-05-15 \"HTTP/1.1 200 OK\"\n",
      "INFO:httpx:HTTP Request: POST https://newsaugsponsored.openai.azure.com//openai/deployments/AzureNewsAug/chat/completions?api-version=2023-05-15 \"HTTP/1.1 200 OK\"\n",
      "HTTP Request: POST https://newsaugsponsored.openai.azure.com//openai/deployments/AzureNewsAug/chat/completions?api-version=2023-05-15 \"HTTP/1.1 200 OK\"\n",
      "HTTP Request: POST https://newsaugsponsored.openai.azure.com//openai/deployments/AzureNewsAug/chat/completions?api-version=2023-05-15 \"HTTP/1.1 200 OK\"\n"
     ]
    },
    {
     "name": "stderr",
     "output_type": "stream",
     "text": [
      "/home/g2/.local/lib/python3.10/site-packages/llama_index/core/evaluation/dataset_generation.py:312: DeprecationWarning: Call to deprecated class QueryResponseDataset. (Deprecated in favor of `LabelledRagDataset` which should be used instead.)\n",
      "  return QueryResponseDataset(queries=queries, responses=responses_dict)\n",
      "/home/g2/.local/lib/python3.10/site-packages/llama_index/core/evaluation/dataset_generation.py:215: DeprecationWarning: Call to deprecated class DatasetGenerator. (Deprecated in favor of `RagDatasetGenerator` which should be used instead.)\n",
      "  return cls(\n"
     ]
    },
    {
     "name": "stdout",
     "output_type": "stream",
     "text": [
      "INFO:httpx:HTTP Request: POST https://newsaugsponsored.openai.azure.com//openai/deployments/AzureNewsAug/chat/completions?api-version=2023-05-15 \"HTTP/1.1 200 OK\"\n",
      "HTTP Request: POST https://newsaugsponsored.openai.azure.com//openai/deployments/AzureNewsAug/chat/completions?api-version=2023-05-15 \"HTTP/1.1 200 OK\"\n",
      "HTTP Request: POST https://newsaugsponsored.openai.azure.com//openai/deployments/AzureNewsAug/chat/completions?api-version=2023-05-15 \"HTTP/1.1 200 OK\"\n",
      "INFO:httpx:HTTP Request: POST https://newsaugsponsored.openai.azure.com//openai/deployments/AzureNewsAug/chat/completions?api-version=2023-05-15 \"HTTP/1.1 200 OK\"\n",
      "HTTP Request: POST https://newsaugsponsored.openai.azure.com//openai/deployments/AzureNewsAug/chat/completions?api-version=2023-05-15 \"HTTP/1.1 200 OK\"\n",
      "HTTP Request: POST https://newsaugsponsored.openai.azure.com//openai/deployments/AzureNewsAug/chat/completions?api-version=2023-05-15 \"HTTP/1.1 200 OK\"\n"
     ]
    },
    {
     "name": "stderr",
     "output_type": "stream",
     "text": [
      "/home/g2/.local/lib/python3.10/site-packages/llama_index/core/evaluation/dataset_generation.py:312: DeprecationWarning: Call to deprecated class QueryResponseDataset. (Deprecated in favor of `LabelledRagDataset` which should be used instead.)\n",
      "  return QueryResponseDataset(queries=queries, responses=responses_dict)\n",
      "/home/g2/.local/lib/python3.10/site-packages/llama_index/core/evaluation/dataset_generation.py:215: DeprecationWarning: Call to deprecated class DatasetGenerator. (Deprecated in favor of `RagDatasetGenerator` which should be used instead.)\n",
      "  return cls(\n"
     ]
    },
    {
     "name": "stdout",
     "output_type": "stream",
     "text": [
      "INFO:httpx:HTTP Request: POST https://newsaugsponsored.openai.azure.com//openai/deployments/AzureNewsAug/chat/completions?api-version=2023-05-15 \"HTTP/1.1 200 OK\"\n",
      "HTTP Request: POST https://newsaugsponsored.openai.azure.com//openai/deployments/AzureNewsAug/chat/completions?api-version=2023-05-15 \"HTTP/1.1 200 OK\"\n",
      "HTTP Request: POST https://newsaugsponsored.openai.azure.com//openai/deployments/AzureNewsAug/chat/completions?api-version=2023-05-15 \"HTTP/1.1 200 OK\"\n",
      "INFO:httpx:HTTP Request: POST https://newsaugsponsored.openai.azure.com//openai/deployments/AzureNewsAug/chat/completions?api-version=2023-05-15 \"HTTP/1.1 200 OK\"\n",
      "HTTP Request: POST https://newsaugsponsored.openai.azure.com//openai/deployments/AzureNewsAug/chat/completions?api-version=2023-05-15 \"HTTP/1.1 200 OK\"\n",
      "HTTP Request: POST https://newsaugsponsored.openai.azure.com//openai/deployments/AzureNewsAug/chat/completions?api-version=2023-05-15 \"HTTP/1.1 200 OK\"\n"
     ]
    },
    {
     "name": "stderr",
     "output_type": "stream",
     "text": [
      "/home/g2/.local/lib/python3.10/site-packages/llama_index/core/evaluation/dataset_generation.py:312: DeprecationWarning: Call to deprecated class QueryResponseDataset. (Deprecated in favor of `LabelledRagDataset` which should be used instead.)\n",
      "  return QueryResponseDataset(queries=queries, responses=responses_dict)\n",
      "/home/g2/.local/lib/python3.10/site-packages/llama_index/core/evaluation/dataset_generation.py:215: DeprecationWarning: Call to deprecated class DatasetGenerator. (Deprecated in favor of `RagDatasetGenerator` which should be used instead.)\n",
      "  return cls(\n"
     ]
    },
    {
     "name": "stdout",
     "output_type": "stream",
     "text": [
      "INFO:httpx:HTTP Request: POST https://newsaugsponsored.openai.azure.com//openai/deployments/AzureNewsAug/chat/completions?api-version=2023-05-15 \"HTTP/1.1 200 OK\"\n",
      "HTTP Request: POST https://newsaugsponsored.openai.azure.com//openai/deployments/AzureNewsAug/chat/completions?api-version=2023-05-15 \"HTTP/1.1 200 OK\"\n",
      "HTTP Request: POST https://newsaugsponsored.openai.azure.com//openai/deployments/AzureNewsAug/chat/completions?api-version=2023-05-15 \"HTTP/1.1 200 OK\"\n",
      "INFO:httpx:HTTP Request: POST https://newsaugsponsored.openai.azure.com//openai/deployments/AzureNewsAug/chat/completions?api-version=2023-05-15 \"HTTP/1.1 200 OK\"\n",
      "HTTP Request: POST https://newsaugsponsored.openai.azure.com//openai/deployments/AzureNewsAug/chat/completions?api-version=2023-05-15 \"HTTP/1.1 200 OK\"\n",
      "HTTP Request: POST https://newsaugsponsored.openai.azure.com//openai/deployments/AzureNewsAug/chat/completions?api-version=2023-05-15 \"HTTP/1.1 200 OK\"\n"
     ]
    },
    {
     "name": "stderr",
     "output_type": "stream",
     "text": [
      "/home/g2/.local/lib/python3.10/site-packages/llama_index/core/evaluation/dataset_generation.py:312: DeprecationWarning: Call to deprecated class QueryResponseDataset. (Deprecated in favor of `LabelledRagDataset` which should be used instead.)\n",
      "  return QueryResponseDataset(queries=queries, responses=responses_dict)\n",
      "/home/g2/.local/lib/python3.10/site-packages/llama_index/core/evaluation/dataset_generation.py:215: DeprecationWarning: Call to deprecated class DatasetGenerator. (Deprecated in favor of `RagDatasetGenerator` which should be used instead.)\n",
      "  return cls(\n"
     ]
    },
    {
     "name": "stdout",
     "output_type": "stream",
     "text": [
      "INFO:httpx:HTTP Request: POST https://newsaugsponsored.openai.azure.com//openai/deployments/AzureNewsAug/chat/completions?api-version=2023-05-15 \"HTTP/1.1 200 OK\"\n",
      "HTTP Request: POST https://newsaugsponsored.openai.azure.com//openai/deployments/AzureNewsAug/chat/completions?api-version=2023-05-15 \"HTTP/1.1 200 OK\"\n",
      "HTTP Request: POST https://newsaugsponsored.openai.azure.com//openai/deployments/AzureNewsAug/chat/completions?api-version=2023-05-15 \"HTTP/1.1 200 OK\"\n",
      "INFO:httpx:HTTP Request: POST https://newsaugsponsored.openai.azure.com//openai/deployments/AzureNewsAug/chat/completions?api-version=2023-05-15 \"HTTP/1.1 200 OK\"\n",
      "HTTP Request: POST https://newsaugsponsored.openai.azure.com//openai/deployments/AzureNewsAug/chat/completions?api-version=2023-05-15 \"HTTP/1.1 200 OK\"\n",
      "HTTP Request: POST https://newsaugsponsored.openai.azure.com//openai/deployments/AzureNewsAug/chat/completions?api-version=2023-05-15 \"HTTP/1.1 200 OK\"\n"
     ]
    },
    {
     "name": "stderr",
     "output_type": "stream",
     "text": [
      "/home/g2/.local/lib/python3.10/site-packages/llama_index/core/evaluation/dataset_generation.py:312: DeprecationWarning: Call to deprecated class QueryResponseDataset. (Deprecated in favor of `LabelledRagDataset` which should be used instead.)\n",
      "  return QueryResponseDataset(queries=queries, responses=responses_dict)\n",
      "/home/g2/.local/lib/python3.10/site-packages/llama_index/core/evaluation/dataset_generation.py:215: DeprecationWarning: Call to deprecated class DatasetGenerator. (Deprecated in favor of `RagDatasetGenerator` which should be used instead.)\n",
      "  return cls(\n"
     ]
    },
    {
     "name": "stdout",
     "output_type": "stream",
     "text": [
      "INFO:httpx:HTTP Request: POST https://newsaugsponsored.openai.azure.com//openai/deployments/AzureNewsAug/chat/completions?api-version=2023-05-15 \"HTTP/1.1 200 OK\"\n",
      "HTTP Request: POST https://newsaugsponsored.openai.azure.com//openai/deployments/AzureNewsAug/chat/completions?api-version=2023-05-15 \"HTTP/1.1 200 OK\"\n",
      "HTTP Request: POST https://newsaugsponsored.openai.azure.com//openai/deployments/AzureNewsAug/chat/completions?api-version=2023-05-15 \"HTTP/1.1 200 OK\"\n",
      "INFO:httpx:HTTP Request: POST https://newsaugsponsored.openai.azure.com//openai/deployments/AzureNewsAug/chat/completions?api-version=2023-05-15 \"HTTP/1.1 200 OK\"\n",
      "HTTP Request: POST https://newsaugsponsored.openai.azure.com//openai/deployments/AzureNewsAug/chat/completions?api-version=2023-05-15 \"HTTP/1.1 200 OK\"\n",
      "HTTP Request: POST https://newsaugsponsored.openai.azure.com//openai/deployments/AzureNewsAug/chat/completions?api-version=2023-05-15 \"HTTP/1.1 200 OK\"\n",
      "INFO:httpx:HTTP Request: POST https://newsaugsponsored.openai.azure.com//openai/deployments/AzureNewsAug/chat/completions?api-version=2023-05-15 \"HTTP/1.1 200 OK\"\n",
      "HTTP Request: POST https://newsaugsponsored.openai.azure.com//openai/deployments/AzureNewsAug/chat/completions?api-version=2023-05-15 \"HTTP/1.1 200 OK\"\n",
      "HTTP Request: POST https://newsaugsponsored.openai.azure.com//openai/deployments/AzureNewsAug/chat/completions?api-version=2023-05-15 \"HTTP/1.1 200 OK\"\n"
     ]
    },
    {
     "name": "stderr",
     "output_type": "stream",
     "text": [
      "/home/g2/.local/lib/python3.10/site-packages/llama_index/core/evaluation/dataset_generation.py:312: DeprecationWarning: Call to deprecated class QueryResponseDataset. (Deprecated in favor of `LabelledRagDataset` which should be used instead.)\n",
      "  return QueryResponseDataset(queries=queries, responses=responses_dict)\n",
      "/home/g2/.local/lib/python3.10/site-packages/llama_index/core/evaluation/dataset_generation.py:215: DeprecationWarning: Call to deprecated class DatasetGenerator. (Deprecated in favor of `RagDatasetGenerator` which should be used instead.)\n",
      "  return cls(\n"
     ]
    },
    {
     "name": "stdout",
     "output_type": "stream",
     "text": [
      "INFO:httpx:HTTP Request: POST https://newsaugsponsored.openai.azure.com//openai/deployments/AzureNewsAug/chat/completions?api-version=2023-05-15 \"HTTP/1.1 200 OK\"\n",
      "HTTP Request: POST https://newsaugsponsored.openai.azure.com//openai/deployments/AzureNewsAug/chat/completions?api-version=2023-05-15 \"HTTP/1.1 200 OK\"\n",
      "HTTP Request: POST https://newsaugsponsored.openai.azure.com//openai/deployments/AzureNewsAug/chat/completions?api-version=2023-05-15 \"HTTP/1.1 200 OK\"\n",
      "INFO:httpx:HTTP Request: POST https://newsaugsponsored.openai.azure.com//openai/deployments/AzureNewsAug/chat/completions?api-version=2023-05-15 \"HTTP/1.1 200 OK\"\n",
      "HTTP Request: POST https://newsaugsponsored.openai.azure.com//openai/deployments/AzureNewsAug/chat/completions?api-version=2023-05-15 \"HTTP/1.1 200 OK\"\n",
      "HTTP Request: POST https://newsaugsponsored.openai.azure.com//openai/deployments/AzureNewsAug/chat/completions?api-version=2023-05-15 \"HTTP/1.1 200 OK\"\n",
      "INFO:httpx:HTTP Request: POST https://newsaugsponsored.openai.azure.com//openai/deployments/AzureNewsAug/chat/completions?api-version=2023-05-15 \"HTTP/1.1 200 OK\"\n",
      "HTTP Request: POST https://newsaugsponsored.openai.azure.com//openai/deployments/AzureNewsAug/chat/completions?api-version=2023-05-15 \"HTTP/1.1 200 OK\"\n",
      "HTTP Request: POST https://newsaugsponsored.openai.azure.com//openai/deployments/AzureNewsAug/chat/completions?api-version=2023-05-15 \"HTTP/1.1 200 OK\"\n",
      "INFO:httpx:HTTP Request: POST https://newsaugsponsored.openai.azure.com//openai/deployments/AzureNewsAug/chat/completions?api-version=2023-05-15 \"HTTP/1.1 200 OK\"\n",
      "HTTP Request: POST https://newsaugsponsored.openai.azure.com//openai/deployments/AzureNewsAug/chat/completions?api-version=2023-05-15 \"HTTP/1.1 200 OK\"\n",
      "HTTP Request: POST https://newsaugsponsored.openai.azure.com//openai/deployments/AzureNewsAug/chat/completions?api-version=2023-05-15 \"HTTP/1.1 200 OK\"\n",
      "INFO:httpx:HTTP Request: POST https://newsaugsponsored.openai.azure.com//openai/deployments/AzureNewsAug/chat/completions?api-version=2023-05-15 \"HTTP/1.1 200 OK\"\n",
      "HTTP Request: POST https://newsaugsponsored.openai.azure.com//openai/deployments/AzureNewsAug/chat/completions?api-version=2023-05-15 \"HTTP/1.1 200 OK\"\n",
      "HTTP Request: POST https://newsaugsponsored.openai.azure.com//openai/deployments/AzureNewsAug/chat/completions?api-version=2023-05-15 \"HTTP/1.1 200 OK\"\n",
      "INFO:httpx:HTTP Request: POST https://newsaugsponsored.openai.azure.com//openai/deployments/AzureNewsAug/chat/completions?api-version=2023-05-15 \"HTTP/1.1 200 OK\"\n",
      "HTTP Request: POST https://newsaugsponsored.openai.azure.com//openai/deployments/AzureNewsAug/chat/completions?api-version=2023-05-15 \"HTTP/1.1 200 OK\"\n",
      "HTTP Request: POST https://newsaugsponsored.openai.azure.com//openai/deployments/AzureNewsAug/chat/completions?api-version=2023-05-15 \"HTTP/1.1 200 OK\"\n",
      "INFO:httpx:HTTP Request: POST https://newsaugsponsored.openai.azure.com//openai/deployments/AzureNewsAug/chat/completions?api-version=2023-05-15 \"HTTP/1.1 200 OK\"\n",
      "HTTP Request: POST https://newsaugsponsored.openai.azure.com//openai/deployments/AzureNewsAug/chat/completions?api-version=2023-05-15 \"HTTP/1.1 200 OK\"\n",
      "HTTP Request: POST https://newsaugsponsored.openai.azure.com//openai/deployments/AzureNewsAug/chat/completions?api-version=2023-05-15 \"HTTP/1.1 200 OK\"\n",
      "INFO:httpx:HTTP Request: POST https://newsaugsponsored.openai.azure.com//openai/deployments/AzureNewsAug/chat/completions?api-version=2023-05-15 \"HTTP/1.1 200 OK\"\n",
      "HTTP Request: POST https://newsaugsponsored.openai.azure.com//openai/deployments/AzureNewsAug/chat/completions?api-version=2023-05-15 \"HTTP/1.1 200 OK\"\n",
      "HTTP Request: POST https://newsaugsponsored.openai.azure.com//openai/deployments/AzureNewsAug/chat/completions?api-version=2023-05-15 \"HTTP/1.1 200 OK\"\n",
      "INFO:httpx:HTTP Request: POST https://newsaugsponsored.openai.azure.com//openai/deployments/AzureNewsAug/chat/completions?api-version=2023-05-15 \"HTTP/1.1 200 OK\"\n",
      "HTTP Request: POST https://newsaugsponsored.openai.azure.com//openai/deployments/AzureNewsAug/chat/completions?api-version=2023-05-15 \"HTTP/1.1 200 OK\"\n",
      "HTTP Request: POST https://newsaugsponsored.openai.azure.com//openai/deployments/AzureNewsAug/chat/completions?api-version=2023-05-15 \"HTTP/1.1 200 OK\"\n",
      "INFO:httpx:HTTP Request: POST https://newsaugsponsored.openai.azure.com//openai/deployments/AzureNewsAug/chat/completions?api-version=2023-05-15 \"HTTP/1.1 200 OK\"\n",
      "HTTP Request: POST https://newsaugsponsored.openai.azure.com//openai/deployments/AzureNewsAug/chat/completions?api-version=2023-05-15 \"HTTP/1.1 200 OK\"\n",
      "HTTP Request: POST https://newsaugsponsored.openai.azure.com//openai/deployments/AzureNewsAug/chat/completions?api-version=2023-05-15 \"HTTP/1.1 200 OK\"\n",
      "INFO:httpx:HTTP Request: POST https://newsaugsponsored.openai.azure.com//openai/deployments/AzureNewsAug/chat/completions?api-version=2023-05-15 \"HTTP/1.1 200 OK\"\n",
      "HTTP Request: POST https://newsaugsponsored.openai.azure.com//openai/deployments/AzureNewsAug/chat/completions?api-version=2023-05-15 \"HTTP/1.1 200 OK\"\n",
      "HTTP Request: POST https://newsaugsponsored.openai.azure.com//openai/deployments/AzureNewsAug/chat/completions?api-version=2023-05-15 \"HTTP/1.1 200 OK\"\n"
     ]
    },
    {
     "name": "stderr",
     "output_type": "stream",
     "text": [
      "/home/g2/.local/lib/python3.10/site-packages/llama_index/core/evaluation/dataset_generation.py:312: DeprecationWarning: Call to deprecated class QueryResponseDataset. (Deprecated in favor of `LabelledRagDataset` which should be used instead.)\n",
      "  return QueryResponseDataset(queries=queries, responses=responses_dict)\n",
      "/home/g2/.local/lib/python3.10/site-packages/llama_index/core/evaluation/dataset_generation.py:215: DeprecationWarning: Call to deprecated class DatasetGenerator. (Deprecated in favor of `RagDatasetGenerator` which should be used instead.)\n",
      "  return cls(\n"
     ]
    },
    {
     "name": "stdout",
     "output_type": "stream",
     "text": [
      "INFO:httpx:HTTP Request: POST https://newsaugsponsored.openai.azure.com//openai/deployments/AzureNewsAug/chat/completions?api-version=2023-05-15 \"HTTP/1.1 200 OK\"\n",
      "HTTP Request: POST https://newsaugsponsored.openai.azure.com//openai/deployments/AzureNewsAug/chat/completions?api-version=2023-05-15 \"HTTP/1.1 200 OK\"\n",
      "HTTP Request: POST https://newsaugsponsored.openai.azure.com//openai/deployments/AzureNewsAug/chat/completions?api-version=2023-05-15 \"HTTP/1.1 200 OK\"\n",
      "INFO:httpx:HTTP Request: POST https://newsaugsponsored.openai.azure.com//openai/deployments/AzureNewsAug/chat/completions?api-version=2023-05-15 \"HTTP/1.1 200 OK\"\n",
      "HTTP Request: POST https://newsaugsponsored.openai.azure.com//openai/deployments/AzureNewsAug/chat/completions?api-version=2023-05-15 \"HTTP/1.1 200 OK\"\n",
      "HTTP Request: POST https://newsaugsponsored.openai.azure.com//openai/deployments/AzureNewsAug/chat/completions?api-version=2023-05-15 \"HTTP/1.1 200 OK\"\n"
     ]
    },
    {
     "name": "stderr",
     "output_type": "stream",
     "text": [
      "/home/g2/.local/lib/python3.10/site-packages/llama_index/core/evaluation/dataset_generation.py:312: DeprecationWarning: Call to deprecated class QueryResponseDataset. (Deprecated in favor of `LabelledRagDataset` which should be used instead.)\n",
      "  return QueryResponseDataset(queries=queries, responses=responses_dict)\n",
      "/home/g2/.local/lib/python3.10/site-packages/llama_index/core/evaluation/dataset_generation.py:215: DeprecationWarning: Call to deprecated class DatasetGenerator. (Deprecated in favor of `RagDatasetGenerator` which should be used instead.)\n",
      "  return cls(\n"
     ]
    },
    {
     "name": "stdout",
     "output_type": "stream",
     "text": [
      "INFO:httpx:HTTP Request: POST https://newsaugsponsored.openai.azure.com//openai/deployments/AzureNewsAug/chat/completions?api-version=2023-05-15 \"HTTP/1.1 200 OK\"\n",
      "HTTP Request: POST https://newsaugsponsored.openai.azure.com//openai/deployments/AzureNewsAug/chat/completions?api-version=2023-05-15 \"HTTP/1.1 200 OK\"\n",
      "HTTP Request: POST https://newsaugsponsored.openai.azure.com//openai/deployments/AzureNewsAug/chat/completions?api-version=2023-05-15 \"HTTP/1.1 200 OK\"\n",
      "INFO:httpx:HTTP Request: POST https://newsaugsponsored.openai.azure.com//openai/deployments/AzureNewsAug/chat/completions?api-version=2023-05-15 \"HTTP/1.1 200 OK\"\n",
      "HTTP Request: POST https://newsaugsponsored.openai.azure.com//openai/deployments/AzureNewsAug/chat/completions?api-version=2023-05-15 \"HTTP/1.1 200 OK\"\n",
      "HTTP Request: POST https://newsaugsponsored.openai.azure.com//openai/deployments/AzureNewsAug/chat/completions?api-version=2023-05-15 \"HTTP/1.1 200 OK\"\n"
     ]
    },
    {
     "name": "stderr",
     "output_type": "stream",
     "text": [
      "/home/g2/.local/lib/python3.10/site-packages/llama_index/core/evaluation/dataset_generation.py:312: DeprecationWarning: Call to deprecated class QueryResponseDataset. (Deprecated in favor of `LabelledRagDataset` which should be used instead.)\n",
      "  return QueryResponseDataset(queries=queries, responses=responses_dict)\n",
      "/home/g2/.local/lib/python3.10/site-packages/llama_index/core/evaluation/dataset_generation.py:215: DeprecationWarning: Call to deprecated class DatasetGenerator. (Deprecated in favor of `RagDatasetGenerator` which should be used instead.)\n",
      "  return cls(\n"
     ]
    },
    {
     "name": "stdout",
     "output_type": "stream",
     "text": [
      "INFO:httpx:HTTP Request: POST https://newsaugsponsored.openai.azure.com//openai/deployments/AzureNewsAug/chat/completions?api-version=2023-05-15 \"HTTP/1.1 200 OK\"\n",
      "HTTP Request: POST https://newsaugsponsored.openai.azure.com//openai/deployments/AzureNewsAug/chat/completions?api-version=2023-05-15 \"HTTP/1.1 200 OK\"\n",
      "HTTP Request: POST https://newsaugsponsored.openai.azure.com//openai/deployments/AzureNewsAug/chat/completions?api-version=2023-05-15 \"HTTP/1.1 200 OK\"\n",
      "INFO:httpx:HTTP Request: POST https://newsaugsponsored.openai.azure.com//openai/deployments/AzureNewsAug/chat/completions?api-version=2023-05-15 \"HTTP/1.1 200 OK\"\n",
      "HTTP Request: POST https://newsaugsponsored.openai.azure.com//openai/deployments/AzureNewsAug/chat/completions?api-version=2023-05-15 \"HTTP/1.1 200 OK\"\n",
      "HTTP Request: POST https://newsaugsponsored.openai.azure.com//openai/deployments/AzureNewsAug/chat/completions?api-version=2023-05-15 \"HTTP/1.1 200 OK\"\n"
     ]
    },
    {
     "name": "stderr",
     "output_type": "stream",
     "text": [
      "/home/g2/.local/lib/python3.10/site-packages/llama_index/core/evaluation/dataset_generation.py:312: DeprecationWarning: Call to deprecated class QueryResponseDataset. (Deprecated in favor of `LabelledRagDataset` which should be used instead.)\n",
      "  return QueryResponseDataset(queries=queries, responses=responses_dict)\n",
      "/home/g2/.local/lib/python3.10/site-packages/llama_index/core/evaluation/dataset_generation.py:215: DeprecationWarning: Call to deprecated class DatasetGenerator. (Deprecated in favor of `RagDatasetGenerator` which should be used instead.)\n",
      "  return cls(\n"
     ]
    },
    {
     "name": "stdout",
     "output_type": "stream",
     "text": [
      "INFO:httpx:HTTP Request: POST https://newsaugsponsored.openai.azure.com//openai/deployments/AzureNewsAug/chat/completions?api-version=2023-05-15 \"HTTP/1.1 200 OK\"\n",
      "HTTP Request: POST https://newsaugsponsored.openai.azure.com//openai/deployments/AzureNewsAug/chat/completions?api-version=2023-05-15 \"HTTP/1.1 200 OK\"\n",
      "HTTP Request: POST https://newsaugsponsored.openai.azure.com//openai/deployments/AzureNewsAug/chat/completions?api-version=2023-05-15 \"HTTP/1.1 200 OK\"\n",
      "INFO:httpx:HTTP Request: POST https://newsaugsponsored.openai.azure.com//openai/deployments/AzureNewsAug/chat/completions?api-version=2023-05-15 \"HTTP/1.1 200 OK\"\n",
      "HTTP Request: POST https://newsaugsponsored.openai.azure.com//openai/deployments/AzureNewsAug/chat/completions?api-version=2023-05-15 \"HTTP/1.1 200 OK\"\n",
      "HTTP Request: POST https://newsaugsponsored.openai.azure.com//openai/deployments/AzureNewsAug/chat/completions?api-version=2023-05-15 \"HTTP/1.1 200 OK\"\n"
     ]
    },
    {
     "name": "stderr",
     "output_type": "stream",
     "text": [
      "/home/g2/.local/lib/python3.10/site-packages/llama_index/core/evaluation/dataset_generation.py:312: DeprecationWarning: Call to deprecated class QueryResponseDataset. (Deprecated in favor of `LabelledRagDataset` which should be used instead.)\n",
      "  return QueryResponseDataset(queries=queries, responses=responses_dict)\n",
      "/home/g2/.local/lib/python3.10/site-packages/llama_index/core/evaluation/dataset_generation.py:215: DeprecationWarning: Call to deprecated class DatasetGenerator. (Deprecated in favor of `RagDatasetGenerator` which should be used instead.)\n",
      "  return cls(\n"
     ]
    },
    {
     "name": "stdout",
     "output_type": "stream",
     "text": [
      "INFO:httpx:HTTP Request: POST https://newsaugsponsored.openai.azure.com//openai/deployments/AzureNewsAug/chat/completions?api-version=2023-05-15 \"HTTP/1.1 200 OK\"\n",
      "HTTP Request: POST https://newsaugsponsored.openai.azure.com//openai/deployments/AzureNewsAug/chat/completions?api-version=2023-05-15 \"HTTP/1.1 200 OK\"\n",
      "HTTP Request: POST https://newsaugsponsored.openai.azure.com//openai/deployments/AzureNewsAug/chat/completions?api-version=2023-05-15 \"HTTP/1.1 200 OK\"\n",
      "INFO:httpx:HTTP Request: POST https://newsaugsponsored.openai.azure.com//openai/deployments/AzureNewsAug/chat/completions?api-version=2023-05-15 \"HTTP/1.1 200 OK\"\n",
      "HTTP Request: POST https://newsaugsponsored.openai.azure.com//openai/deployments/AzureNewsAug/chat/completions?api-version=2023-05-15 \"HTTP/1.1 200 OK\"\n",
      "HTTP Request: POST https://newsaugsponsored.openai.azure.com//openai/deployments/AzureNewsAug/chat/completions?api-version=2023-05-15 \"HTTP/1.1 200 OK\"\n"
     ]
    },
    {
     "name": "stderr",
     "output_type": "stream",
     "text": [
      "/home/g2/.local/lib/python3.10/site-packages/llama_index/core/evaluation/dataset_generation.py:312: DeprecationWarning: Call to deprecated class QueryResponseDataset. (Deprecated in favor of `LabelledRagDataset` which should be used instead.)\n",
      "  return QueryResponseDataset(queries=queries, responses=responses_dict)\n",
      "/home/g2/.local/lib/python3.10/site-packages/llama_index/core/evaluation/dataset_generation.py:215: DeprecationWarning: Call to deprecated class DatasetGenerator. (Deprecated in favor of `RagDatasetGenerator` which should be used instead.)\n",
      "  return cls(\n"
     ]
    },
    {
     "name": "stdout",
     "output_type": "stream",
     "text": [
      "INFO:httpx:HTTP Request: POST https://newsaugsponsored.openai.azure.com//openai/deployments/AzureNewsAug/chat/completions?api-version=2023-05-15 \"HTTP/1.1 200 OK\"\n",
      "HTTP Request: POST https://newsaugsponsored.openai.azure.com//openai/deployments/AzureNewsAug/chat/completions?api-version=2023-05-15 \"HTTP/1.1 200 OK\"\n",
      "HTTP Request: POST https://newsaugsponsored.openai.azure.com//openai/deployments/AzureNewsAug/chat/completions?api-version=2023-05-15 \"HTTP/1.1 200 OK\"\n",
      "INFO:httpx:HTTP Request: POST https://newsaugsponsored.openai.azure.com//openai/deployments/AzureNewsAug/chat/completions?api-version=2023-05-15 \"HTTP/1.1 200 OK\"\n",
      "HTTP Request: POST https://newsaugsponsored.openai.azure.com//openai/deployments/AzureNewsAug/chat/completions?api-version=2023-05-15 \"HTTP/1.1 200 OK\"\n",
      "HTTP Request: POST https://newsaugsponsored.openai.azure.com//openai/deployments/AzureNewsAug/chat/completions?api-version=2023-05-15 \"HTTP/1.1 200 OK\"\n",
      "INFO:httpx:HTTP Request: POST https://newsaugsponsored.openai.azure.com//openai/deployments/AzureNewsAug/chat/completions?api-version=2023-05-15 \"HTTP/1.1 200 OK\"\n",
      "HTTP Request: POST https://newsaugsponsored.openai.azure.com//openai/deployments/AzureNewsAug/chat/completions?api-version=2023-05-15 \"HTTP/1.1 200 OK\"\n",
      "HTTP Request: POST https://newsaugsponsored.openai.azure.com//openai/deployments/AzureNewsAug/chat/completions?api-version=2023-05-15 \"HTTP/1.1 200 OK\"\n"
     ]
    },
    {
     "name": "stderr",
     "output_type": "stream",
     "text": [
      "/home/g2/.local/lib/python3.10/site-packages/llama_index/core/evaluation/dataset_generation.py:312: DeprecationWarning: Call to deprecated class QueryResponseDataset. (Deprecated in favor of `LabelledRagDataset` which should be used instead.)\n",
      "  return QueryResponseDataset(queries=queries, responses=responses_dict)\n",
      "/home/g2/.local/lib/python3.10/site-packages/llama_index/core/evaluation/dataset_generation.py:215: DeprecationWarning: Call to deprecated class DatasetGenerator. (Deprecated in favor of `RagDatasetGenerator` which should be used instead.)\n",
      "  return cls(\n"
     ]
    },
    {
     "name": "stdout",
     "output_type": "stream",
     "text": [
      "INFO:httpx:HTTP Request: POST https://newsaugsponsored.openai.azure.com//openai/deployments/AzureNewsAug/chat/completions?api-version=2023-05-15 \"HTTP/1.1 200 OK\"\n",
      "HTTP Request: POST https://newsaugsponsored.openai.azure.com//openai/deployments/AzureNewsAug/chat/completions?api-version=2023-05-15 \"HTTP/1.1 200 OK\"\n",
      "HTTP Request: POST https://newsaugsponsored.openai.azure.com//openai/deployments/AzureNewsAug/chat/completions?api-version=2023-05-15 \"HTTP/1.1 200 OK\"\n",
      "INFO:httpx:HTTP Request: POST https://newsaugsponsored.openai.azure.com//openai/deployments/AzureNewsAug/chat/completions?api-version=2023-05-15 \"HTTP/1.1 200 OK\"\n",
      "HTTP Request: POST https://newsaugsponsored.openai.azure.com//openai/deployments/AzureNewsAug/chat/completions?api-version=2023-05-15 \"HTTP/1.1 200 OK\"\n",
      "HTTP Request: POST https://newsaugsponsored.openai.azure.com//openai/deployments/AzureNewsAug/chat/completions?api-version=2023-05-15 \"HTTP/1.1 200 OK\"\n"
     ]
    },
    {
     "name": "stderr",
     "output_type": "stream",
     "text": [
      "/home/g2/.local/lib/python3.10/site-packages/llama_index/core/evaluation/dataset_generation.py:312: DeprecationWarning: Call to deprecated class QueryResponseDataset. (Deprecated in favor of `LabelledRagDataset` which should be used instead.)\n",
      "  return QueryResponseDataset(queries=queries, responses=responses_dict)\n",
      "/home/g2/.local/lib/python3.10/site-packages/llama_index/core/evaluation/dataset_generation.py:215: DeprecationWarning: Call to deprecated class DatasetGenerator. (Deprecated in favor of `RagDatasetGenerator` which should be used instead.)\n",
      "  return cls(\n"
     ]
    },
    {
     "name": "stdout",
     "output_type": "stream",
     "text": [
      "INFO:httpx:HTTP Request: POST https://newsaugsponsored.openai.azure.com//openai/deployments/AzureNewsAug/chat/completions?api-version=2023-05-15 \"HTTP/1.1 200 OK\"\n",
      "HTTP Request: POST https://newsaugsponsored.openai.azure.com//openai/deployments/AzureNewsAug/chat/completions?api-version=2023-05-15 \"HTTP/1.1 200 OK\"\n",
      "HTTP Request: POST https://newsaugsponsored.openai.azure.com//openai/deployments/AzureNewsAug/chat/completions?api-version=2023-05-15 \"HTTP/1.1 200 OK\"\n",
      "INFO:httpx:HTTP Request: POST https://newsaugsponsored.openai.azure.com//openai/deployments/AzureNewsAug/chat/completions?api-version=2023-05-15 \"HTTP/1.1 200 OK\"\n",
      "HTTP Request: POST https://newsaugsponsored.openai.azure.com//openai/deployments/AzureNewsAug/chat/completions?api-version=2023-05-15 \"HTTP/1.1 200 OK\"\n",
      "HTTP Request: POST https://newsaugsponsored.openai.azure.com//openai/deployments/AzureNewsAug/chat/completions?api-version=2023-05-15 \"HTTP/1.1 200 OK\"\n",
      "INFO:httpx:HTTP Request: POST https://newsaugsponsored.openai.azure.com//openai/deployments/AzureNewsAug/chat/completions?api-version=2023-05-15 \"HTTP/1.1 200 OK\"\n",
      "HTTP Request: POST https://newsaugsponsored.openai.azure.com//openai/deployments/AzureNewsAug/chat/completions?api-version=2023-05-15 \"HTTP/1.1 200 OK\"\n",
      "HTTP Request: POST https://newsaugsponsored.openai.azure.com//openai/deployments/AzureNewsAug/chat/completions?api-version=2023-05-15 \"HTTP/1.1 200 OK\"\n"
     ]
    },
    {
     "name": "stderr",
     "output_type": "stream",
     "text": [
      "/home/g2/.local/lib/python3.10/site-packages/llama_index/core/evaluation/dataset_generation.py:312: DeprecationWarning: Call to deprecated class QueryResponseDataset. (Deprecated in favor of `LabelledRagDataset` which should be used instead.)\n",
      "  return QueryResponseDataset(queries=queries, responses=responses_dict)\n",
      "/home/g2/.local/lib/python3.10/site-packages/llama_index/core/evaluation/dataset_generation.py:215: DeprecationWarning: Call to deprecated class DatasetGenerator. (Deprecated in favor of `RagDatasetGenerator` which should be used instead.)\n",
      "  return cls(\n"
     ]
    },
    {
     "name": "stdout",
     "output_type": "stream",
     "text": [
      "INFO:httpx:HTTP Request: POST https://newsaugsponsored.openai.azure.com//openai/deployments/AzureNewsAug/chat/completions?api-version=2023-05-15 \"HTTP/1.1 200 OK\"\n",
      "HTTP Request: POST https://newsaugsponsored.openai.azure.com//openai/deployments/AzureNewsAug/chat/completions?api-version=2023-05-15 \"HTTP/1.1 200 OK\"\n",
      "HTTP Request: POST https://newsaugsponsored.openai.azure.com//openai/deployments/AzureNewsAug/chat/completions?api-version=2023-05-15 \"HTTP/1.1 200 OK\"\n",
      "INFO:httpx:HTTP Request: POST https://newsaugsponsored.openai.azure.com//openai/deployments/AzureNewsAug/chat/completions?api-version=2023-05-15 \"HTTP/1.1 200 OK\"\n",
      "HTTP Request: POST https://newsaugsponsored.openai.azure.com//openai/deployments/AzureNewsAug/chat/completions?api-version=2023-05-15 \"HTTP/1.1 200 OK\"\n",
      "HTTP Request: POST https://newsaugsponsored.openai.azure.com//openai/deployments/AzureNewsAug/chat/completions?api-version=2023-05-15 \"HTTP/1.1 200 OK\"\n"
     ]
    },
    {
     "name": "stderr",
     "output_type": "stream",
     "text": [
      "/home/g2/.local/lib/python3.10/site-packages/llama_index/core/evaluation/dataset_generation.py:312: DeprecationWarning: Call to deprecated class QueryResponseDataset. (Deprecated in favor of `LabelledRagDataset` which should be used instead.)\n",
      "  return QueryResponseDataset(queries=queries, responses=responses_dict)\n",
      "/home/g2/.local/lib/python3.10/site-packages/llama_index/core/evaluation/dataset_generation.py:215: DeprecationWarning: Call to deprecated class DatasetGenerator. (Deprecated in favor of `RagDatasetGenerator` which should be used instead.)\n",
      "  return cls(\n"
     ]
    },
    {
     "name": "stdout",
     "output_type": "stream",
     "text": [
      "INFO:httpx:HTTP Request: POST https://newsaugsponsored.openai.azure.com//openai/deployments/AzureNewsAug/chat/completions?api-version=2023-05-15 \"HTTP/1.1 200 OK\"\n",
      "HTTP Request: POST https://newsaugsponsored.openai.azure.com//openai/deployments/AzureNewsAug/chat/completions?api-version=2023-05-15 \"HTTP/1.1 200 OK\"\n",
      "HTTP Request: POST https://newsaugsponsored.openai.azure.com//openai/deployments/AzureNewsAug/chat/completions?api-version=2023-05-15 \"HTTP/1.1 200 OK\"\n",
      "INFO:httpx:HTTP Request: POST https://newsaugsponsored.openai.azure.com//openai/deployments/AzureNewsAug/chat/completions?api-version=2023-05-15 \"HTTP/1.1 200 OK\"\n",
      "HTTP Request: POST https://newsaugsponsored.openai.azure.com//openai/deployments/AzureNewsAug/chat/completions?api-version=2023-05-15 \"HTTP/1.1 200 OK\"\n",
      "HTTP Request: POST https://newsaugsponsored.openai.azure.com//openai/deployments/AzureNewsAug/chat/completions?api-version=2023-05-15 \"HTTP/1.1 200 OK\"\n"
     ]
    },
    {
     "name": "stderr",
     "output_type": "stream",
     "text": [
      "/home/g2/.local/lib/python3.10/site-packages/llama_index/core/evaluation/dataset_generation.py:312: DeprecationWarning: Call to deprecated class QueryResponseDataset. (Deprecated in favor of `LabelledRagDataset` which should be used instead.)\n",
      "  return QueryResponseDataset(queries=queries, responses=responses_dict)\n",
      "/home/g2/.local/lib/python3.10/site-packages/llama_index/core/evaluation/dataset_generation.py:215: DeprecationWarning: Call to deprecated class DatasetGenerator. (Deprecated in favor of `RagDatasetGenerator` which should be used instead.)\n",
      "  return cls(\n"
     ]
    },
    {
     "name": "stdout",
     "output_type": "stream",
     "text": [
      "INFO:httpx:HTTP Request: POST https://newsaugsponsored.openai.azure.com//openai/deployments/AzureNewsAug/chat/completions?api-version=2023-05-15 \"HTTP/1.1 200 OK\"\n",
      "HTTP Request: POST https://newsaugsponsored.openai.azure.com//openai/deployments/AzureNewsAug/chat/completions?api-version=2023-05-15 \"HTTP/1.1 200 OK\"\n",
      "HTTP Request: POST https://newsaugsponsored.openai.azure.com//openai/deployments/AzureNewsAug/chat/completions?api-version=2023-05-15 \"HTTP/1.1 200 OK\"\n",
      "INFO:httpx:HTTP Request: POST https://newsaugsponsored.openai.azure.com//openai/deployments/AzureNewsAug/chat/completions?api-version=2023-05-15 \"HTTP/1.1 200 OK\"\n",
      "HTTP Request: POST https://newsaugsponsored.openai.azure.com//openai/deployments/AzureNewsAug/chat/completions?api-version=2023-05-15 \"HTTP/1.1 200 OK\"\n",
      "HTTP Request: POST https://newsaugsponsored.openai.azure.com//openai/deployments/AzureNewsAug/chat/completions?api-version=2023-05-15 \"HTTP/1.1 200 OK\"\n",
      "INFO:httpx:HTTP Request: POST https://newsaugsponsored.openai.azure.com//openai/deployments/AzureNewsAug/chat/completions?api-version=2023-05-15 \"HTTP/1.1 200 OK\"\n",
      "HTTP Request: POST https://newsaugsponsored.openai.azure.com//openai/deployments/AzureNewsAug/chat/completions?api-version=2023-05-15 \"HTTP/1.1 200 OK\"\n",
      "HTTP Request: POST https://newsaugsponsored.openai.azure.com//openai/deployments/AzureNewsAug/chat/completions?api-version=2023-05-15 \"HTTP/1.1 200 OK\"\n",
      "INFO:httpx:HTTP Request: POST https://newsaugsponsored.openai.azure.com//openai/deployments/AzureNewsAug/chat/completions?api-version=2023-05-15 \"HTTP/1.1 200 OK\"\n",
      "HTTP Request: POST https://newsaugsponsored.openai.azure.com//openai/deployments/AzureNewsAug/chat/completions?api-version=2023-05-15 \"HTTP/1.1 200 OK\"\n",
      "HTTP Request: POST https://newsaugsponsored.openai.azure.com//openai/deployments/AzureNewsAug/chat/completions?api-version=2023-05-15 \"HTTP/1.1 200 OK\"\n"
     ]
    },
    {
     "name": "stderr",
     "output_type": "stream",
     "text": [
      "/home/g2/.local/lib/python3.10/site-packages/llama_index/core/evaluation/dataset_generation.py:312: DeprecationWarning: Call to deprecated class QueryResponseDataset. (Deprecated in favor of `LabelledRagDataset` which should be used instead.)\n",
      "  return QueryResponseDataset(queries=queries, responses=responses_dict)\n",
      "/home/g2/.local/lib/python3.10/site-packages/llama_index/core/evaluation/dataset_generation.py:215: DeprecationWarning: Call to deprecated class DatasetGenerator. (Deprecated in favor of `RagDatasetGenerator` which should be used instead.)\n",
      "  return cls(\n"
     ]
    },
    {
     "name": "stdout",
     "output_type": "stream",
     "text": [
      "INFO:httpx:HTTP Request: POST https://newsaugsponsored.openai.azure.com//openai/deployments/AzureNewsAug/chat/completions?api-version=2023-05-15 \"HTTP/1.1 200 OK\"\n",
      "HTTP Request: POST https://newsaugsponsored.openai.azure.com//openai/deployments/AzureNewsAug/chat/completions?api-version=2023-05-15 \"HTTP/1.1 200 OK\"\n",
      "HTTP Request: POST https://newsaugsponsored.openai.azure.com//openai/deployments/AzureNewsAug/chat/completions?api-version=2023-05-15 \"HTTP/1.1 200 OK\"\n",
      "INFO:httpx:HTTP Request: POST https://newsaugsponsored.openai.azure.com//openai/deployments/AzureNewsAug/chat/completions?api-version=2023-05-15 \"HTTP/1.1 200 OK\"\n",
      "HTTP Request: POST https://newsaugsponsored.openai.azure.com//openai/deployments/AzureNewsAug/chat/completions?api-version=2023-05-15 \"HTTP/1.1 200 OK\"\n",
      "HTTP Request: POST https://newsaugsponsored.openai.azure.com//openai/deployments/AzureNewsAug/chat/completions?api-version=2023-05-15 \"HTTP/1.1 200 OK\"\n"
     ]
    },
    {
     "name": "stderr",
     "output_type": "stream",
     "text": [
      "/home/g2/.local/lib/python3.10/site-packages/llama_index/core/evaluation/dataset_generation.py:312: DeprecationWarning: Call to deprecated class QueryResponseDataset. (Deprecated in favor of `LabelledRagDataset` which should be used instead.)\n",
      "  return QueryResponseDataset(queries=queries, responses=responses_dict)\n",
      "/home/g2/.local/lib/python3.10/site-packages/llama_index/core/evaluation/dataset_generation.py:215: DeprecationWarning: Call to deprecated class DatasetGenerator. (Deprecated in favor of `RagDatasetGenerator` which should be used instead.)\n",
      "  return cls(\n"
     ]
    },
    {
     "name": "stdout",
     "output_type": "stream",
     "text": [
      "INFO:httpx:HTTP Request: POST https://newsaugsponsored.openai.azure.com//openai/deployments/AzureNewsAug/chat/completions?api-version=2023-05-15 \"HTTP/1.1 200 OK\"\n",
      "HTTP Request: POST https://newsaugsponsored.openai.azure.com//openai/deployments/AzureNewsAug/chat/completions?api-version=2023-05-15 \"HTTP/1.1 200 OK\"\n",
      "HTTP Request: POST https://newsaugsponsored.openai.azure.com//openai/deployments/AzureNewsAug/chat/completions?api-version=2023-05-15 \"HTTP/1.1 200 OK\"\n",
      "INFO:httpx:HTTP Request: POST https://newsaugsponsored.openai.azure.com//openai/deployments/AzureNewsAug/chat/completions?api-version=2023-05-15 \"HTTP/1.1 200 OK\"\n",
      "HTTP Request: POST https://newsaugsponsored.openai.azure.com//openai/deployments/AzureNewsAug/chat/completions?api-version=2023-05-15 \"HTTP/1.1 200 OK\"\n",
      "HTTP Request: POST https://newsaugsponsored.openai.azure.com//openai/deployments/AzureNewsAug/chat/completions?api-version=2023-05-15 \"HTTP/1.1 200 OK\"\n"
     ]
    },
    {
     "name": "stderr",
     "output_type": "stream",
     "text": [
      "/home/g2/.local/lib/python3.10/site-packages/llama_index/core/evaluation/dataset_generation.py:312: DeprecationWarning: Call to deprecated class QueryResponseDataset. (Deprecated in favor of `LabelledRagDataset` which should be used instead.)\n",
      "  return QueryResponseDataset(queries=queries, responses=responses_dict)\n",
      "/home/g2/.local/lib/python3.10/site-packages/llama_index/core/evaluation/dataset_generation.py:215: DeprecationWarning: Call to deprecated class DatasetGenerator. (Deprecated in favor of `RagDatasetGenerator` which should be used instead.)\n",
      "  return cls(\n"
     ]
    },
    {
     "name": "stdout",
     "output_type": "stream",
     "text": [
      "INFO:httpx:HTTP Request: POST https://newsaugsponsored.openai.azure.com//openai/deployments/AzureNewsAug/chat/completions?api-version=2023-05-15 \"HTTP/1.1 200 OK\"\n",
      "HTTP Request: POST https://newsaugsponsored.openai.azure.com//openai/deployments/AzureNewsAug/chat/completions?api-version=2023-05-15 \"HTTP/1.1 200 OK\"\n",
      "HTTP Request: POST https://newsaugsponsored.openai.azure.com//openai/deployments/AzureNewsAug/chat/completions?api-version=2023-05-15 \"HTTP/1.1 200 OK\"\n",
      "INFO:httpx:HTTP Request: POST https://newsaugsponsored.openai.azure.com//openai/deployments/AzureNewsAug/chat/completions?api-version=2023-05-15 \"HTTP/1.1 200 OK\"\n",
      "HTTP Request: POST https://newsaugsponsored.openai.azure.com//openai/deployments/AzureNewsAug/chat/completions?api-version=2023-05-15 \"HTTP/1.1 200 OK\"\n",
      "HTTP Request: POST https://newsaugsponsored.openai.azure.com//openai/deployments/AzureNewsAug/chat/completions?api-version=2023-05-15 \"HTTP/1.1 200 OK\"\n",
      "INFO:httpx:HTTP Request: POST https://newsaugsponsored.openai.azure.com//openai/deployments/AzureNewsAug/chat/completions?api-version=2023-05-15 \"HTTP/1.1 200 OK\"\n",
      "HTTP Request: POST https://newsaugsponsored.openai.azure.com//openai/deployments/AzureNewsAug/chat/completions?api-version=2023-05-15 \"HTTP/1.1 200 OK\"\n",
      "HTTP Request: POST https://newsaugsponsored.openai.azure.com//openai/deployments/AzureNewsAug/chat/completions?api-version=2023-05-15 \"HTTP/1.1 200 OK\"\n",
      "INFO:httpx:HTTP Request: POST https://newsaugsponsored.openai.azure.com//openai/deployments/AzureNewsAug/chat/completions?api-version=2023-05-15 \"HTTP/1.1 200 OK\"\n",
      "HTTP Request: POST https://newsaugsponsored.openai.azure.com//openai/deployments/AzureNewsAug/chat/completions?api-version=2023-05-15 \"HTTP/1.1 200 OK\"\n",
      "HTTP Request: POST https://newsaugsponsored.openai.azure.com//openai/deployments/AzureNewsAug/chat/completions?api-version=2023-05-15 \"HTTP/1.1 200 OK\"\n",
      "INFO:httpx:HTTP Request: POST https://newsaugsponsored.openai.azure.com//openai/deployments/AzureNewsAug/chat/completions?api-version=2023-05-15 \"HTTP/1.1 200 OK\"\n",
      "HTTP Request: POST https://newsaugsponsored.openai.azure.com//openai/deployments/AzureNewsAug/chat/completions?api-version=2023-05-15 \"HTTP/1.1 200 OK\"\n",
      "HTTP Request: POST https://newsaugsponsored.openai.azure.com//openai/deployments/AzureNewsAug/chat/completions?api-version=2023-05-15 \"HTTP/1.1 200 OK\"\n",
      "INFO:httpx:HTTP Request: POST https://newsaugsponsored.openai.azure.com//openai/deployments/AzureNewsAug/chat/completions?api-version=2023-05-15 \"HTTP/1.1 200 OK\"\n",
      "HTTP Request: POST https://newsaugsponsored.openai.azure.com//openai/deployments/AzureNewsAug/chat/completions?api-version=2023-05-15 \"HTTP/1.1 200 OK\"\n",
      "HTTP Request: POST https://newsaugsponsored.openai.azure.com//openai/deployments/AzureNewsAug/chat/completions?api-version=2023-05-15 \"HTTP/1.1 200 OK\"\n",
      "INFO:httpx:HTTP Request: POST https://newsaugsponsored.openai.azure.com//openai/deployments/AzureNewsAug/chat/completions?api-version=2023-05-15 \"HTTP/1.1 200 OK\"\n",
      "HTTP Request: POST https://newsaugsponsored.openai.azure.com//openai/deployments/AzureNewsAug/chat/completions?api-version=2023-05-15 \"HTTP/1.1 200 OK\"\n",
      "HTTP Request: POST https://newsaugsponsored.openai.azure.com//openai/deployments/AzureNewsAug/chat/completions?api-version=2023-05-15 \"HTTP/1.1 200 OK\"\n",
      "INFO:httpx:HTTP Request: POST https://newsaugsponsored.openai.azure.com//openai/deployments/AzureNewsAug/chat/completions?api-version=2023-05-15 \"HTTP/1.1 200 OK\"\n",
      "HTTP Request: POST https://newsaugsponsored.openai.azure.com//openai/deployments/AzureNewsAug/chat/completions?api-version=2023-05-15 \"HTTP/1.1 200 OK\"\n",
      "HTTP Request: POST https://newsaugsponsored.openai.azure.com//openai/deployments/AzureNewsAug/chat/completions?api-version=2023-05-15 \"HTTP/1.1 200 OK\"\n",
      "INFO:httpx:HTTP Request: POST https://newsaugsponsored.openai.azure.com//openai/deployments/AzureNewsAug/chat/completions?api-version=2023-05-15 \"HTTP/1.1 200 OK\"\n",
      "HTTP Request: POST https://newsaugsponsored.openai.azure.com//openai/deployments/AzureNewsAug/chat/completions?api-version=2023-05-15 \"HTTP/1.1 200 OK\"\n",
      "HTTP Request: POST https://newsaugsponsored.openai.azure.com//openai/deployments/AzureNewsAug/chat/completions?api-version=2023-05-15 \"HTTP/1.1 200 OK\"\n",
      "INFO:httpx:HTTP Request: POST https://newsaugsponsored.openai.azure.com//openai/deployments/AzureNewsAug/chat/completions?api-version=2023-05-15 \"HTTP/1.1 200 OK\"\n",
      "HTTP Request: POST https://newsaugsponsored.openai.azure.com//openai/deployments/AzureNewsAug/chat/completions?api-version=2023-05-15 \"HTTP/1.1 200 OK\"\n",
      "HTTP Request: POST https://newsaugsponsored.openai.azure.com//openai/deployments/AzureNewsAug/chat/completions?api-version=2023-05-15 \"HTTP/1.1 200 OK\"\n",
      "INFO:httpx:HTTP Request: POST https://newsaugsponsored.openai.azure.com//openai/deployments/AzureNewsAug/chat/completions?api-version=2023-05-15 \"HTTP/1.1 200 OK\"\n",
      "HTTP Request: POST https://newsaugsponsored.openai.azure.com//openai/deployments/AzureNewsAug/chat/completions?api-version=2023-05-15 \"HTTP/1.1 200 OK\"\n",
      "HTTP Request: POST https://newsaugsponsored.openai.azure.com//openai/deployments/AzureNewsAug/chat/completions?api-version=2023-05-15 \"HTTP/1.1 200 OK\"\n",
      "INFO:httpx:HTTP Request: POST https://newsaugsponsored.openai.azure.com//openai/deployments/AzureNewsAug/chat/completions?api-version=2023-05-15 \"HTTP/1.1 200 OK\"\n",
      "HTTP Request: POST https://newsaugsponsored.openai.azure.com//openai/deployments/AzureNewsAug/chat/completions?api-version=2023-05-15 \"HTTP/1.1 200 OK\"\n",
      "HTTP Request: POST https://newsaugsponsored.openai.azure.com//openai/deployments/AzureNewsAug/chat/completions?api-version=2023-05-15 \"HTTP/1.1 200 OK\"\n",
      "INFO:httpx:HTTP Request: POST https://newsaugsponsored.openai.azure.com//openai/deployments/AzureNewsAug/chat/completions?api-version=2023-05-15 \"HTTP/1.1 200 OK\"\n",
      "HTTP Request: POST https://newsaugsponsored.openai.azure.com//openai/deployments/AzureNewsAug/chat/completions?api-version=2023-05-15 \"HTTP/1.1 200 OK\"\n",
      "HTTP Request: POST https://newsaugsponsored.openai.azure.com//openai/deployments/AzureNewsAug/chat/completions?api-version=2023-05-15 \"HTTP/1.1 200 OK\"\n"
     ]
    },
    {
     "name": "stderr",
     "output_type": "stream",
     "text": [
      "/home/g2/.local/lib/python3.10/site-packages/llama_index/core/evaluation/dataset_generation.py:312: DeprecationWarning: Call to deprecated class QueryResponseDataset. (Deprecated in favor of `LabelledRagDataset` which should be used instead.)\n",
      "  return QueryResponseDataset(queries=queries, responses=responses_dict)\n",
      "/home/g2/.local/lib/python3.10/site-packages/llama_index/core/evaluation/dataset_generation.py:215: DeprecationWarning: Call to deprecated class DatasetGenerator. (Deprecated in favor of `RagDatasetGenerator` which should be used instead.)\n",
      "  return cls(\n"
     ]
    },
    {
     "name": "stdout",
     "output_type": "stream",
     "text": [
      "INFO:httpx:HTTP Request: POST https://newsaugsponsored.openai.azure.com//openai/deployments/AzureNewsAug/chat/completions?api-version=2023-05-15 \"HTTP/1.1 200 OK\"\n",
      "HTTP Request: POST https://newsaugsponsored.openai.azure.com//openai/deployments/AzureNewsAug/chat/completions?api-version=2023-05-15 \"HTTP/1.1 200 OK\"\n",
      "HTTP Request: POST https://newsaugsponsored.openai.azure.com//openai/deployments/AzureNewsAug/chat/completions?api-version=2023-05-15 \"HTTP/1.1 200 OK\"\n",
      "INFO:httpx:HTTP Request: POST https://newsaugsponsored.openai.azure.com//openai/deployments/AzureNewsAug/chat/completions?api-version=2023-05-15 \"HTTP/1.1 200 OK\"\n",
      "HTTP Request: POST https://newsaugsponsored.openai.azure.com//openai/deployments/AzureNewsAug/chat/completions?api-version=2023-05-15 \"HTTP/1.1 200 OK\"\n",
      "HTTP Request: POST https://newsaugsponsored.openai.azure.com//openai/deployments/AzureNewsAug/chat/completions?api-version=2023-05-15 \"HTTP/1.1 200 OK\"\n"
     ]
    },
    {
     "name": "stderr",
     "output_type": "stream",
     "text": [
      "/home/g2/.local/lib/python3.10/site-packages/llama_index/core/evaluation/dataset_generation.py:312: DeprecationWarning: Call to deprecated class QueryResponseDataset. (Deprecated in favor of `LabelledRagDataset` which should be used instead.)\n",
      "  return QueryResponseDataset(queries=queries, responses=responses_dict)\n",
      "/home/g2/.local/lib/python3.10/site-packages/llama_index/core/evaluation/dataset_generation.py:215: DeprecationWarning: Call to deprecated class DatasetGenerator. (Deprecated in favor of `RagDatasetGenerator` which should be used instead.)\n",
      "  return cls(\n"
     ]
    },
    {
     "name": "stdout",
     "output_type": "stream",
     "text": [
      "INFO:httpx:HTTP Request: POST https://newsaugsponsored.openai.azure.com//openai/deployments/AzureNewsAug/chat/completions?api-version=2023-05-15 \"HTTP/1.1 200 OK\"\n",
      "HTTP Request: POST https://newsaugsponsored.openai.azure.com//openai/deployments/AzureNewsAug/chat/completions?api-version=2023-05-15 \"HTTP/1.1 200 OK\"\n",
      "HTTP Request: POST https://newsaugsponsored.openai.azure.com//openai/deployments/AzureNewsAug/chat/completions?api-version=2023-05-15 \"HTTP/1.1 200 OK\"\n",
      "INFO:httpx:HTTP Request: POST https://newsaugsponsored.openai.azure.com//openai/deployments/AzureNewsAug/chat/completions?api-version=2023-05-15 \"HTTP/1.1 200 OK\"\n",
      "HTTP Request: POST https://newsaugsponsored.openai.azure.com//openai/deployments/AzureNewsAug/chat/completions?api-version=2023-05-15 \"HTTP/1.1 200 OK\"\n",
      "HTTP Request: POST https://newsaugsponsored.openai.azure.com//openai/deployments/AzureNewsAug/chat/completions?api-version=2023-05-15 \"HTTP/1.1 200 OK\"\n",
      "INFO:httpx:HTTP Request: POST https://newsaugsponsored.openai.azure.com//openai/deployments/AzureNewsAug/chat/completions?api-version=2023-05-15 \"HTTP/1.1 200 OK\"\n",
      "HTTP Request: POST https://newsaugsponsored.openai.azure.com//openai/deployments/AzureNewsAug/chat/completions?api-version=2023-05-15 \"HTTP/1.1 200 OK\"\n",
      "HTTP Request: POST https://newsaugsponsored.openai.azure.com//openai/deployments/AzureNewsAug/chat/completions?api-version=2023-05-15 \"HTTP/1.1 200 OK\"\n",
      "INFO:httpx:HTTP Request: POST https://newsaugsponsored.openai.azure.com//openai/deployments/AzureNewsAug/chat/completions?api-version=2023-05-15 \"HTTP/1.1 200 OK\"\n",
      "HTTP Request: POST https://newsaugsponsored.openai.azure.com//openai/deployments/AzureNewsAug/chat/completions?api-version=2023-05-15 \"HTTP/1.1 200 OK\"\n",
      "HTTP Request: POST https://newsaugsponsored.openai.azure.com//openai/deployments/AzureNewsAug/chat/completions?api-version=2023-05-15 \"HTTP/1.1 200 OK\"\n",
      "INFO:httpx:HTTP Request: POST https://newsaugsponsored.openai.azure.com//openai/deployments/AzureNewsAug/chat/completions?api-version=2023-05-15 \"HTTP/1.1 200 OK\"\n",
      "HTTP Request: POST https://newsaugsponsored.openai.azure.com//openai/deployments/AzureNewsAug/chat/completions?api-version=2023-05-15 \"HTTP/1.1 200 OK\"\n",
      "HTTP Request: POST https://newsaugsponsored.openai.azure.com//openai/deployments/AzureNewsAug/chat/completions?api-version=2023-05-15 \"HTTP/1.1 200 OK\"\n",
      "INFO:httpx:HTTP Request: POST https://newsaugsponsored.openai.azure.com//openai/deployments/AzureNewsAug/chat/completions?api-version=2023-05-15 \"HTTP/1.1 200 OK\"\n",
      "HTTP Request: POST https://newsaugsponsored.openai.azure.com//openai/deployments/AzureNewsAug/chat/completions?api-version=2023-05-15 \"HTTP/1.1 200 OK\"\n",
      "HTTP Request: POST https://newsaugsponsored.openai.azure.com//openai/deployments/AzureNewsAug/chat/completions?api-version=2023-05-15 \"HTTP/1.1 200 OK\"\n",
      "INFO:httpx:HTTP Request: POST https://newsaugsponsored.openai.azure.com//openai/deployments/AzureNewsAug/chat/completions?api-version=2023-05-15 \"HTTP/1.1 200 OK\"\n",
      "HTTP Request: POST https://newsaugsponsored.openai.azure.com//openai/deployments/AzureNewsAug/chat/completions?api-version=2023-05-15 \"HTTP/1.1 200 OK\"\n",
      "HTTP Request: POST https://newsaugsponsored.openai.azure.com//openai/deployments/AzureNewsAug/chat/completions?api-version=2023-05-15 \"HTTP/1.1 200 OK\"\n"
     ]
    },
    {
     "name": "stderr",
     "output_type": "stream",
     "text": [
      "/home/g2/.local/lib/python3.10/site-packages/llama_index/core/evaluation/dataset_generation.py:312: DeprecationWarning: Call to deprecated class QueryResponseDataset. (Deprecated in favor of `LabelledRagDataset` which should be used instead.)\n",
      "  return QueryResponseDataset(queries=queries, responses=responses_dict)\n",
      "/home/g2/.local/lib/python3.10/site-packages/llama_index/core/evaluation/dataset_generation.py:215: DeprecationWarning: Call to deprecated class DatasetGenerator. (Deprecated in favor of `RagDatasetGenerator` which should be used instead.)\n",
      "  return cls(\n"
     ]
    },
    {
     "name": "stdout",
     "output_type": "stream",
     "text": [
      "INFO:httpx:HTTP Request: POST https://newsaugsponsored.openai.azure.com//openai/deployments/AzureNewsAug/chat/completions?api-version=2023-05-15 \"HTTP/1.1 200 OK\"\n",
      "HTTP Request: POST https://newsaugsponsored.openai.azure.com//openai/deployments/AzureNewsAug/chat/completions?api-version=2023-05-15 \"HTTP/1.1 200 OK\"\n",
      "HTTP Request: POST https://newsaugsponsored.openai.azure.com//openai/deployments/AzureNewsAug/chat/completions?api-version=2023-05-15 \"HTTP/1.1 200 OK\"\n",
      "INFO:httpx:HTTP Request: POST https://newsaugsponsored.openai.azure.com//openai/deployments/AzureNewsAug/chat/completions?api-version=2023-05-15 \"HTTP/1.1 200 OK\"\n",
      "HTTP Request: POST https://newsaugsponsored.openai.azure.com//openai/deployments/AzureNewsAug/chat/completions?api-version=2023-05-15 \"HTTP/1.1 200 OK\"\n",
      "HTTP Request: POST https://newsaugsponsored.openai.azure.com//openai/deployments/AzureNewsAug/chat/completions?api-version=2023-05-15 \"HTTP/1.1 200 OK\"\n"
     ]
    },
    {
     "name": "stderr",
     "output_type": "stream",
     "text": [
      "/home/g2/.local/lib/python3.10/site-packages/llama_index/core/evaluation/dataset_generation.py:312: DeprecationWarning: Call to deprecated class QueryResponseDataset. (Deprecated in favor of `LabelledRagDataset` which should be used instead.)\n",
      "  return QueryResponseDataset(queries=queries, responses=responses_dict)\n",
      "/home/g2/.local/lib/python3.10/site-packages/llama_index/core/evaluation/dataset_generation.py:215: DeprecationWarning: Call to deprecated class DatasetGenerator. (Deprecated in favor of `RagDatasetGenerator` which should be used instead.)\n",
      "  return cls(\n"
     ]
    },
    {
     "name": "stdout",
     "output_type": "stream",
     "text": [
      "INFO:httpx:HTTP Request: POST https://newsaugsponsored.openai.azure.com//openai/deployments/AzureNewsAug/chat/completions?api-version=2023-05-15 \"HTTP/1.1 200 OK\"\n",
      "HTTP Request: POST https://newsaugsponsored.openai.azure.com//openai/deployments/AzureNewsAug/chat/completions?api-version=2023-05-15 \"HTTP/1.1 200 OK\"\n",
      "HTTP Request: POST https://newsaugsponsored.openai.azure.com//openai/deployments/AzureNewsAug/chat/completions?api-version=2023-05-15 \"HTTP/1.1 200 OK\"\n",
      "INFO:httpx:HTTP Request: POST https://newsaugsponsored.openai.azure.com//openai/deployments/AzureNewsAug/chat/completions?api-version=2023-05-15 \"HTTP/1.1 200 OK\"\n",
      "HTTP Request: POST https://newsaugsponsored.openai.azure.com//openai/deployments/AzureNewsAug/chat/completions?api-version=2023-05-15 \"HTTP/1.1 200 OK\"\n",
      "HTTP Request: POST https://newsaugsponsored.openai.azure.com//openai/deployments/AzureNewsAug/chat/completions?api-version=2023-05-15 \"HTTP/1.1 200 OK\"\n",
      "INFO:httpx:HTTP Request: POST https://newsaugsponsored.openai.azure.com//openai/deployments/AzureNewsAug/chat/completions?api-version=2023-05-15 \"HTTP/1.1 200 OK\"\n",
      "HTTP Request: POST https://newsaugsponsored.openai.azure.com//openai/deployments/AzureNewsAug/chat/completions?api-version=2023-05-15 \"HTTP/1.1 200 OK\"\n",
      "HTTP Request: POST https://newsaugsponsored.openai.azure.com//openai/deployments/AzureNewsAug/chat/completions?api-version=2023-05-15 \"HTTP/1.1 200 OK\"\n"
     ]
    },
    {
     "name": "stderr",
     "output_type": "stream",
     "text": [
      "/home/g2/.local/lib/python3.10/site-packages/llama_index/core/evaluation/dataset_generation.py:312: DeprecationWarning: Call to deprecated class QueryResponseDataset. (Deprecated in favor of `LabelledRagDataset` which should be used instead.)\n",
      "  return QueryResponseDataset(queries=queries, responses=responses_dict)\n",
      "/home/g2/.local/lib/python3.10/site-packages/llama_index/core/evaluation/dataset_generation.py:215: DeprecationWarning: Call to deprecated class DatasetGenerator. (Deprecated in favor of `RagDatasetGenerator` which should be used instead.)\n",
      "  return cls(\n"
     ]
    },
    {
     "name": "stdout",
     "output_type": "stream",
     "text": [
      "INFO:httpx:HTTP Request: POST https://newsaugsponsored.openai.azure.com//openai/deployments/AzureNewsAug/chat/completions?api-version=2023-05-15 \"HTTP/1.1 200 OK\"\n",
      "HTTP Request: POST https://newsaugsponsored.openai.azure.com//openai/deployments/AzureNewsAug/chat/completions?api-version=2023-05-15 \"HTTP/1.1 200 OK\"\n",
      "HTTP Request: POST https://newsaugsponsored.openai.azure.com//openai/deployments/AzureNewsAug/chat/completions?api-version=2023-05-15 \"HTTP/1.1 200 OK\"\n",
      "INFO:httpx:HTTP Request: POST https://newsaugsponsored.openai.azure.com//openai/deployments/AzureNewsAug/chat/completions?api-version=2023-05-15 \"HTTP/1.1 200 OK\"\n",
      "HTTP Request: POST https://newsaugsponsored.openai.azure.com//openai/deployments/AzureNewsAug/chat/completions?api-version=2023-05-15 \"HTTP/1.1 200 OK\"\n",
      "HTTP Request: POST https://newsaugsponsored.openai.azure.com//openai/deployments/AzureNewsAug/chat/completions?api-version=2023-05-15 \"HTTP/1.1 200 OK\"\n",
      "INFO:httpx:HTTP Request: POST https://newsaugsponsored.openai.azure.com//openai/deployments/AzureNewsAug/chat/completions?api-version=2023-05-15 \"HTTP/1.1 200 OK\"\n",
      "HTTP Request: POST https://newsaugsponsored.openai.azure.com//openai/deployments/AzureNewsAug/chat/completions?api-version=2023-05-15 \"HTTP/1.1 200 OK\"\n",
      "HTTP Request: POST https://newsaugsponsored.openai.azure.com//openai/deployments/AzureNewsAug/chat/completions?api-version=2023-05-15 \"HTTP/1.1 200 OK\"\n",
      "INFO:httpx:HTTP Request: POST https://newsaugsponsored.openai.azure.com//openai/deployments/AzureNewsAug/chat/completions?api-version=2023-05-15 \"HTTP/1.1 200 OK\"\n",
      "HTTP Request: POST https://newsaugsponsored.openai.azure.com//openai/deployments/AzureNewsAug/chat/completions?api-version=2023-05-15 \"HTTP/1.1 200 OK\"\n",
      "HTTP Request: POST https://newsaugsponsored.openai.azure.com//openai/deployments/AzureNewsAug/chat/completions?api-version=2023-05-15 \"HTTP/1.1 200 OK\"\n",
      "INFO:httpx:HTTP Request: POST https://newsaugsponsored.openai.azure.com//openai/deployments/AzureNewsAug/chat/completions?api-version=2023-05-15 \"HTTP/1.1 200 OK\"\n",
      "HTTP Request: POST https://newsaugsponsored.openai.azure.com//openai/deployments/AzureNewsAug/chat/completions?api-version=2023-05-15 \"HTTP/1.1 200 OK\"\n",
      "HTTP Request: POST https://newsaugsponsored.openai.azure.com//openai/deployments/AzureNewsAug/chat/completions?api-version=2023-05-15 \"HTTP/1.1 200 OK\"\n"
     ]
    },
    {
     "name": "stderr",
     "output_type": "stream",
     "text": [
      "/home/g2/.local/lib/python3.10/site-packages/llama_index/core/evaluation/dataset_generation.py:312: DeprecationWarning: Call to deprecated class QueryResponseDataset. (Deprecated in favor of `LabelledRagDataset` which should be used instead.)\n",
      "  return QueryResponseDataset(queries=queries, responses=responses_dict)\n",
      "/home/g2/.local/lib/python3.10/site-packages/llama_index/core/evaluation/dataset_generation.py:215: DeprecationWarning: Call to deprecated class DatasetGenerator. (Deprecated in favor of `RagDatasetGenerator` which should be used instead.)\n",
      "  return cls(\n"
     ]
    },
    {
     "name": "stdout",
     "output_type": "stream",
     "text": [
      "INFO:httpx:HTTP Request: POST https://newsaugsponsored.openai.azure.com//openai/deployments/AzureNewsAug/chat/completions?api-version=2023-05-15 \"HTTP/1.1 200 OK\"\n",
      "HTTP Request: POST https://newsaugsponsored.openai.azure.com//openai/deployments/AzureNewsAug/chat/completions?api-version=2023-05-15 \"HTTP/1.1 200 OK\"\n",
      "HTTP Request: POST https://newsaugsponsored.openai.azure.com//openai/deployments/AzureNewsAug/chat/completions?api-version=2023-05-15 \"HTTP/1.1 200 OK\"\n",
      "INFO:httpx:HTTP Request: POST https://newsaugsponsored.openai.azure.com//openai/deployments/AzureNewsAug/chat/completions?api-version=2023-05-15 \"HTTP/1.1 200 OK\"\n",
      "HTTP Request: POST https://newsaugsponsored.openai.azure.com//openai/deployments/AzureNewsAug/chat/completions?api-version=2023-05-15 \"HTTP/1.1 200 OK\"\n",
      "HTTP Request: POST https://newsaugsponsored.openai.azure.com//openai/deployments/AzureNewsAug/chat/completions?api-version=2023-05-15 \"HTTP/1.1 200 OK\"\n"
     ]
    },
    {
     "name": "stderr",
     "output_type": "stream",
     "text": [
      "/home/g2/.local/lib/python3.10/site-packages/llama_index/core/evaluation/dataset_generation.py:312: DeprecationWarning: Call to deprecated class QueryResponseDataset. (Deprecated in favor of `LabelledRagDataset` which should be used instead.)\n",
      "  return QueryResponseDataset(queries=queries, responses=responses_dict)\n",
      "/home/g2/.local/lib/python3.10/site-packages/llama_index/core/evaluation/dataset_generation.py:215: DeprecationWarning: Call to deprecated class DatasetGenerator. (Deprecated in favor of `RagDatasetGenerator` which should be used instead.)\n",
      "  return cls(\n"
     ]
    },
    {
     "name": "stdout",
     "output_type": "stream",
     "text": [
      "INFO:httpx:HTTP Request: POST https://newsaugsponsored.openai.azure.com//openai/deployments/AzureNewsAug/chat/completions?api-version=2023-05-15 \"HTTP/1.1 200 OK\"\n",
      "HTTP Request: POST https://newsaugsponsored.openai.azure.com//openai/deployments/AzureNewsAug/chat/completions?api-version=2023-05-15 \"HTTP/1.1 200 OK\"\n",
      "HTTP Request: POST https://newsaugsponsored.openai.azure.com//openai/deployments/AzureNewsAug/chat/completions?api-version=2023-05-15 \"HTTP/1.1 200 OK\"\n",
      "INFO:httpx:HTTP Request: POST https://newsaugsponsored.openai.azure.com//openai/deployments/AzureNewsAug/chat/completions?api-version=2023-05-15 \"HTTP/1.1 200 OK\"\n",
      "HTTP Request: POST https://newsaugsponsored.openai.azure.com//openai/deployments/AzureNewsAug/chat/completions?api-version=2023-05-15 \"HTTP/1.1 200 OK\"\n",
      "HTTP Request: POST https://newsaugsponsored.openai.azure.com//openai/deployments/AzureNewsAug/chat/completions?api-version=2023-05-15 \"HTTP/1.1 200 OK\"\n",
      "INFO:httpx:HTTP Request: POST https://newsaugsponsored.openai.azure.com//openai/deployments/AzureNewsAug/chat/completions?api-version=2023-05-15 \"HTTP/1.1 200 OK\"\n",
      "HTTP Request: POST https://newsaugsponsored.openai.azure.com//openai/deployments/AzureNewsAug/chat/completions?api-version=2023-05-15 \"HTTP/1.1 200 OK\"\n",
      "HTTP Request: POST https://newsaugsponsored.openai.azure.com//openai/deployments/AzureNewsAug/chat/completions?api-version=2023-05-15 \"HTTP/1.1 200 OK\"\n"
     ]
    },
    {
     "name": "stderr",
     "output_type": "stream",
     "text": [
      "/home/g2/.local/lib/python3.10/site-packages/llama_index/core/evaluation/dataset_generation.py:312: DeprecationWarning: Call to deprecated class QueryResponseDataset. (Deprecated in favor of `LabelledRagDataset` which should be used instead.)\n",
      "  return QueryResponseDataset(queries=queries, responses=responses_dict)\n",
      "/home/g2/.local/lib/python3.10/site-packages/llama_index/core/evaluation/dataset_generation.py:215: DeprecationWarning: Call to deprecated class DatasetGenerator. (Deprecated in favor of `RagDatasetGenerator` which should be used instead.)\n",
      "  return cls(\n"
     ]
    },
    {
     "name": "stdout",
     "output_type": "stream",
     "text": [
      "INFO:httpx:HTTP Request: POST https://newsaugsponsored.openai.azure.com//openai/deployments/AzureNewsAug/chat/completions?api-version=2023-05-15 \"HTTP/1.1 200 OK\"\n",
      "HTTP Request: POST https://newsaugsponsored.openai.azure.com//openai/deployments/AzureNewsAug/chat/completions?api-version=2023-05-15 \"HTTP/1.1 200 OK\"\n",
      "HTTP Request: POST https://newsaugsponsored.openai.azure.com//openai/deployments/AzureNewsAug/chat/completions?api-version=2023-05-15 \"HTTP/1.1 200 OK\"\n",
      "INFO:httpx:HTTP Request: POST https://newsaugsponsored.openai.azure.com//openai/deployments/AzureNewsAug/chat/completions?api-version=2023-05-15 \"HTTP/1.1 200 OK\"\n",
      "HTTP Request: POST https://newsaugsponsored.openai.azure.com//openai/deployments/AzureNewsAug/chat/completions?api-version=2023-05-15 \"HTTP/1.1 200 OK\"\n",
      "HTTP Request: POST https://newsaugsponsored.openai.azure.com//openai/deployments/AzureNewsAug/chat/completions?api-version=2023-05-15 \"HTTP/1.1 200 OK\"\n"
     ]
    },
    {
     "name": "stderr",
     "output_type": "stream",
     "text": [
      "/home/g2/.local/lib/python3.10/site-packages/llama_index/core/evaluation/dataset_generation.py:312: DeprecationWarning: Call to deprecated class QueryResponseDataset. (Deprecated in favor of `LabelledRagDataset` which should be used instead.)\n",
      "  return QueryResponseDataset(queries=queries, responses=responses_dict)\n",
      "/home/g2/.local/lib/python3.10/site-packages/llama_index/core/evaluation/dataset_generation.py:215: DeprecationWarning: Call to deprecated class DatasetGenerator. (Deprecated in favor of `RagDatasetGenerator` which should be used instead.)\n",
      "  return cls(\n"
     ]
    },
    {
     "name": "stdout",
     "output_type": "stream",
     "text": [
      "INFO:httpx:HTTP Request: POST https://newsaugsponsored.openai.azure.com//openai/deployments/AzureNewsAug/chat/completions?api-version=2023-05-15 \"HTTP/1.1 200 OK\"\n",
      "HTTP Request: POST https://newsaugsponsored.openai.azure.com//openai/deployments/AzureNewsAug/chat/completions?api-version=2023-05-15 \"HTTP/1.1 200 OK\"\n",
      "HTTP Request: POST https://newsaugsponsored.openai.azure.com//openai/deployments/AzureNewsAug/chat/completions?api-version=2023-05-15 \"HTTP/1.1 200 OK\"\n",
      "INFO:httpx:HTTP Request: POST https://newsaugsponsored.openai.azure.com//openai/deployments/AzureNewsAug/chat/completions?api-version=2023-05-15 \"HTTP/1.1 200 OK\"\n",
      "HTTP Request: POST https://newsaugsponsored.openai.azure.com//openai/deployments/AzureNewsAug/chat/completions?api-version=2023-05-15 \"HTTP/1.1 200 OK\"\n",
      "HTTP Request: POST https://newsaugsponsored.openai.azure.com//openai/deployments/AzureNewsAug/chat/completions?api-version=2023-05-15 \"HTTP/1.1 200 OK\"\n"
     ]
    },
    {
     "name": "stderr",
     "output_type": "stream",
     "text": [
      "/home/g2/.local/lib/python3.10/site-packages/llama_index/core/evaluation/dataset_generation.py:312: DeprecationWarning: Call to deprecated class QueryResponseDataset. (Deprecated in favor of `LabelledRagDataset` which should be used instead.)\n",
      "  return QueryResponseDataset(queries=queries, responses=responses_dict)\n",
      "/home/g2/.local/lib/python3.10/site-packages/llama_index/core/evaluation/dataset_generation.py:215: DeprecationWarning: Call to deprecated class DatasetGenerator. (Deprecated in favor of `RagDatasetGenerator` which should be used instead.)\n",
      "  return cls(\n"
     ]
    },
    {
     "name": "stdout",
     "output_type": "stream",
     "text": [
      "INFO:httpx:HTTP Request: POST https://newsaugsponsored.openai.azure.com//openai/deployments/AzureNewsAug/chat/completions?api-version=2023-05-15 \"HTTP/1.1 200 OK\"\n",
      "HTTP Request: POST https://newsaugsponsored.openai.azure.com//openai/deployments/AzureNewsAug/chat/completions?api-version=2023-05-15 \"HTTP/1.1 200 OK\"\n",
      "HTTP Request: POST https://newsaugsponsored.openai.azure.com//openai/deployments/AzureNewsAug/chat/completions?api-version=2023-05-15 \"HTTP/1.1 200 OK\"\n",
      "INFO:httpx:HTTP Request: POST https://newsaugsponsored.openai.azure.com//openai/deployments/AzureNewsAug/chat/completions?api-version=2023-05-15 \"HTTP/1.1 200 OK\"\n",
      "HTTP Request: POST https://newsaugsponsored.openai.azure.com//openai/deployments/AzureNewsAug/chat/completions?api-version=2023-05-15 \"HTTP/1.1 200 OK\"\n",
      "HTTP Request: POST https://newsaugsponsored.openai.azure.com//openai/deployments/AzureNewsAug/chat/completions?api-version=2023-05-15 \"HTTP/1.1 200 OK\"\n",
      "INFO:httpx:HTTP Request: POST https://newsaugsponsored.openai.azure.com//openai/deployments/AzureNewsAug/chat/completions?api-version=2023-05-15 \"HTTP/1.1 200 OK\"\n",
      "HTTP Request: POST https://newsaugsponsored.openai.azure.com//openai/deployments/AzureNewsAug/chat/completions?api-version=2023-05-15 \"HTTP/1.1 200 OK\"\n",
      "HTTP Request: POST https://newsaugsponsored.openai.azure.com//openai/deployments/AzureNewsAug/chat/completions?api-version=2023-05-15 \"HTTP/1.1 200 OK\"\n",
      "INFO:httpx:HTTP Request: POST https://newsaugsponsored.openai.azure.com//openai/deployments/AzureNewsAug/chat/completions?api-version=2023-05-15 \"HTTP/1.1 200 OK\"\n",
      "HTTP Request: POST https://newsaugsponsored.openai.azure.com//openai/deployments/AzureNewsAug/chat/completions?api-version=2023-05-15 \"HTTP/1.1 200 OK\"\n",
      "HTTP Request: POST https://newsaugsponsored.openai.azure.com//openai/deployments/AzureNewsAug/chat/completions?api-version=2023-05-15 \"HTTP/1.1 200 OK\"\n",
      "INFO:httpx:HTTP Request: POST https://newsaugsponsored.openai.azure.com//openai/deployments/AzureNewsAug/chat/completions?api-version=2023-05-15 \"HTTP/1.1 200 OK\"\n",
      "HTTP Request: POST https://newsaugsponsored.openai.azure.com//openai/deployments/AzureNewsAug/chat/completions?api-version=2023-05-15 \"HTTP/1.1 200 OK\"\n",
      "HTTP Request: POST https://newsaugsponsored.openai.azure.com//openai/deployments/AzureNewsAug/chat/completions?api-version=2023-05-15 \"HTTP/1.1 200 OK\"\n",
      "INFO:httpx:HTTP Request: POST https://newsaugsponsored.openai.azure.com//openai/deployments/AzureNewsAug/chat/completions?api-version=2023-05-15 \"HTTP/1.1 200 OK\"\n",
      "HTTP Request: POST https://newsaugsponsored.openai.azure.com//openai/deployments/AzureNewsAug/chat/completions?api-version=2023-05-15 \"HTTP/1.1 200 OK\"\n",
      "HTTP Request: POST https://newsaugsponsored.openai.azure.com//openai/deployments/AzureNewsAug/chat/completions?api-version=2023-05-15 \"HTTP/1.1 200 OK\"\n"
     ]
    },
    {
     "name": "stderr",
     "output_type": "stream",
     "text": [
      "/home/g2/.local/lib/python3.10/site-packages/llama_index/core/evaluation/dataset_generation.py:312: DeprecationWarning: Call to deprecated class QueryResponseDataset. (Deprecated in favor of `LabelledRagDataset` which should be used instead.)\n",
      "  return QueryResponseDataset(queries=queries, responses=responses_dict)\n",
      "/home/g2/.local/lib/python3.10/site-packages/llama_index/core/evaluation/dataset_generation.py:215: DeprecationWarning: Call to deprecated class DatasetGenerator. (Deprecated in favor of `RagDatasetGenerator` which should be used instead.)\n",
      "  return cls(\n"
     ]
    },
    {
     "name": "stdout",
     "output_type": "stream",
     "text": [
      "INFO:httpx:HTTP Request: POST https://newsaugsponsored.openai.azure.com//openai/deployments/AzureNewsAug/chat/completions?api-version=2023-05-15 \"HTTP/1.1 200 OK\"\n",
      "HTTP Request: POST https://newsaugsponsored.openai.azure.com//openai/deployments/AzureNewsAug/chat/completions?api-version=2023-05-15 \"HTTP/1.1 200 OK\"\n",
      "HTTP Request: POST https://newsaugsponsored.openai.azure.com//openai/deployments/AzureNewsAug/chat/completions?api-version=2023-05-15 \"HTTP/1.1 200 OK\"\n",
      "INFO:httpx:HTTP Request: POST https://newsaugsponsored.openai.azure.com//openai/deployments/AzureNewsAug/chat/completions?api-version=2023-05-15 \"HTTP/1.1 200 OK\"\n",
      "HTTP Request: POST https://newsaugsponsored.openai.azure.com//openai/deployments/AzureNewsAug/chat/completions?api-version=2023-05-15 \"HTTP/1.1 200 OK\"\n",
      "HTTP Request: POST https://newsaugsponsored.openai.azure.com//openai/deployments/AzureNewsAug/chat/completions?api-version=2023-05-15 \"HTTP/1.1 200 OK\"\n"
     ]
    },
    {
     "name": "stderr",
     "output_type": "stream",
     "text": [
      "/home/g2/.local/lib/python3.10/site-packages/llama_index/core/evaluation/dataset_generation.py:312: DeprecationWarning: Call to deprecated class QueryResponseDataset. (Deprecated in favor of `LabelledRagDataset` which should be used instead.)\n",
      "  return QueryResponseDataset(queries=queries, responses=responses_dict)\n",
      "/home/g2/.local/lib/python3.10/site-packages/llama_index/core/evaluation/dataset_generation.py:215: DeprecationWarning: Call to deprecated class DatasetGenerator. (Deprecated in favor of `RagDatasetGenerator` which should be used instead.)\n",
      "  return cls(\n"
     ]
    },
    {
     "name": "stdout",
     "output_type": "stream",
     "text": [
      "INFO:httpx:HTTP Request: POST https://newsaugsponsored.openai.azure.com//openai/deployments/AzureNewsAug/chat/completions?api-version=2023-05-15 \"HTTP/1.1 200 OK\"\n",
      "HTTP Request: POST https://newsaugsponsored.openai.azure.com//openai/deployments/AzureNewsAug/chat/completions?api-version=2023-05-15 \"HTTP/1.1 200 OK\"\n",
      "HTTP Request: POST https://newsaugsponsored.openai.azure.com//openai/deployments/AzureNewsAug/chat/completions?api-version=2023-05-15 \"HTTP/1.1 200 OK\"\n",
      "INFO:httpx:HTTP Request: POST https://newsaugsponsored.openai.azure.com//openai/deployments/AzureNewsAug/chat/completions?api-version=2023-05-15 \"HTTP/1.1 200 OK\"\n",
      "HTTP Request: POST https://newsaugsponsored.openai.azure.com//openai/deployments/AzureNewsAug/chat/completions?api-version=2023-05-15 \"HTTP/1.1 200 OK\"\n",
      "HTTP Request: POST https://newsaugsponsored.openai.azure.com//openai/deployments/AzureNewsAug/chat/completions?api-version=2023-05-15 \"HTTP/1.1 200 OK\"\n"
     ]
    },
    {
     "name": "stderr",
     "output_type": "stream",
     "text": [
      "/home/g2/.local/lib/python3.10/site-packages/llama_index/core/evaluation/dataset_generation.py:312: DeprecationWarning: Call to deprecated class QueryResponseDataset. (Deprecated in favor of `LabelledRagDataset` which should be used instead.)\n",
      "  return QueryResponseDataset(queries=queries, responses=responses_dict)\n",
      "/home/g2/.local/lib/python3.10/site-packages/llama_index/core/evaluation/dataset_generation.py:215: DeprecationWarning: Call to deprecated class DatasetGenerator. (Deprecated in favor of `RagDatasetGenerator` which should be used instead.)\n",
      "  return cls(\n"
     ]
    },
    {
     "name": "stdout",
     "output_type": "stream",
     "text": [
      "INFO:httpx:HTTP Request: POST https://newsaugsponsored.openai.azure.com//openai/deployments/AzureNewsAug/chat/completions?api-version=2023-05-15 \"HTTP/1.1 200 OK\"\n",
      "HTTP Request: POST https://newsaugsponsored.openai.azure.com//openai/deployments/AzureNewsAug/chat/completions?api-version=2023-05-15 \"HTTP/1.1 200 OK\"\n",
      "HTTP Request: POST https://newsaugsponsored.openai.azure.com//openai/deployments/AzureNewsAug/chat/completions?api-version=2023-05-15 \"HTTP/1.1 200 OK\"\n",
      "INFO:httpx:HTTP Request: POST https://newsaugsponsored.openai.azure.com//openai/deployments/AzureNewsAug/chat/completions?api-version=2023-05-15 \"HTTP/1.1 200 OK\"\n",
      "HTTP Request: POST https://newsaugsponsored.openai.azure.com//openai/deployments/AzureNewsAug/chat/completions?api-version=2023-05-15 \"HTTP/1.1 200 OK\"\n",
      "HTTP Request: POST https://newsaugsponsored.openai.azure.com//openai/deployments/AzureNewsAug/chat/completions?api-version=2023-05-15 \"HTTP/1.1 200 OK\"\n"
     ]
    },
    {
     "name": "stderr",
     "output_type": "stream",
     "text": [
      "/home/g2/.local/lib/python3.10/site-packages/llama_index/core/evaluation/dataset_generation.py:312: DeprecationWarning: Call to deprecated class QueryResponseDataset. (Deprecated in favor of `LabelledRagDataset` which should be used instead.)\n",
      "  return QueryResponseDataset(queries=queries, responses=responses_dict)\n",
      "/home/g2/.local/lib/python3.10/site-packages/llama_index/core/evaluation/dataset_generation.py:215: DeprecationWarning: Call to deprecated class DatasetGenerator. (Deprecated in favor of `RagDatasetGenerator` which should be used instead.)\n",
      "  return cls(\n"
     ]
    },
    {
     "name": "stdout",
     "output_type": "stream",
     "text": [
      "INFO:httpx:HTTP Request: POST https://newsaugsponsored.openai.azure.com//openai/deployments/AzureNewsAug/chat/completions?api-version=2023-05-15 \"HTTP/1.1 200 OK\"\n",
      "HTTP Request: POST https://newsaugsponsored.openai.azure.com//openai/deployments/AzureNewsAug/chat/completions?api-version=2023-05-15 \"HTTP/1.1 200 OK\"\n",
      "HTTP Request: POST https://newsaugsponsored.openai.azure.com//openai/deployments/AzureNewsAug/chat/completions?api-version=2023-05-15 \"HTTP/1.1 200 OK\"\n",
      "INFO:httpx:HTTP Request: POST https://newsaugsponsored.openai.azure.com//openai/deployments/AzureNewsAug/chat/completions?api-version=2023-05-15 \"HTTP/1.1 200 OK\"\n",
      "HTTP Request: POST https://newsaugsponsored.openai.azure.com//openai/deployments/AzureNewsAug/chat/completions?api-version=2023-05-15 \"HTTP/1.1 200 OK\"\n",
      "HTTP Request: POST https://newsaugsponsored.openai.azure.com//openai/deployments/AzureNewsAug/chat/completions?api-version=2023-05-15 \"HTTP/1.1 200 OK\"\n"
     ]
    },
    {
     "name": "stderr",
     "output_type": "stream",
     "text": [
      "/home/g2/.local/lib/python3.10/site-packages/llama_index/core/evaluation/dataset_generation.py:312: DeprecationWarning: Call to deprecated class QueryResponseDataset. (Deprecated in favor of `LabelledRagDataset` which should be used instead.)\n",
      "  return QueryResponseDataset(queries=queries, responses=responses_dict)\n",
      "/home/g2/.local/lib/python3.10/site-packages/llama_index/core/evaluation/dataset_generation.py:215: DeprecationWarning: Call to deprecated class DatasetGenerator. (Deprecated in favor of `RagDatasetGenerator` which should be used instead.)\n",
      "  return cls(\n"
     ]
    },
    {
     "name": "stdout",
     "output_type": "stream",
     "text": [
      "INFO:httpx:HTTP Request: POST https://newsaugsponsored.openai.azure.com//openai/deployments/AzureNewsAug/chat/completions?api-version=2023-05-15 \"HTTP/1.1 200 OK\"\n",
      "HTTP Request: POST https://newsaugsponsored.openai.azure.com//openai/deployments/AzureNewsAug/chat/completions?api-version=2023-05-15 \"HTTP/1.1 200 OK\"\n",
      "HTTP Request: POST https://newsaugsponsored.openai.azure.com//openai/deployments/AzureNewsAug/chat/completions?api-version=2023-05-15 \"HTTP/1.1 200 OK\"\n",
      "INFO:httpx:HTTP Request: POST https://newsaugsponsored.openai.azure.com//openai/deployments/AzureNewsAug/chat/completions?api-version=2023-05-15 \"HTTP/1.1 200 OK\"\n",
      "HTTP Request: POST https://newsaugsponsored.openai.azure.com//openai/deployments/AzureNewsAug/chat/completions?api-version=2023-05-15 \"HTTP/1.1 200 OK\"\n",
      "HTTP Request: POST https://newsaugsponsored.openai.azure.com//openai/deployments/AzureNewsAug/chat/completions?api-version=2023-05-15 \"HTTP/1.1 200 OK\"\n",
      "INFO:httpx:HTTP Request: POST https://newsaugsponsored.openai.azure.com//openai/deployments/AzureNewsAug/chat/completions?api-version=2023-05-15 \"HTTP/1.1 200 OK\"\n",
      "HTTP Request: POST https://newsaugsponsored.openai.azure.com//openai/deployments/AzureNewsAug/chat/completions?api-version=2023-05-15 \"HTTP/1.1 200 OK\"\n",
      "HTTP Request: POST https://newsaugsponsored.openai.azure.com//openai/deployments/AzureNewsAug/chat/completions?api-version=2023-05-15 \"HTTP/1.1 200 OK\"\n"
     ]
    },
    {
     "name": "stderr",
     "output_type": "stream",
     "text": [
      "/home/g2/.local/lib/python3.10/site-packages/llama_index/core/evaluation/dataset_generation.py:312: DeprecationWarning: Call to deprecated class QueryResponseDataset. (Deprecated in favor of `LabelledRagDataset` which should be used instead.)\n",
      "  return QueryResponseDataset(queries=queries, responses=responses_dict)\n",
      "/home/g2/.local/lib/python3.10/site-packages/llama_index/core/evaluation/dataset_generation.py:215: DeprecationWarning: Call to deprecated class DatasetGenerator. (Deprecated in favor of `RagDatasetGenerator` which should be used instead.)\n",
      "  return cls(\n"
     ]
    },
    {
     "name": "stdout",
     "output_type": "stream",
     "text": [
      "INFO:httpx:HTTP Request: POST https://newsaugsponsored.openai.azure.com//openai/deployments/AzureNewsAug/chat/completions?api-version=2023-05-15 \"HTTP/1.1 200 OK\"\n",
      "HTTP Request: POST https://newsaugsponsored.openai.azure.com//openai/deployments/AzureNewsAug/chat/completions?api-version=2023-05-15 \"HTTP/1.1 200 OK\"\n",
      "HTTP Request: POST https://newsaugsponsored.openai.azure.com//openai/deployments/AzureNewsAug/chat/completions?api-version=2023-05-15 \"HTTP/1.1 200 OK\"\n",
      "INFO:httpx:HTTP Request: POST https://newsaugsponsored.openai.azure.com//openai/deployments/AzureNewsAug/chat/completions?api-version=2023-05-15 \"HTTP/1.1 200 OK\"\n",
      "HTTP Request: POST https://newsaugsponsored.openai.azure.com//openai/deployments/AzureNewsAug/chat/completions?api-version=2023-05-15 \"HTTP/1.1 200 OK\"\n",
      "HTTP Request: POST https://newsaugsponsored.openai.azure.com//openai/deployments/AzureNewsAug/chat/completions?api-version=2023-05-15 \"HTTP/1.1 200 OK\"\n",
      "INFO:httpx:HTTP Request: POST https://newsaugsponsored.openai.azure.com//openai/deployments/AzureNewsAug/chat/completions?api-version=2023-05-15 \"HTTP/1.1 200 OK\"\n",
      "HTTP Request: POST https://newsaugsponsored.openai.azure.com//openai/deployments/AzureNewsAug/chat/completions?api-version=2023-05-15 \"HTTP/1.1 200 OK\"\n",
      "HTTP Request: POST https://newsaugsponsored.openai.azure.com//openai/deployments/AzureNewsAug/chat/completions?api-version=2023-05-15 \"HTTP/1.1 200 OK\"\n",
      "INFO:httpx:HTTP Request: POST https://newsaugsponsored.openai.azure.com//openai/deployments/AzureNewsAug/chat/completions?api-version=2023-05-15 \"HTTP/1.1 200 OK\"\n",
      "HTTP Request: POST https://newsaugsponsored.openai.azure.com//openai/deployments/AzureNewsAug/chat/completions?api-version=2023-05-15 \"HTTP/1.1 200 OK\"\n",
      "HTTP Request: POST https://newsaugsponsored.openai.azure.com//openai/deployments/AzureNewsAug/chat/completions?api-version=2023-05-15 \"HTTP/1.1 200 OK\"\n"
     ]
    },
    {
     "name": "stderr",
     "output_type": "stream",
     "text": [
      "/home/g2/.local/lib/python3.10/site-packages/llama_index/core/evaluation/dataset_generation.py:312: DeprecationWarning: Call to deprecated class QueryResponseDataset. (Deprecated in favor of `LabelledRagDataset` which should be used instead.)\n",
      "  return QueryResponseDataset(queries=queries, responses=responses_dict)\n",
      "/home/g2/.local/lib/python3.10/site-packages/llama_index/core/evaluation/dataset_generation.py:215: DeprecationWarning: Call to deprecated class DatasetGenerator. (Deprecated in favor of `RagDatasetGenerator` which should be used instead.)\n",
      "  return cls(\n"
     ]
    },
    {
     "name": "stdout",
     "output_type": "stream",
     "text": [
      "INFO:httpx:HTTP Request: POST https://newsaugsponsored.openai.azure.com//openai/deployments/AzureNewsAug/chat/completions?api-version=2023-05-15 \"HTTP/1.1 200 OK\"\n",
      "HTTP Request: POST https://newsaugsponsored.openai.azure.com//openai/deployments/AzureNewsAug/chat/completions?api-version=2023-05-15 \"HTTP/1.1 200 OK\"\n",
      "HTTP Request: POST https://newsaugsponsored.openai.azure.com//openai/deployments/AzureNewsAug/chat/completions?api-version=2023-05-15 \"HTTP/1.1 200 OK\"\n",
      "INFO:httpx:HTTP Request: POST https://newsaugsponsored.openai.azure.com//openai/deployments/AzureNewsAug/chat/completions?api-version=2023-05-15 \"HTTP/1.1 200 OK\"\n",
      "HTTP Request: POST https://newsaugsponsored.openai.azure.com//openai/deployments/AzureNewsAug/chat/completions?api-version=2023-05-15 \"HTTP/1.1 200 OK\"\n",
      "HTTP Request: POST https://newsaugsponsored.openai.azure.com//openai/deployments/AzureNewsAug/chat/completions?api-version=2023-05-15 \"HTTP/1.1 200 OK\"\n"
     ]
    },
    {
     "name": "stderr",
     "output_type": "stream",
     "text": [
      "/home/g2/.local/lib/python3.10/site-packages/llama_index/core/evaluation/dataset_generation.py:312: DeprecationWarning: Call to deprecated class QueryResponseDataset. (Deprecated in favor of `LabelledRagDataset` which should be used instead.)\n",
      "  return QueryResponseDataset(queries=queries, responses=responses_dict)\n",
      "/home/g2/.local/lib/python3.10/site-packages/llama_index/core/evaluation/dataset_generation.py:215: DeprecationWarning: Call to deprecated class DatasetGenerator. (Deprecated in favor of `RagDatasetGenerator` which should be used instead.)\n",
      "  return cls(\n"
     ]
    },
    {
     "name": "stdout",
     "output_type": "stream",
     "text": [
      "INFO:httpx:HTTP Request: POST https://newsaugsponsored.openai.azure.com//openai/deployments/AzureNewsAug/chat/completions?api-version=2023-05-15 \"HTTP/1.1 200 OK\"\n",
      "HTTP Request: POST https://newsaugsponsored.openai.azure.com//openai/deployments/AzureNewsAug/chat/completions?api-version=2023-05-15 \"HTTP/1.1 200 OK\"\n",
      "HTTP Request: POST https://newsaugsponsored.openai.azure.com//openai/deployments/AzureNewsAug/chat/completions?api-version=2023-05-15 \"HTTP/1.1 200 OK\"\n",
      "INFO:httpx:HTTP Request: POST https://newsaugsponsored.openai.azure.com//openai/deployments/AzureNewsAug/chat/completions?api-version=2023-05-15 \"HTTP/1.1 200 OK\"\n",
      "HTTP Request: POST https://newsaugsponsored.openai.azure.com//openai/deployments/AzureNewsAug/chat/completions?api-version=2023-05-15 \"HTTP/1.1 200 OK\"\n",
      "HTTP Request: POST https://newsaugsponsored.openai.azure.com//openai/deployments/AzureNewsAug/chat/completions?api-version=2023-05-15 \"HTTP/1.1 200 OK\"\n",
      "INFO:httpx:HTTP Request: POST https://newsaugsponsored.openai.azure.com//openai/deployments/AzureNewsAug/chat/completions?api-version=2023-05-15 \"HTTP/1.1 200 OK\"\n",
      "HTTP Request: POST https://newsaugsponsored.openai.azure.com//openai/deployments/AzureNewsAug/chat/completions?api-version=2023-05-15 \"HTTP/1.1 200 OK\"\n",
      "HTTP Request: POST https://newsaugsponsored.openai.azure.com//openai/deployments/AzureNewsAug/chat/completions?api-version=2023-05-15 \"HTTP/1.1 200 OK\"\n",
      "INFO:httpx:HTTP Request: POST https://newsaugsponsored.openai.azure.com//openai/deployments/AzureNewsAug/chat/completions?api-version=2023-05-15 \"HTTP/1.1 200 OK\"\n",
      "HTTP Request: POST https://newsaugsponsored.openai.azure.com//openai/deployments/AzureNewsAug/chat/completions?api-version=2023-05-15 \"HTTP/1.1 200 OK\"\n",
      "HTTP Request: POST https://newsaugsponsored.openai.azure.com//openai/deployments/AzureNewsAug/chat/completions?api-version=2023-05-15 \"HTTP/1.1 200 OK\"\n"
     ]
    },
    {
     "name": "stderr",
     "output_type": "stream",
     "text": [
      "/home/g2/.local/lib/python3.10/site-packages/llama_index/core/evaluation/dataset_generation.py:312: DeprecationWarning: Call to deprecated class QueryResponseDataset. (Deprecated in favor of `LabelledRagDataset` which should be used instead.)\n",
      "  return QueryResponseDataset(queries=queries, responses=responses_dict)\n",
      "/home/g2/.local/lib/python3.10/site-packages/llama_index/core/evaluation/dataset_generation.py:215: DeprecationWarning: Call to deprecated class DatasetGenerator. (Deprecated in favor of `RagDatasetGenerator` which should be used instead.)\n",
      "  return cls(\n"
     ]
    },
    {
     "name": "stdout",
     "output_type": "stream",
     "text": [
      "INFO:httpx:HTTP Request: POST https://newsaugsponsored.openai.azure.com//openai/deployments/AzureNewsAug/chat/completions?api-version=2023-05-15 \"HTTP/1.1 200 OK\"\n",
      "HTTP Request: POST https://newsaugsponsored.openai.azure.com//openai/deployments/AzureNewsAug/chat/completions?api-version=2023-05-15 \"HTTP/1.1 200 OK\"\n",
      "HTTP Request: POST https://newsaugsponsored.openai.azure.com//openai/deployments/AzureNewsAug/chat/completions?api-version=2023-05-15 \"HTTP/1.1 200 OK\"\n",
      "INFO:httpx:HTTP Request: POST https://newsaugsponsored.openai.azure.com//openai/deployments/AzureNewsAug/chat/completions?api-version=2023-05-15 \"HTTP/1.1 200 OK\"\n",
      "HTTP Request: POST https://newsaugsponsored.openai.azure.com//openai/deployments/AzureNewsAug/chat/completions?api-version=2023-05-15 \"HTTP/1.1 200 OK\"\n",
      "HTTP Request: POST https://newsaugsponsored.openai.azure.com//openai/deployments/AzureNewsAug/chat/completions?api-version=2023-05-15 \"HTTP/1.1 200 OK\"\n"
     ]
    },
    {
     "name": "stderr",
     "output_type": "stream",
     "text": [
      "/home/g2/.local/lib/python3.10/site-packages/llama_index/core/evaluation/dataset_generation.py:312: DeprecationWarning: Call to deprecated class QueryResponseDataset. (Deprecated in favor of `LabelledRagDataset` which should be used instead.)\n",
      "  return QueryResponseDataset(queries=queries, responses=responses_dict)\n",
      "/home/g2/.local/lib/python3.10/site-packages/llama_index/core/evaluation/dataset_generation.py:215: DeprecationWarning: Call to deprecated class DatasetGenerator. (Deprecated in favor of `RagDatasetGenerator` which should be used instead.)\n",
      "  return cls(\n"
     ]
    },
    {
     "name": "stdout",
     "output_type": "stream",
     "text": [
      "INFO:httpx:HTTP Request: POST https://newsaugsponsored.openai.azure.com//openai/deployments/AzureNewsAug/chat/completions?api-version=2023-05-15 \"HTTP/1.1 200 OK\"\n",
      "HTTP Request: POST https://newsaugsponsored.openai.azure.com//openai/deployments/AzureNewsAug/chat/completions?api-version=2023-05-15 \"HTTP/1.1 200 OK\"\n",
      "HTTP Request: POST https://newsaugsponsored.openai.azure.com//openai/deployments/AzureNewsAug/chat/completions?api-version=2023-05-15 \"HTTP/1.1 200 OK\"\n",
      "INFO:httpx:HTTP Request: POST https://newsaugsponsored.openai.azure.com//openai/deployments/AzureNewsAug/chat/completions?api-version=2023-05-15 \"HTTP/1.1 200 OK\"\n",
      "HTTP Request: POST https://newsaugsponsored.openai.azure.com//openai/deployments/AzureNewsAug/chat/completions?api-version=2023-05-15 \"HTTP/1.1 200 OK\"\n",
      "HTTP Request: POST https://newsaugsponsored.openai.azure.com//openai/deployments/AzureNewsAug/chat/completions?api-version=2023-05-15 \"HTTP/1.1 200 OK\"\n"
     ]
    },
    {
     "name": "stderr",
     "output_type": "stream",
     "text": [
      "/home/g2/.local/lib/python3.10/site-packages/llama_index/core/evaluation/dataset_generation.py:312: DeprecationWarning: Call to deprecated class QueryResponseDataset. (Deprecated in favor of `LabelledRagDataset` which should be used instead.)\n",
      "  return QueryResponseDataset(queries=queries, responses=responses_dict)\n",
      "/home/g2/.local/lib/python3.10/site-packages/llama_index/core/evaluation/dataset_generation.py:215: DeprecationWarning: Call to deprecated class DatasetGenerator. (Deprecated in favor of `RagDatasetGenerator` which should be used instead.)\n",
      "  return cls(\n"
     ]
    },
    {
     "name": "stdout",
     "output_type": "stream",
     "text": [
      "INFO:httpx:HTTP Request: POST https://newsaugsponsored.openai.azure.com//openai/deployments/AzureNewsAug/chat/completions?api-version=2023-05-15 \"HTTP/1.1 200 OK\"\n",
      "HTTP Request: POST https://newsaugsponsored.openai.azure.com//openai/deployments/AzureNewsAug/chat/completions?api-version=2023-05-15 \"HTTP/1.1 200 OK\"\n",
      "HTTP Request: POST https://newsaugsponsored.openai.azure.com//openai/deployments/AzureNewsAug/chat/completions?api-version=2023-05-15 \"HTTP/1.1 200 OK\"\n",
      "INFO:httpx:HTTP Request: POST https://newsaugsponsored.openai.azure.com//openai/deployments/AzureNewsAug/chat/completions?api-version=2023-05-15 \"HTTP/1.1 200 OK\"\n",
      "HTTP Request: POST https://newsaugsponsored.openai.azure.com//openai/deployments/AzureNewsAug/chat/completions?api-version=2023-05-15 \"HTTP/1.1 200 OK\"\n",
      "HTTP Request: POST https://newsaugsponsored.openai.azure.com//openai/deployments/AzureNewsAug/chat/completions?api-version=2023-05-15 \"HTTP/1.1 200 OK\"\n"
     ]
    },
    {
     "name": "stderr",
     "output_type": "stream",
     "text": [
      "/home/g2/.local/lib/python3.10/site-packages/llama_index/core/evaluation/dataset_generation.py:312: DeprecationWarning: Call to deprecated class QueryResponseDataset. (Deprecated in favor of `LabelledRagDataset` which should be used instead.)\n",
      "  return QueryResponseDataset(queries=queries, responses=responses_dict)\n",
      "/home/g2/.local/lib/python3.10/site-packages/llama_index/core/evaluation/dataset_generation.py:215: DeprecationWarning: Call to deprecated class DatasetGenerator. (Deprecated in favor of `RagDatasetGenerator` which should be used instead.)\n",
      "  return cls(\n"
     ]
    },
    {
     "name": "stdout",
     "output_type": "stream",
     "text": [
      "INFO:httpx:HTTP Request: POST https://newsaugsponsored.openai.azure.com//openai/deployments/AzureNewsAug/chat/completions?api-version=2023-05-15 \"HTTP/1.1 200 OK\"\n",
      "HTTP Request: POST https://newsaugsponsored.openai.azure.com//openai/deployments/AzureNewsAug/chat/completions?api-version=2023-05-15 \"HTTP/1.1 200 OK\"\n",
      "HTTP Request: POST https://newsaugsponsored.openai.azure.com//openai/deployments/AzureNewsAug/chat/completions?api-version=2023-05-15 \"HTTP/1.1 200 OK\"\n",
      "INFO:httpx:HTTP Request: POST https://newsaugsponsored.openai.azure.com//openai/deployments/AzureNewsAug/chat/completions?api-version=2023-05-15 \"HTTP/1.1 200 OK\"\n",
      "HTTP Request: POST https://newsaugsponsored.openai.azure.com//openai/deployments/AzureNewsAug/chat/completions?api-version=2023-05-15 \"HTTP/1.1 200 OK\"\n",
      "HTTP Request: POST https://newsaugsponsored.openai.azure.com//openai/deployments/AzureNewsAug/chat/completions?api-version=2023-05-15 \"HTTP/1.1 200 OK\"\n",
      "INFO:httpx:HTTP Request: POST https://newsaugsponsored.openai.azure.com//openai/deployments/AzureNewsAug/chat/completions?api-version=2023-05-15 \"HTTP/1.1 200 OK\"\n",
      "HTTP Request: POST https://newsaugsponsored.openai.azure.com//openai/deployments/AzureNewsAug/chat/completions?api-version=2023-05-15 \"HTTP/1.1 200 OK\"\n",
      "HTTP Request: POST https://newsaugsponsored.openai.azure.com//openai/deployments/AzureNewsAug/chat/completions?api-version=2023-05-15 \"HTTP/1.1 200 OK\"\n"
     ]
    },
    {
     "name": "stderr",
     "output_type": "stream",
     "text": [
      "/home/g2/.local/lib/python3.10/site-packages/llama_index/core/evaluation/dataset_generation.py:312: DeprecationWarning: Call to deprecated class QueryResponseDataset. (Deprecated in favor of `LabelledRagDataset` which should be used instead.)\n",
      "  return QueryResponseDataset(queries=queries, responses=responses_dict)\n",
      "/home/g2/.local/lib/python3.10/site-packages/llama_index/core/evaluation/dataset_generation.py:215: DeprecationWarning: Call to deprecated class DatasetGenerator. (Deprecated in favor of `RagDatasetGenerator` which should be used instead.)\n",
      "  return cls(\n"
     ]
    },
    {
     "name": "stdout",
     "output_type": "stream",
     "text": [
      "INFO:httpx:HTTP Request: POST https://newsaugsponsored.openai.azure.com//openai/deployments/AzureNewsAug/chat/completions?api-version=2023-05-15 \"HTTP/1.1 200 OK\"\n",
      "HTTP Request: POST https://newsaugsponsored.openai.azure.com//openai/deployments/AzureNewsAug/chat/completions?api-version=2023-05-15 \"HTTP/1.1 200 OK\"\n",
      "HTTP Request: POST https://newsaugsponsored.openai.azure.com//openai/deployments/AzureNewsAug/chat/completions?api-version=2023-05-15 \"HTTP/1.1 200 OK\"\n",
      "INFO:httpx:HTTP Request: POST https://newsaugsponsored.openai.azure.com//openai/deployments/AzureNewsAug/chat/completions?api-version=2023-05-15 \"HTTP/1.1 200 OK\"\n",
      "HTTP Request: POST https://newsaugsponsored.openai.azure.com//openai/deployments/AzureNewsAug/chat/completions?api-version=2023-05-15 \"HTTP/1.1 200 OK\"\n",
      "HTTP Request: POST https://newsaugsponsored.openai.azure.com//openai/deployments/AzureNewsAug/chat/completions?api-version=2023-05-15 \"HTTP/1.1 200 OK\"\n"
     ]
    },
    {
     "name": "stderr",
     "output_type": "stream",
     "text": [
      "/home/g2/.local/lib/python3.10/site-packages/llama_index/core/evaluation/dataset_generation.py:312: DeprecationWarning: Call to deprecated class QueryResponseDataset. (Deprecated in favor of `LabelledRagDataset` which should be used instead.)\n",
      "  return QueryResponseDataset(queries=queries, responses=responses_dict)\n",
      "/home/g2/.local/lib/python3.10/site-packages/llama_index/core/evaluation/dataset_generation.py:215: DeprecationWarning: Call to deprecated class DatasetGenerator. (Deprecated in favor of `RagDatasetGenerator` which should be used instead.)\n",
      "  return cls(\n"
     ]
    },
    {
     "name": "stdout",
     "output_type": "stream",
     "text": [
      "INFO:httpx:HTTP Request: POST https://newsaugsponsored.openai.azure.com//openai/deployments/AzureNewsAug/chat/completions?api-version=2023-05-15 \"HTTP/1.1 200 OK\"\n",
      "HTTP Request: POST https://newsaugsponsored.openai.azure.com//openai/deployments/AzureNewsAug/chat/completions?api-version=2023-05-15 \"HTTP/1.1 200 OK\"\n",
      "HTTP Request: POST https://newsaugsponsored.openai.azure.com//openai/deployments/AzureNewsAug/chat/completions?api-version=2023-05-15 \"HTTP/1.1 200 OK\"\n",
      "INFO:httpx:HTTP Request: POST https://newsaugsponsored.openai.azure.com//openai/deployments/AzureNewsAug/chat/completions?api-version=2023-05-15 \"HTTP/1.1 200 OK\"\n",
      "HTTP Request: POST https://newsaugsponsored.openai.azure.com//openai/deployments/AzureNewsAug/chat/completions?api-version=2023-05-15 \"HTTP/1.1 200 OK\"\n",
      "HTTP Request: POST https://newsaugsponsored.openai.azure.com//openai/deployments/AzureNewsAug/chat/completions?api-version=2023-05-15 \"HTTP/1.1 200 OK\"\n"
     ]
    },
    {
     "name": "stderr",
     "output_type": "stream",
     "text": [
      "/home/g2/.local/lib/python3.10/site-packages/llama_index/core/evaluation/dataset_generation.py:312: DeprecationWarning: Call to deprecated class QueryResponseDataset. (Deprecated in favor of `LabelledRagDataset` which should be used instead.)\n",
      "  return QueryResponseDataset(queries=queries, responses=responses_dict)\n",
      "/home/g2/.local/lib/python3.10/site-packages/llama_index/core/evaluation/dataset_generation.py:215: DeprecationWarning: Call to deprecated class DatasetGenerator. (Deprecated in favor of `RagDatasetGenerator` which should be used instead.)\n",
      "  return cls(\n"
     ]
    },
    {
     "name": "stdout",
     "output_type": "stream",
     "text": [
      "INFO:httpx:HTTP Request: POST https://newsaugsponsored.openai.azure.com//openai/deployments/AzureNewsAug/chat/completions?api-version=2023-05-15 \"HTTP/1.1 200 OK\"\n",
      "HTTP Request: POST https://newsaugsponsored.openai.azure.com//openai/deployments/AzureNewsAug/chat/completions?api-version=2023-05-15 \"HTTP/1.1 200 OK\"\n",
      "HTTP Request: POST https://newsaugsponsored.openai.azure.com//openai/deployments/AzureNewsAug/chat/completions?api-version=2023-05-15 \"HTTP/1.1 200 OK\"\n",
      "INFO:httpx:HTTP Request: POST https://newsaugsponsored.openai.azure.com//openai/deployments/AzureNewsAug/chat/completions?api-version=2023-05-15 \"HTTP/1.1 200 OK\"\n",
      "HTTP Request: POST https://newsaugsponsored.openai.azure.com//openai/deployments/AzureNewsAug/chat/completions?api-version=2023-05-15 \"HTTP/1.1 200 OK\"\n",
      "HTTP Request: POST https://newsaugsponsored.openai.azure.com//openai/deployments/AzureNewsAug/chat/completions?api-version=2023-05-15 \"HTTP/1.1 200 OK\"\n",
      "INFO:httpx:HTTP Request: POST https://newsaugsponsored.openai.azure.com//openai/deployments/AzureNewsAug/chat/completions?api-version=2023-05-15 \"HTTP/1.1 200 OK\"\n",
      "HTTP Request: POST https://newsaugsponsored.openai.azure.com//openai/deployments/AzureNewsAug/chat/completions?api-version=2023-05-15 \"HTTP/1.1 200 OK\"\n",
      "HTTP Request: POST https://newsaugsponsored.openai.azure.com//openai/deployments/AzureNewsAug/chat/completions?api-version=2023-05-15 \"HTTP/1.1 200 OK\"\n",
      "INFO:httpx:HTTP Request: POST https://newsaugsponsored.openai.azure.com//openai/deployments/AzureNewsAug/chat/completions?api-version=2023-05-15 \"HTTP/1.1 200 OK\"\n",
      "HTTP Request: POST https://newsaugsponsored.openai.azure.com//openai/deployments/AzureNewsAug/chat/completions?api-version=2023-05-15 \"HTTP/1.1 200 OK\"\n",
      "HTTP Request: POST https://newsaugsponsored.openai.azure.com//openai/deployments/AzureNewsAug/chat/completions?api-version=2023-05-15 \"HTTP/1.1 200 OK\"\n",
      "INFO:httpx:HTTP Request: POST https://newsaugsponsored.openai.azure.com//openai/deployments/AzureNewsAug/chat/completions?api-version=2023-05-15 \"HTTP/1.1 200 OK\"\n",
      "HTTP Request: POST https://newsaugsponsored.openai.azure.com//openai/deployments/AzureNewsAug/chat/completions?api-version=2023-05-15 \"HTTP/1.1 200 OK\"\n",
      "HTTP Request: POST https://newsaugsponsored.openai.azure.com//openai/deployments/AzureNewsAug/chat/completions?api-version=2023-05-15 \"HTTP/1.1 200 OK\"\n",
      "INFO:httpx:HTTP Request: POST https://newsaugsponsored.openai.azure.com//openai/deployments/AzureNewsAug/chat/completions?api-version=2023-05-15 \"HTTP/1.1 200 OK\"\n",
      "HTTP Request: POST https://newsaugsponsored.openai.azure.com//openai/deployments/AzureNewsAug/chat/completions?api-version=2023-05-15 \"HTTP/1.1 200 OK\"\n",
      "HTTP Request: POST https://newsaugsponsored.openai.azure.com//openai/deployments/AzureNewsAug/chat/completions?api-version=2023-05-15 \"HTTP/1.1 200 OK\"\n",
      "INFO:httpx:HTTP Request: POST https://newsaugsponsored.openai.azure.com//openai/deployments/AzureNewsAug/chat/completions?api-version=2023-05-15 \"HTTP/1.1 200 OK\"\n",
      "HTTP Request: POST https://newsaugsponsored.openai.azure.com//openai/deployments/AzureNewsAug/chat/completions?api-version=2023-05-15 \"HTTP/1.1 200 OK\"\n",
      "HTTP Request: POST https://newsaugsponsored.openai.azure.com//openai/deployments/AzureNewsAug/chat/completions?api-version=2023-05-15 \"HTTP/1.1 200 OK\"\n"
     ]
    },
    {
     "name": "stderr",
     "output_type": "stream",
     "text": [
      "/home/g2/.local/lib/python3.10/site-packages/llama_index/core/evaluation/dataset_generation.py:312: DeprecationWarning: Call to deprecated class QueryResponseDataset. (Deprecated in favor of `LabelledRagDataset` which should be used instead.)\n",
      "  return QueryResponseDataset(queries=queries, responses=responses_dict)\n",
      "/home/g2/.local/lib/python3.10/site-packages/llama_index/core/evaluation/dataset_generation.py:215: DeprecationWarning: Call to deprecated class DatasetGenerator. (Deprecated in favor of `RagDatasetGenerator` which should be used instead.)\n",
      "  return cls(\n"
     ]
    },
    {
     "name": "stdout",
     "output_type": "stream",
     "text": [
      "INFO:httpx:HTTP Request: POST https://newsaugsponsored.openai.azure.com//openai/deployments/AzureNewsAug/chat/completions?api-version=2023-05-15 \"HTTP/1.1 200 OK\"\n",
      "HTTP Request: POST https://newsaugsponsored.openai.azure.com//openai/deployments/AzureNewsAug/chat/completions?api-version=2023-05-15 \"HTTP/1.1 200 OK\"\n",
      "HTTP Request: POST https://newsaugsponsored.openai.azure.com//openai/deployments/AzureNewsAug/chat/completions?api-version=2023-05-15 \"HTTP/1.1 200 OK\"\n",
      "INFO:httpx:HTTP Request: POST https://newsaugsponsored.openai.azure.com//openai/deployments/AzureNewsAug/chat/completions?api-version=2023-05-15 \"HTTP/1.1 200 OK\"\n",
      "HTTP Request: POST https://newsaugsponsored.openai.azure.com//openai/deployments/AzureNewsAug/chat/completions?api-version=2023-05-15 \"HTTP/1.1 200 OK\"\n",
      "HTTP Request: POST https://newsaugsponsored.openai.azure.com//openai/deployments/AzureNewsAug/chat/completions?api-version=2023-05-15 \"HTTP/1.1 200 OK\"\n"
     ]
    },
    {
     "name": "stderr",
     "output_type": "stream",
     "text": [
      "/home/g2/.local/lib/python3.10/site-packages/llama_index/core/evaluation/dataset_generation.py:312: DeprecationWarning: Call to deprecated class QueryResponseDataset. (Deprecated in favor of `LabelledRagDataset` which should be used instead.)\n",
      "  return QueryResponseDataset(queries=queries, responses=responses_dict)\n",
      "/home/g2/.local/lib/python3.10/site-packages/llama_index/core/evaluation/dataset_generation.py:215: DeprecationWarning: Call to deprecated class DatasetGenerator. (Deprecated in favor of `RagDatasetGenerator` which should be used instead.)\n",
      "  return cls(\n"
     ]
    },
    {
     "name": "stdout",
     "output_type": "stream",
     "text": [
      "INFO:httpx:HTTP Request: POST https://newsaugsponsored.openai.azure.com//openai/deployments/AzureNewsAug/chat/completions?api-version=2023-05-15 \"HTTP/1.1 200 OK\"\n",
      "HTTP Request: POST https://newsaugsponsored.openai.azure.com//openai/deployments/AzureNewsAug/chat/completions?api-version=2023-05-15 \"HTTP/1.1 200 OK\"\n",
      "HTTP Request: POST https://newsaugsponsored.openai.azure.com//openai/deployments/AzureNewsAug/chat/completions?api-version=2023-05-15 \"HTTP/1.1 200 OK\"\n",
      "INFO:httpx:HTTP Request: POST https://newsaugsponsored.openai.azure.com//openai/deployments/AzureNewsAug/chat/completions?api-version=2023-05-15 \"HTTP/1.1 200 OK\"\n",
      "HTTP Request: POST https://newsaugsponsored.openai.azure.com//openai/deployments/AzureNewsAug/chat/completions?api-version=2023-05-15 \"HTTP/1.1 200 OK\"\n",
      "HTTP Request: POST https://newsaugsponsored.openai.azure.com//openai/deployments/AzureNewsAug/chat/completions?api-version=2023-05-15 \"HTTP/1.1 200 OK\"\n",
      "INFO:httpx:HTTP Request: POST https://newsaugsponsored.openai.azure.com//openai/deployments/AzureNewsAug/chat/completions?api-version=2023-05-15 \"HTTP/1.1 200 OK\"\n",
      "HTTP Request: POST https://newsaugsponsored.openai.azure.com//openai/deployments/AzureNewsAug/chat/completions?api-version=2023-05-15 \"HTTP/1.1 200 OK\"\n",
      "HTTP Request: POST https://newsaugsponsored.openai.azure.com//openai/deployments/AzureNewsAug/chat/completions?api-version=2023-05-15 \"HTTP/1.1 200 OK\"\n",
      "INFO:httpx:HTTP Request: POST https://newsaugsponsored.openai.azure.com//openai/deployments/AzureNewsAug/chat/completions?api-version=2023-05-15 \"HTTP/1.1 200 OK\"\n",
      "HTTP Request: POST https://newsaugsponsored.openai.azure.com//openai/deployments/AzureNewsAug/chat/completions?api-version=2023-05-15 \"HTTP/1.1 200 OK\"\n",
      "HTTP Request: POST https://newsaugsponsored.openai.azure.com//openai/deployments/AzureNewsAug/chat/completions?api-version=2023-05-15 \"HTTP/1.1 200 OK\"\n",
      "INFO:httpx:HTTP Request: POST https://newsaugsponsored.openai.azure.com//openai/deployments/AzureNewsAug/chat/completions?api-version=2023-05-15 \"HTTP/1.1 200 OK\"\n",
      "HTTP Request: POST https://newsaugsponsored.openai.azure.com//openai/deployments/AzureNewsAug/chat/completions?api-version=2023-05-15 \"HTTP/1.1 200 OK\"\n",
      "HTTP Request: POST https://newsaugsponsored.openai.azure.com//openai/deployments/AzureNewsAug/chat/completions?api-version=2023-05-15 \"HTTP/1.1 200 OK\"\n"
     ]
    },
    {
     "name": "stderr",
     "output_type": "stream",
     "text": [
      "/home/g2/.local/lib/python3.10/site-packages/llama_index/core/evaluation/dataset_generation.py:312: DeprecationWarning: Call to deprecated class QueryResponseDataset. (Deprecated in favor of `LabelledRagDataset` which should be used instead.)\n",
      "  return QueryResponseDataset(queries=queries, responses=responses_dict)\n",
      "/home/g2/.local/lib/python3.10/site-packages/llama_index/core/evaluation/dataset_generation.py:215: DeprecationWarning: Call to deprecated class DatasetGenerator. (Deprecated in favor of `RagDatasetGenerator` which should be used instead.)\n",
      "  return cls(\n"
     ]
    },
    {
     "name": "stdout",
     "output_type": "stream",
     "text": [
      "INFO:httpx:HTTP Request: POST https://newsaugsponsored.openai.azure.com//openai/deployments/AzureNewsAug/chat/completions?api-version=2023-05-15 \"HTTP/1.1 200 OK\"\n",
      "HTTP Request: POST https://newsaugsponsored.openai.azure.com//openai/deployments/AzureNewsAug/chat/completions?api-version=2023-05-15 \"HTTP/1.1 200 OK\"\n",
      "HTTP Request: POST https://newsaugsponsored.openai.azure.com//openai/deployments/AzureNewsAug/chat/completions?api-version=2023-05-15 \"HTTP/1.1 200 OK\"\n",
      "INFO:httpx:HTTP Request: POST https://newsaugsponsored.openai.azure.com//openai/deployments/AzureNewsAug/chat/completions?api-version=2023-05-15 \"HTTP/1.1 200 OK\"\n",
      "HTTP Request: POST https://newsaugsponsored.openai.azure.com//openai/deployments/AzureNewsAug/chat/completions?api-version=2023-05-15 \"HTTP/1.1 200 OK\"\n",
      "HTTP Request: POST https://newsaugsponsored.openai.azure.com//openai/deployments/AzureNewsAug/chat/completions?api-version=2023-05-15 \"HTTP/1.1 200 OK\"\n"
     ]
    },
    {
     "name": "stderr",
     "output_type": "stream",
     "text": [
      "/home/g2/.local/lib/python3.10/site-packages/llama_index/core/evaluation/dataset_generation.py:312: DeprecationWarning: Call to deprecated class QueryResponseDataset. (Deprecated in favor of `LabelledRagDataset` which should be used instead.)\n",
      "  return QueryResponseDataset(queries=queries, responses=responses_dict)\n",
      "/home/g2/.local/lib/python3.10/site-packages/llama_index/core/evaluation/dataset_generation.py:215: DeprecationWarning: Call to deprecated class DatasetGenerator. (Deprecated in favor of `RagDatasetGenerator` which should be used instead.)\n",
      "  return cls(\n"
     ]
    },
    {
     "name": "stdout",
     "output_type": "stream",
     "text": [
      "INFO:httpx:HTTP Request: POST https://newsaugsponsored.openai.azure.com//openai/deployments/AzureNewsAug/chat/completions?api-version=2023-05-15 \"HTTP/1.1 200 OK\"\n",
      "HTTP Request: POST https://newsaugsponsored.openai.azure.com//openai/deployments/AzureNewsAug/chat/completions?api-version=2023-05-15 \"HTTP/1.1 200 OK\"\n",
      "HTTP Request: POST https://newsaugsponsored.openai.azure.com//openai/deployments/AzureNewsAug/chat/completions?api-version=2023-05-15 \"HTTP/1.1 200 OK\"\n",
      "INFO:httpx:HTTP Request: POST https://newsaugsponsored.openai.azure.com//openai/deployments/AzureNewsAug/chat/completions?api-version=2023-05-15 \"HTTP/1.1 200 OK\"\n",
      "HTTP Request: POST https://newsaugsponsored.openai.azure.com//openai/deployments/AzureNewsAug/chat/completions?api-version=2023-05-15 \"HTTP/1.1 200 OK\"\n",
      "HTTP Request: POST https://newsaugsponsored.openai.azure.com//openai/deployments/AzureNewsAug/chat/completions?api-version=2023-05-15 \"HTTP/1.1 200 OK\"\n"
     ]
    },
    {
     "name": "stderr",
     "output_type": "stream",
     "text": [
      "/home/g2/.local/lib/python3.10/site-packages/llama_index/core/evaluation/dataset_generation.py:312: DeprecationWarning: Call to deprecated class QueryResponseDataset. (Deprecated in favor of `LabelledRagDataset` which should be used instead.)\n",
      "  return QueryResponseDataset(queries=queries, responses=responses_dict)\n",
      "/home/g2/.local/lib/python3.10/site-packages/llama_index/core/evaluation/dataset_generation.py:215: DeprecationWarning: Call to deprecated class DatasetGenerator. (Deprecated in favor of `RagDatasetGenerator` which should be used instead.)\n",
      "  return cls(\n"
     ]
    },
    {
     "name": "stdout",
     "output_type": "stream",
     "text": [
      "INFO:httpx:HTTP Request: POST https://newsaugsponsored.openai.azure.com//openai/deployments/AzureNewsAug/chat/completions?api-version=2023-05-15 \"HTTP/1.1 200 OK\"\n",
      "HTTP Request: POST https://newsaugsponsored.openai.azure.com//openai/deployments/AzureNewsAug/chat/completions?api-version=2023-05-15 \"HTTP/1.1 200 OK\"\n",
      "HTTP Request: POST https://newsaugsponsored.openai.azure.com//openai/deployments/AzureNewsAug/chat/completions?api-version=2023-05-15 \"HTTP/1.1 200 OK\"\n",
      "INFO:httpx:HTTP Request: POST https://newsaugsponsored.openai.azure.com//openai/deployments/AzureNewsAug/chat/completions?api-version=2023-05-15 \"HTTP/1.1 200 OK\"\n",
      "HTTP Request: POST https://newsaugsponsored.openai.azure.com//openai/deployments/AzureNewsAug/chat/completions?api-version=2023-05-15 \"HTTP/1.1 200 OK\"\n",
      "HTTP Request: POST https://newsaugsponsored.openai.azure.com//openai/deployments/AzureNewsAug/chat/completions?api-version=2023-05-15 \"HTTP/1.1 200 OK\"\n"
     ]
    },
    {
     "name": "stderr",
     "output_type": "stream",
     "text": [
      "/home/g2/.local/lib/python3.10/site-packages/llama_index/core/evaluation/dataset_generation.py:312: DeprecationWarning: Call to deprecated class QueryResponseDataset. (Deprecated in favor of `LabelledRagDataset` which should be used instead.)\n",
      "  return QueryResponseDataset(queries=queries, responses=responses_dict)\n",
      "/home/g2/.local/lib/python3.10/site-packages/llama_index/core/evaluation/dataset_generation.py:215: DeprecationWarning: Call to deprecated class DatasetGenerator. (Deprecated in favor of `RagDatasetGenerator` which should be used instead.)\n",
      "  return cls(\n"
     ]
    },
    {
     "name": "stdout",
     "output_type": "stream",
     "text": [
      "INFO:httpx:HTTP Request: POST https://newsaugsponsored.openai.azure.com//openai/deployments/AzureNewsAug/chat/completions?api-version=2023-05-15 \"HTTP/1.1 200 OK\"\n",
      "HTTP Request: POST https://newsaugsponsored.openai.azure.com//openai/deployments/AzureNewsAug/chat/completions?api-version=2023-05-15 \"HTTP/1.1 200 OK\"\n",
      "HTTP Request: POST https://newsaugsponsored.openai.azure.com//openai/deployments/AzureNewsAug/chat/completions?api-version=2023-05-15 \"HTTP/1.1 200 OK\"\n",
      "INFO:httpx:HTTP Request: POST https://newsaugsponsored.openai.azure.com//openai/deployments/AzureNewsAug/chat/completions?api-version=2023-05-15 \"HTTP/1.1 200 OK\"\n",
      "HTTP Request: POST https://newsaugsponsored.openai.azure.com//openai/deployments/AzureNewsAug/chat/completions?api-version=2023-05-15 \"HTTP/1.1 200 OK\"\n",
      "HTTP Request: POST https://newsaugsponsored.openai.azure.com//openai/deployments/AzureNewsAug/chat/completions?api-version=2023-05-15 \"HTTP/1.1 200 OK\"\n",
      "INFO:httpx:HTTP Request: POST https://newsaugsponsored.openai.azure.com//openai/deployments/AzureNewsAug/chat/completions?api-version=2023-05-15 \"HTTP/1.1 200 OK\"\n",
      "HTTP Request: POST https://newsaugsponsored.openai.azure.com//openai/deployments/AzureNewsAug/chat/completions?api-version=2023-05-15 \"HTTP/1.1 200 OK\"\n",
      "HTTP Request: POST https://newsaugsponsored.openai.azure.com//openai/deployments/AzureNewsAug/chat/completions?api-version=2023-05-15 \"HTTP/1.1 200 OK\"\n",
      "INFO:httpx:HTTP Request: POST https://newsaugsponsored.openai.azure.com//openai/deployments/AzureNewsAug/chat/completions?api-version=2023-05-15 \"HTTP/1.1 200 OK\"\n",
      "HTTP Request: POST https://newsaugsponsored.openai.azure.com//openai/deployments/AzureNewsAug/chat/completions?api-version=2023-05-15 \"HTTP/1.1 200 OK\"\n",
      "HTTP Request: POST https://newsaugsponsored.openai.azure.com//openai/deployments/AzureNewsAug/chat/completions?api-version=2023-05-15 \"HTTP/1.1 200 OK\"\n",
      "INFO:httpx:HTTP Request: POST https://newsaugsponsored.openai.azure.com//openai/deployments/AzureNewsAug/chat/completions?api-version=2023-05-15 \"HTTP/1.1 200 OK\"\n",
      "HTTP Request: POST https://newsaugsponsored.openai.azure.com//openai/deployments/AzureNewsAug/chat/completions?api-version=2023-05-15 \"HTTP/1.1 200 OK\"\n",
      "HTTP Request: POST https://newsaugsponsored.openai.azure.com//openai/deployments/AzureNewsAug/chat/completions?api-version=2023-05-15 \"HTTP/1.1 200 OK\"\n",
      "INFO:httpx:HTTP Request: POST https://newsaugsponsored.openai.azure.com//openai/deployments/AzureNewsAug/chat/completions?api-version=2023-05-15 \"HTTP/1.1 200 OK\"\n",
      "HTTP Request: POST https://newsaugsponsored.openai.azure.com//openai/deployments/AzureNewsAug/chat/completions?api-version=2023-05-15 \"HTTP/1.1 200 OK\"\n",
      "HTTP Request: POST https://newsaugsponsored.openai.azure.com//openai/deployments/AzureNewsAug/chat/completions?api-version=2023-05-15 \"HTTP/1.1 200 OK\"\n",
      "INFO:httpx:HTTP Request: POST https://newsaugsponsored.openai.azure.com//openai/deployments/AzureNewsAug/chat/completions?api-version=2023-05-15 \"HTTP/1.1 200 OK\"\n",
      "HTTP Request: POST https://newsaugsponsored.openai.azure.com//openai/deployments/AzureNewsAug/chat/completions?api-version=2023-05-15 \"HTTP/1.1 200 OK\"\n",
      "HTTP Request: POST https://newsaugsponsored.openai.azure.com//openai/deployments/AzureNewsAug/chat/completions?api-version=2023-05-15 \"HTTP/1.1 200 OK\"\n"
     ]
    },
    {
     "name": "stderr",
     "output_type": "stream",
     "text": [
      "/home/g2/.local/lib/python3.10/site-packages/llama_index/core/evaluation/dataset_generation.py:312: DeprecationWarning: Call to deprecated class QueryResponseDataset. (Deprecated in favor of `LabelledRagDataset` which should be used instead.)\n",
      "  return QueryResponseDataset(queries=queries, responses=responses_dict)\n",
      "/home/g2/.local/lib/python3.10/site-packages/llama_index/core/evaluation/dataset_generation.py:215: DeprecationWarning: Call to deprecated class DatasetGenerator. (Deprecated in favor of `RagDatasetGenerator` which should be used instead.)\n",
      "  return cls(\n"
     ]
    },
    {
     "name": "stdout",
     "output_type": "stream",
     "text": [
      "INFO:httpx:HTTP Request: POST https://newsaugsponsored.openai.azure.com//openai/deployments/AzureNewsAug/chat/completions?api-version=2023-05-15 \"HTTP/1.1 200 OK\"\n",
      "HTTP Request: POST https://newsaugsponsored.openai.azure.com//openai/deployments/AzureNewsAug/chat/completions?api-version=2023-05-15 \"HTTP/1.1 200 OK\"\n",
      "HTTP Request: POST https://newsaugsponsored.openai.azure.com//openai/deployments/AzureNewsAug/chat/completions?api-version=2023-05-15 \"HTTP/1.1 200 OK\"\n",
      "INFO:httpx:HTTP Request: POST https://newsaugsponsored.openai.azure.com//openai/deployments/AzureNewsAug/chat/completions?api-version=2023-05-15 \"HTTP/1.1 200 OK\"\n",
      "HTTP Request: POST https://newsaugsponsored.openai.azure.com//openai/deployments/AzureNewsAug/chat/completions?api-version=2023-05-15 \"HTTP/1.1 200 OK\"\n",
      "HTTP Request: POST https://newsaugsponsored.openai.azure.com//openai/deployments/AzureNewsAug/chat/completions?api-version=2023-05-15 \"HTTP/1.1 200 OK\"\n"
     ]
    },
    {
     "name": "stderr",
     "output_type": "stream",
     "text": [
      "/home/g2/.local/lib/python3.10/site-packages/llama_index/core/evaluation/dataset_generation.py:312: DeprecationWarning: Call to deprecated class QueryResponseDataset. (Deprecated in favor of `LabelledRagDataset` which should be used instead.)\n",
      "  return QueryResponseDataset(queries=queries, responses=responses_dict)\n",
      "/home/g2/.local/lib/python3.10/site-packages/llama_index/core/evaluation/dataset_generation.py:215: DeprecationWarning: Call to deprecated class DatasetGenerator. (Deprecated in favor of `RagDatasetGenerator` which should be used instead.)\n",
      "  return cls(\n"
     ]
    },
    {
     "name": "stdout",
     "output_type": "stream",
     "text": [
      "INFO:httpx:HTTP Request: POST https://newsaugsponsored.openai.azure.com//openai/deployments/AzureNewsAug/chat/completions?api-version=2023-05-15 \"HTTP/1.1 200 OK\"\n",
      "HTTP Request: POST https://newsaugsponsored.openai.azure.com//openai/deployments/AzureNewsAug/chat/completions?api-version=2023-05-15 \"HTTP/1.1 200 OK\"\n",
      "HTTP Request: POST https://newsaugsponsored.openai.azure.com//openai/deployments/AzureNewsAug/chat/completions?api-version=2023-05-15 \"HTTP/1.1 200 OK\"\n",
      "INFO:httpx:HTTP Request: POST https://newsaugsponsored.openai.azure.com//openai/deployments/AzureNewsAug/chat/completions?api-version=2023-05-15 \"HTTP/1.1 200 OK\"\n",
      "HTTP Request: POST https://newsaugsponsored.openai.azure.com//openai/deployments/AzureNewsAug/chat/completions?api-version=2023-05-15 \"HTTP/1.1 200 OK\"\n",
      "HTTP Request: POST https://newsaugsponsored.openai.azure.com//openai/deployments/AzureNewsAug/chat/completions?api-version=2023-05-15 \"HTTP/1.1 200 OK\"\n"
     ]
    },
    {
     "name": "stderr",
     "output_type": "stream",
     "text": [
      "/home/g2/.local/lib/python3.10/site-packages/llama_index/core/evaluation/dataset_generation.py:312: DeprecationWarning: Call to deprecated class QueryResponseDataset. (Deprecated in favor of `LabelledRagDataset` which should be used instead.)\n",
      "  return QueryResponseDataset(queries=queries, responses=responses_dict)\n",
      "/home/g2/.local/lib/python3.10/site-packages/llama_index/core/evaluation/dataset_generation.py:215: DeprecationWarning: Call to deprecated class DatasetGenerator. (Deprecated in favor of `RagDatasetGenerator` which should be used instead.)\n",
      "  return cls(\n"
     ]
    },
    {
     "name": "stdout",
     "output_type": "stream",
     "text": [
      "INFO:httpx:HTTP Request: POST https://newsaugsponsored.openai.azure.com//openai/deployments/AzureNewsAug/chat/completions?api-version=2023-05-15 \"HTTP/1.1 200 OK\"\n",
      "HTTP Request: POST https://newsaugsponsored.openai.azure.com//openai/deployments/AzureNewsAug/chat/completions?api-version=2023-05-15 \"HTTP/1.1 200 OK\"\n",
      "HTTP Request: POST https://newsaugsponsored.openai.azure.com//openai/deployments/AzureNewsAug/chat/completions?api-version=2023-05-15 \"HTTP/1.1 200 OK\"\n",
      "INFO:httpx:HTTP Request: POST https://newsaugsponsored.openai.azure.com//openai/deployments/AzureNewsAug/chat/completions?api-version=2023-05-15 \"HTTP/1.1 200 OK\"\n",
      "HTTP Request: POST https://newsaugsponsored.openai.azure.com//openai/deployments/AzureNewsAug/chat/completions?api-version=2023-05-15 \"HTTP/1.1 200 OK\"\n",
      "HTTP Request: POST https://newsaugsponsored.openai.azure.com//openai/deployments/AzureNewsAug/chat/completions?api-version=2023-05-15 \"HTTP/1.1 200 OK\"\n"
     ]
    },
    {
     "name": "stderr",
     "output_type": "stream",
     "text": [
      "/home/g2/.local/lib/python3.10/site-packages/llama_index/core/evaluation/dataset_generation.py:312: DeprecationWarning: Call to deprecated class QueryResponseDataset. (Deprecated in favor of `LabelledRagDataset` which should be used instead.)\n",
      "  return QueryResponseDataset(queries=queries, responses=responses_dict)\n"
     ]
    }
   ],
   "source": [
    "for i in range(100):\n",
    "    reader = SimpleDirectoryReader(\"testData_\"+str(i))\n",
    "    documents = reader.load_data()\n",
    "    data_generator = DatasetGenerator.from_documents(documents, llm=Settings.llm, num_questions_per_chunk=1)\n",
    "    nest_asyncio.apply()\n",
    "    eval_questions = data_generator.generate_questions_from_nodes()\n",
    "    df = pd.DataFrame(eval_questions)\n",
    "    df.to_csv('eval_questions_'+str(i)+'.csv', index=False)"
   ]
  },
  {
   "cell_type": "code",
   "execution_count": 45,
   "metadata": {},
   "outputs": [],
   "source": [
    "import csv\n",
    "\n",
    "for i in range(100):\n",
    "    file_name = 'eval_questions_{}.csv'.format(i)\n",
    "    \n",
    "    with open(file_name, 'r', newline='') as file:\n",
    "        reader = list(csv.reader(file))  \n",
    "    \n",
    "    rows = reader[1:]\n",
    "    \n",
    "    with open(file_name, 'w', newline='') as file:\n",
    "        writer = csv.writer(file)\n",
    "        writer.writerows(rows)"
   ]
  },
  {
   "cell_type": "code",
   "execution_count": null,
   "metadata": {},
   "outputs": [],
   "source": [
    "output_file = 'merged_eval_questions.csv'\n",
    "\n",
    "# Open the output file in write mode\n",
    "with open(output_file, 'w', newline='') as outfile:\n",
    "    writer = None\n",
    "    \n",
    "    # Loop through all 100 CSV files\n",
    "    for i in range(100):\n",
    "        file_name = 'eval_questions_{}.csv'.format(i)\n",
    "        \n",
    "        # Open each CSV file for reading\n",
    "        with open(file_name, 'r', newline='') as infile:\n",
    "            reader = csv.reader(infile)\n",
    "            \n",
    "            # If this is the first file, write the header\n",
    "            if writer is None:\n",
    "                writer = csv.writer(outfile)\n",
    "                writer.writerows(reader)  # Write everything including the header\n",
    "            else:\n",
    "                next(reader)  # Skip the header for subsequent files\n",
    "                writer.writerows(reader)  # Append the rest of the rows"
   ]
  }
 ],
 "metadata": {
  "kernelspec": {
   "display_name": "Python 3",
   "language": "python",
   "name": "python3"
  },
  "language_info": {
   "codemirror_mode": {
    "name": "ipython",
    "version": 3
   },
   "file_extension": ".py",
   "mimetype": "text/x-python",
   "name": "python",
   "nbconvert_exporter": "python",
   "pygments_lexer": "ipython3",
   "version": "3.10.12"
  }
 },
 "nbformat": 4,
 "nbformat_minor": 2
}
